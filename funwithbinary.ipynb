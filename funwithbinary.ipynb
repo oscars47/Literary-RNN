{
 "cells": [
  {
   "attachments": {},
   "cell_type": "markdown",
   "metadata": {},
   "source": [
    "# Fun with binary coding\n",
    "N.b. to use this Jupyter notebook you will need to run all cells.\n",
    "### Oscar Scholin"
   ]
  },
  {
   "cell_type": "markdown",
   "metadata": {},
   "source": [
    "## Initialize dictionary"
   ]
  },
  {
   "cell_type": "code",
   "execution_count": 11,
   "metadata": {},
   "outputs": [],
   "source": [
    "# give example sentence with all punctunation and characters we want\n",
    "\n",
    "ALPHABET = [' ', 'a', 'b', 'c', 'd', 'e', 'f', 'g', 'h', 'i', \n",
    "'j', 'k', 'l', 'm', 'n', 'o', 'p', 'q', 'r', 's', 't', 'u', \n",
    "'v', 'w', 'x', 'y', 'z', 'A', 'B', 'C', 'D', 'E', 'F', 'G', \n",
    "'H', 'I', 'J', 'K', 'L', 'M', 'N', 'O', 'P', 'Q', 'R', 'S', \n",
    "'T', 'U', 'V', 'W', 'X', 'Y', 'Z', '.', ',', ';', ':', '—', '!', '#', \n",
    "'$', '%', '&', \"'\", '“', '”', '(', ')', '*', '/', '?', '@', '[', '\\\\', \n",
    "']', '^', '-', '_', '{', '|', '}', \"'\", '’', '\\n', '\\t']\n",
    "\n",
    "# #master = \"the quick brown fox jumps over the lazy dog. THE QUICK BROWN FOX JUMPS OVER THE LAZY DOG, who really should have brushed his teeth; however, I do not object--they were \\n a pretty cool sweater, worth $100 and #1234567890 on trending (@elonmusk verifies this fact) *don't take me too seriously here ^^ seriously, dear reader!! ~hugs to you if you're reading this :) <=> what? are you talking to [me]. I hope not, cause I'm not listening to you & I don't care. \\|.|/. 9+10 = 21. oh yeah, old meme.`` fun characters ~~``~\\t\"\n",
    "# master = \"abcdefghijklmnopqrstuvwxyz \"\n",
    "# # extract unique characters\n",
    "# alphabet = sorted(list(set(master)))\n",
    "# # now append capital letters\n",
    "# master2 = 'ABCDEFGHIJKLMNOPQRSTUVXYZ'\n",
    "# alphabet+=sorted(list(set(master2)))\n",
    "# # now append special characters\n",
    "# alphabet+='.,;—'\n",
    "# master3 = \"?!'@#$%^&*()_/\\|[]{}\"\n",
    "# alphabet+=sorted(list(set(master3)))\n",
    "# alphabet+='\\n\\t'\n",
    "# #alphabet = list(set(alphabet))\n",
    "# #print(type(alphabet))\n",
    "# print('alphabet:', alphabet)\n",
    "# print('num characters:', len(alphabet))"
   ]
  },
  {
   "cell_type": "code",
   "execution_count": 12,
   "metadata": {},
   "outputs": [
    {
     "name": "stdout",
     "output_type": "stream",
     "text": [
      "prime list: [2, 3, 5, 7, 11, 13, 17, 19, 23, 29, 31, 37, 41, 43, 47, 53, 59, 61, 67, 71, 73, 79, 83, 89, 97, 101, 103, 107, 109, 113, 127, 131, 137, 139, 149, 151, 157, 163, 167, 173, 179, 181, 191, 193, 197, 199, 211, 223, 227, 229, 233, 239, 241, 251, 257, 263, 269, 271, 277, 281, 283, 293, 307, 311, 313, 317, 331, 337, 347, 349, 353, 359, 367, 373, 379, 383, 389, 397, 401, 409, 419, 421, 431, 433, 439]\n"
     ]
    }
   ],
   "source": [
    "# now need to generate prime counterparts to create binary representations\n",
    "\n",
    "def isprime(n):\n",
    "    #return re.compile(r'^1?$|^(11+)\\1+$').match('1' * n) is None\n",
    "    if n < 2:\n",
    "        return False\n",
    "    else:\n",
    "        for i in range(2, n):\n",
    "            if n%i == 0: # if divisible by any of the prior numbers, not prime\n",
    "                return False\n",
    "    return True # if we haven't returned False then n must be prime\n",
    "\n",
    "def gen_prime_list(max_value):\n",
    "    max_cap = 10000 # map cap to look for primes\n",
    "    primes_list = []\n",
    "\n",
    "    for i in range(1, max_cap):\n",
    "        if isprime(i)==True:\n",
    "            primes_list.append(i)\n",
    "        if len(primes_list) >= max_value:\n",
    "            return primes_list\n",
    "\n",
    "prime_list = gen_prime_list(len(ALPHABET))\n",
    "print('prime list:', prime_list)\n"
   ]
  },
  {
   "cell_type": "code",
   "execution_count": 13,
   "metadata": {},
   "outputs": [
    {
     "data": {
      "text/html": [
       "<div>\n",
       "<style scoped>\n",
       "    .dataframe tbody tr th:only-of-type {\n",
       "        vertical-align: middle;\n",
       "    }\n",
       "\n",
       "    .dataframe tbody tr th {\n",
       "        vertical-align: top;\n",
       "    }\n",
       "\n",
       "    .dataframe thead th {\n",
       "        text-align: right;\n",
       "    }\n",
       "</style>\n",
       "<table border=\"1\" class=\"dataframe\">\n",
       "  <thead>\n",
       "    <tr style=\"text-align: right;\">\n",
       "      <th></th>\n",
       "      <th>char</th>\n",
       "      <th>prime</th>\n",
       "    </tr>\n",
       "  </thead>\n",
       "  <tbody>\n",
       "    <tr>\n",
       "      <th>0</th>\n",
       "      <td></td>\n",
       "      <td>2</td>\n",
       "    </tr>\n",
       "    <tr>\n",
       "      <th>1</th>\n",
       "      <td>a</td>\n",
       "      <td>3</td>\n",
       "    </tr>\n",
       "    <tr>\n",
       "      <th>2</th>\n",
       "      <td>b</td>\n",
       "      <td>5</td>\n",
       "    </tr>\n",
       "    <tr>\n",
       "      <th>3</th>\n",
       "      <td>c</td>\n",
       "      <td>7</td>\n",
       "    </tr>\n",
       "    <tr>\n",
       "      <th>4</th>\n",
       "      <td>d</td>\n",
       "      <td>11</td>\n",
       "    </tr>\n",
       "    <tr>\n",
       "      <th>...</th>\n",
       "      <td>...</td>\n",
       "      <td>...</td>\n",
       "    </tr>\n",
       "    <tr>\n",
       "      <th>80</th>\n",
       "      <td>}</td>\n",
       "      <td>419</td>\n",
       "    </tr>\n",
       "    <tr>\n",
       "      <th>81</th>\n",
       "      <td>'</td>\n",
       "      <td>421</td>\n",
       "    </tr>\n",
       "    <tr>\n",
       "      <th>82</th>\n",
       "      <td>’</td>\n",
       "      <td>431</td>\n",
       "    </tr>\n",
       "    <tr>\n",
       "      <th>83</th>\n",
       "      <td>\\n</td>\n",
       "      <td>433</td>\n",
       "    </tr>\n",
       "    <tr>\n",
       "      <th>84</th>\n",
       "      <td>\\t</td>\n",
       "      <td>439</td>\n",
       "    </tr>\n",
       "  </tbody>\n",
       "</table>\n",
       "<p>85 rows × 2 columns</p>\n",
       "</div>"
      ],
      "text/plain": [
       "   char  prime\n",
       "0            2\n",
       "1     a      3\n",
       "2     b      5\n",
       "3     c      7\n",
       "4     d     11\n",
       "..  ...    ...\n",
       "80    }    419\n",
       "81    '    421\n",
       "82    ’    431\n",
       "83   \\n    433\n",
       "84   \\t    439\n",
       "\n",
       "[85 rows x 2 columns]"
      ]
     },
     "execution_count": 13,
     "metadata": {},
     "output_type": "execute_result"
    }
   ],
   "source": [
    "# now combine them\n",
    "import pandas as pd\n",
    "alpha_tab = pd.DataFrame({})\n",
    "alpha_tab['char']=ALPHABET\n",
    "alpha_tab['prime'] = prime_list\n",
    "alpha_tab"
   ]
  },
  {
   "cell_type": "code",
   "execution_count": 14,
   "metadata": {},
   "outputs": [
    {
     "name": "stdout",
     "output_type": "stream",
     "text": [
      "alpha prime: {' ': 2, 'a': 3, 'b': 5, 'c': 7, 'd': 11, 'e': 13, 'f': 17, 'g': 19, 'h': 23, 'i': 29, 'j': 31, 'k': 37, 'l': 41, 'm': 43, 'n': 47, 'o': 53, 'p': 59, 'q': 61, 'r': 67, 's': 71, 't': 73, 'u': 79, 'v': 83, 'w': 89, 'x': 97, 'y': 101, 'z': 103, 'A': 107, 'B': 109, 'C': 113, 'D': 127, 'E': 131, 'F': 137, 'G': 139, 'H': 149, 'I': 151, 'J': 157, 'K': 163, 'L': 167, 'M': 173, 'N': 179, 'O': 181, 'P': 191, 'Q': 193, 'R': 197, 'S': 199, 'T': 211, 'U': 223, 'V': 227, 'W': 229, 'X': 233, 'Y': 239, 'Z': 241, '.': 251, ',': 257, ';': 263, ':': 269, '—': 271, '!': 277, '#': 281, '$': 283, '%': 293, '&': 307, \"'\": 421, '“': 313, '”': 317, '(': 331, ')': 337, '*': 347, '/': 349, '?': 353, '@': 359, '[': 367, '\\\\': 373, ']': 379, '^': 383, '-': 389, '_': 397, '{': 401, '|': 409, '}': 419, '’': 431, '\\n': 433, '\\t': 439}\n",
      "-------\n",
      "prime alpha: {2: ' ', 3: 'a', 5: 'b', 7: 'c', 11: 'd', 13: 'e', 17: 'f', 19: 'g', 23: 'h', 29: 'i', 31: 'j', 37: 'k', 41: 'l', 43: 'm', 47: 'n', 53: 'o', 59: 'p', 61: 'q', 67: 'r', 71: 's', 73: 't', 79: 'u', 83: 'v', 89: 'w', 97: 'x', 101: 'y', 103: 'z', 107: 'A', 109: 'B', 113: 'C', 127: 'D', 131: 'E', 137: 'F', 139: 'G', 149: 'H', 151: 'I', 157: 'J', 163: 'K', 167: 'L', 173: 'M', 179: 'N', 181: 'O', 191: 'P', 193: 'Q', 197: 'R', 199: 'S', 211: 'T', 223: 'U', 227: 'V', 229: 'W', 233: 'X', 239: 'Y', 241: 'Z', 251: '.', 257: ',', 263: ';', 269: ':', 271: '—', 277: '!', 281: '#', 283: '$', 293: '%', 307: '&', 311: \"'\", 313: '“', 317: '”', 331: '(', 337: ')', 347: '*', 349: '/', 353: '?', 359: '@', 367: '[', 373: '\\\\', 379: ']', 383: '^', 389: '-', 397: '_', 401: '{', 409: '|', 419: '}', 421: \"'\", 431: '’', 433: '\\n', 439: '\\t'}\n"
     ]
    }
   ],
   "source": [
    "# now create the dictionary from character to prime\n",
    "alpha_prime_dict = dict(zip(ALPHABET, prime_list))\n",
    "print('alpha prime:', alpha_prime_dict)\n",
    "\n",
    "print('-------')\n",
    "\n",
    "# now go backwards\n",
    "prime_alpha_dict = dict(zip(prime_list, ALPHABET))\n",
    "print('prime alpha:', prime_alpha_dict)"
   ]
  },
  {
   "cell_type": "markdown",
   "metadata": {},
   "source": [
    "## Create binary representations of numbers"
   ]
  },
  {
   "cell_type": "code",
   "execution_count": 15,
   "metadata": {},
   "outputs": [],
   "source": [
    "# function to create binary representations\n",
    "def get_binary(num):\n",
    "    return bin(num).replace(\"0b\", \"\")\n",
    "\n",
    "# function to get digit representation\n",
    "def get_digit(binary):\n",
    "    return int(binary, 2)"
   ]
  },
  {
   "cell_type": "code",
   "execution_count": 16,
   "metadata": {},
   "outputs": [
    {
     "data": {
      "text/html": [
       "<div>\n",
       "<style scoped>\n",
       "    .dataframe tbody tr th:only-of-type {\n",
       "        vertical-align: middle;\n",
       "    }\n",
       "\n",
       "    .dataframe tbody tr th {\n",
       "        vertical-align: top;\n",
       "    }\n",
       "\n",
       "    .dataframe thead th {\n",
       "        text-align: right;\n",
       "    }\n",
       "</style>\n",
       "<table border=\"1\" class=\"dataframe\">\n",
       "  <thead>\n",
       "    <tr style=\"text-align: right;\">\n",
       "      <th></th>\n",
       "      <th>char</th>\n",
       "      <th>prime</th>\n",
       "      <th>binary</th>\n",
       "    </tr>\n",
       "  </thead>\n",
       "  <tbody>\n",
       "    <tr>\n",
       "      <th>0</th>\n",
       "      <td></td>\n",
       "      <td>2</td>\n",
       "      <td>10</td>\n",
       "    </tr>\n",
       "    <tr>\n",
       "      <th>1</th>\n",
       "      <td>a</td>\n",
       "      <td>3</td>\n",
       "      <td>11</td>\n",
       "    </tr>\n",
       "    <tr>\n",
       "      <th>2</th>\n",
       "      <td>b</td>\n",
       "      <td>5</td>\n",
       "      <td>101</td>\n",
       "    </tr>\n",
       "    <tr>\n",
       "      <th>3</th>\n",
       "      <td>c</td>\n",
       "      <td>7</td>\n",
       "      <td>111</td>\n",
       "    </tr>\n",
       "    <tr>\n",
       "      <th>4</th>\n",
       "      <td>d</td>\n",
       "      <td>11</td>\n",
       "      <td>1011</td>\n",
       "    </tr>\n",
       "    <tr>\n",
       "      <th>...</th>\n",
       "      <td>...</td>\n",
       "      <td>...</td>\n",
       "      <td>...</td>\n",
       "    </tr>\n",
       "    <tr>\n",
       "      <th>80</th>\n",
       "      <td>}</td>\n",
       "      <td>419</td>\n",
       "      <td>110100011</td>\n",
       "    </tr>\n",
       "    <tr>\n",
       "      <th>81</th>\n",
       "      <td>'</td>\n",
       "      <td>421</td>\n",
       "      <td>110100101</td>\n",
       "    </tr>\n",
       "    <tr>\n",
       "      <th>82</th>\n",
       "      <td>’</td>\n",
       "      <td>431</td>\n",
       "      <td>110101111</td>\n",
       "    </tr>\n",
       "    <tr>\n",
       "      <th>83</th>\n",
       "      <td>\\n</td>\n",
       "      <td>433</td>\n",
       "      <td>110110001</td>\n",
       "    </tr>\n",
       "    <tr>\n",
       "      <th>84</th>\n",
       "      <td>\\t</td>\n",
       "      <td>439</td>\n",
       "      <td>110110111</td>\n",
       "    </tr>\n",
       "  </tbody>\n",
       "</table>\n",
       "<p>85 rows × 3 columns</p>\n",
       "</div>"
      ],
      "text/plain": [
       "   char  prime     binary\n",
       "0            2         10\n",
       "1     a      3         11\n",
       "2     b      5        101\n",
       "3     c      7        111\n",
       "4     d     11       1011\n",
       "..  ...    ...        ...\n",
       "80    }    419  110100011\n",
       "81    '    421  110100101\n",
       "82    ’    431  110101111\n",
       "83   \\n    433  110110001\n",
       "84   \\t    439  110110111\n",
       "\n",
       "[85 rows x 3 columns]"
      ]
     },
     "execution_count": 16,
     "metadata": {},
     "output_type": "execute_result"
    }
   ],
   "source": [
    "# get conversion direct from primes to their binary reps to build new dict\n",
    "prime_bin = []\n",
    "for prime in prime_list:\n",
    "    prime_bin.append(get_binary(prime))\n",
    "alpha_tab['binary']=prime_bin\n",
    "alpha_tab"
   ]
  },
  {
   "cell_type": "code",
   "execution_count": 17,
   "metadata": {},
   "outputs": [
    {
     "name": "stdout",
     "output_type": "stream",
     "text": [
      "alpha prime: {' ': '10', 'a': '11', 'b': '101', 'c': '111', 'd': '1011', 'e': '1101', 'f': '10001', 'g': '10011', 'h': '10111', 'i': '11101', 'j': '11111', 'k': '100101', 'l': '101001', 'm': '101011', 'n': '101111', 'o': '110101', 'p': '111011', 'q': '111101', 'r': '1000011', 's': '1000111', 't': '1001001', 'u': '1001111', 'v': '1010011', 'w': '1011001', 'x': '1100001', 'y': '1100101', 'z': '1100111', 'A': '1101011', 'B': '1101101', 'C': '1110001', 'D': '1111111', 'E': '10000011', 'F': '10001001', 'G': '10001011', 'H': '10010101', 'I': '10010111', 'J': '10011101', 'K': '10100011', 'L': '10100111', 'M': '10101101', 'N': '10110011', 'O': '10110101', 'P': '10111111', 'Q': '11000001', 'R': '11000101', 'S': '11000111', 'T': '11010011', 'U': '11011111', 'V': '11100011', 'W': '11100101', 'X': '11101001', 'Y': '11101111', 'Z': '11110001', '.': '11111011', ',': '100000001', ';': '100000111', ':': '100001101', '—': '100001111', '!': '100010101', '#': '100011001', '$': '100011011', '%': '100100101', '&': '100110011', \"'\": '110100101', '“': '100111001', '”': '100111101', '(': '101001011', ')': '101010001', '*': '101011011', '/': '101011101', '?': '101100001', '@': '101100111', '[': '101101111', '\\\\': '101110101', ']': '101111011', '^': '101111111', '-': '110000101', '_': '110001101', '{': '110010001', '|': '110011001', '}': '110100011', '’': '110101111', '\\n': '110110001', '\\t': '110110111'}\n",
      "-------\n",
      "prime alpha: {'10': ' ', '11': 'a', '101': 'b', '111': 'c', '1011': 'd', '1101': 'e', '10001': 'f', '10011': 'g', '10111': 'h', '11101': 'i', '11111': 'j', '100101': 'k', '101001': 'l', '101011': 'm', '101111': 'n', '110101': 'o', '111011': 'p', '111101': 'q', '1000011': 'r', '1000111': 's', '1001001': 't', '1001111': 'u', '1010011': 'v', '1011001': 'w', '1100001': 'x', '1100101': 'y', '1100111': 'z', '1101011': 'A', '1101101': 'B', '1110001': 'C', '1111111': 'D', '10000011': 'E', '10001001': 'F', '10001011': 'G', '10010101': 'H', '10010111': 'I', '10011101': 'J', '10100011': 'K', '10100111': 'L', '10101101': 'M', '10110011': 'N', '10110101': 'O', '10111111': 'P', '11000001': 'Q', '11000101': 'R', '11000111': 'S', '11010011': 'T', '11011111': 'U', '11100011': 'V', '11100101': 'W', '11101001': 'X', '11101111': 'Y', '11110001': 'Z', '11111011': '.', '100000001': ',', '100000111': ';', '100001101': ':', '100001111': '—', '100010101': '!', '100011001': '#', '100011011': '$', '100100101': '%', '100110011': '&', '100110111': \"'\", '100111001': '“', '100111101': '”', '101001011': '(', '101010001': ')', '101011011': '*', '101011101': '/', '101100001': '?', '101100111': '@', '101101111': '[', '101110101': '\\\\', '101111011': ']', '101111111': '^', '110000101': '-', '110001101': '_', '110010001': '{', '110011001': '|', '110100011': '}', '110100101': \"'\", '110101111': '’', '110110001': '\\n', '110110111': '\\t'}\n"
     ]
    }
   ],
   "source": [
    "# now redefine dictionaries\n",
    "alpha_bin_dict = dict(zip(ALPHABET, prime_bin))\n",
    "print('alpha prime:', alpha_bin_dict)\n",
    "\n",
    "print('-------')\n",
    "\n",
    "# now go backwards\n",
    "bin_alpha_dict = dict(zip(prime_bin, ALPHABET))\n",
    "print('prime alpha:', bin_alpha_dict)"
   ]
  },
  {
   "cell_type": "code",
   "execution_count": 18,
   "metadata": {},
   "outputs": [
    {
     "name": "stdout",
     "output_type": "stream",
     "text": [
      " \t10\n",
      "a\t11\n",
      "b\t101\n",
      "c\t111\n",
      "d\t1011\n",
      "e\t1101\n",
      "f\t10001\n",
      "g\t10011\n",
      "h\t10111\n",
      "i\t11101\n",
      "j\t11111\n",
      "k\t100101\n",
      "l\t101001\n",
      "m\t101011\n",
      "n\t101111\n",
      "o\t110101\n",
      "p\t111011\n",
      "q\t111101\n",
      "r\t1000011\n",
      "s\t1000111\n",
      "t\t1001001\n",
      "u\t1001111\n",
      "v\t1010011\n",
      "w\t1011001\n",
      "x\t1100001\n",
      "y\t1100101\n",
      "z\t1100111\n",
      "A\t1101011\n",
      "B\t1101101\n",
      "C\t1110001\n",
      "D\t1111111\n",
      "E\t10000011\n",
      "F\t10001001\n",
      "G\t10001011\n",
      "H\t10010101\n",
      "I\t10010111\n",
      "J\t10011101\n",
      "K\t10100011\n",
      "L\t10100111\n",
      "M\t10101101\n",
      "N\t10110011\n",
      "O\t10110101\n",
      "P\t10111111\n",
      "Q\t11000001\n",
      "R\t11000101\n",
      "S\t11000111\n",
      "T\t11010011\n",
      "U\t11011111\n",
      "V\t11100011\n",
      "W\t11100101\n",
      "X\t11101001\n",
      "Y\t11101111\n",
      "Z\t11110001\n",
      ".\t11111011\n",
      ",\t100000001\n",
      ";\t100000111\n",
      ":\t100001101\n",
      "—\t100001111\n",
      "!\t100010101\n",
      "#\t100011001\n",
      "$\t100011011\n",
      "%\t100100101\n",
      "&\t100110011\n",
      "'\t110100101\n",
      "“\t100111001\n",
      "”\t100111101\n",
      "(\t101001011\n",
      ")\t101010001\n",
      "*\t101011011\n",
      "/\t101011101\n",
      "?\t101100001\n",
      "@\t101100111\n",
      "[\t101101111\n",
      "\\\t101110101\n",
      "]\t101111011\n",
      "^\t101111111\n",
      "-\t110000101\n",
      "_\t110001101\n",
      "{\t110010001\n",
      "|\t110011001\n",
      "}\t110100011\n",
      "’\t110101111\n",
      "\n",
      "\t110110001\n",
      "\t\t110110111\n"
     ]
    }
   ],
   "source": [
    "# print dictionary\n",
    "for key in alpha_bin_dict:\n",
    "    print(key +'\\t' + alpha_bin_dict[key])"
   ]
  },
  {
   "cell_type": "code",
   "execution_count": 19,
   "metadata": {},
   "outputs": [],
   "source": [
    "# create encoder\n",
    "def encode(text):\n",
    "    binary = '' # complete binary string\n",
    "    for i, c in enumerate(text): # go through all characters\n",
    "        binary += alpha_bin_dict[c]\n",
    "        if i < len(text)-1:\n",
    "            binary +='.' #  append divider\n",
    "    return binary"
   ]
  },
  {
   "cell_type": "code",
   "execution_count": 20,
   "metadata": {},
   "outputs": [],
   "source": [
    "# create decoder\n",
    "def decode(binary):\n",
    "    # initialize return string\n",
    "    output = ''\n",
    "    # split string by '|':\n",
    "    bin_list = binary.split('.')\n",
    "    # remove the first and last elements in list\n",
    "    #print(bin_list)\n",
    "    # now go through each character string separately\n",
    "    for b in bin_list:\n",
    "        # now get character\n",
    "        c = bin_alpha_dict[b]\n",
    "        output+=c\n",
    "    return output"
   ]
  },
  {
   "cell_type": "markdown",
   "metadata": {},
   "source": [
    "## Try the results yourself!"
   ]
  },
  {
   "cell_type": "code",
   "execution_count": 29,
   "metadata": {},
   "outputs": [
    {
     "data": {
      "text/plain": [
       "'10010101.1101.101001.101001.110101.10.10001.1000011.110101.101011.10.1001001.10111.1101.10.111.10111.11101.101001.1011.1000011.1101.101111.10.110101.10001.10.111011.101001.11.101111.1101.1001001.10.10000011.11.1000011.1001001.10111.100010101'"
      ]
     },
     "execution_count": 29,
     "metadata": {},
     "output_type": "execute_result"
    }
   ],
   "source": [
    "# TRY THE ENCODER HERE: ENTER YOUR TEXT AS 'TEXT'\n",
    "text = 'Hello from the children of planet Earth!'\n",
    "code = encode(text)\n",
    "code"
   ]
  },
  {
   "cell_type": "code",
   "execution_count": 33,
   "metadata": {},
   "outputs": [
    {
     "name": "stdout",
     "output_type": "stream",
     "text": [
      "Alea Iactatur\n"
     ]
    }
   ],
   "source": [
    "# TRY THE ENCODER HERE: ENTER YOUR BINARY AS 'CODE'!\n",
    "#code = '1101011.101001.1101.11.10.10010111.11.111.1001001.11.1001001.1001111.1000011'\n",
    "print(decode(code))"
   ]
  },
  {
   "cell_type": "code",
   "execution_count": 59,
   "metadata": {},
   "outputs": [
    {
     "ename": "ValueError",
     "evalue": "invalid literal for int() with base 2: '10111.1101.101001.101001.110101.10.1011001.110101.1000011.101001.1011.100001101'",
     "output_type": "error",
     "traceback": [
      "\u001b[0;31m---------------------------------------------------------------------------\u001b[0m",
      "\u001b[0;31mValueError\u001b[0m                                Traceback (most recent call last)",
      "\u001b[0;32m/tmp/ipykernel_55028/1910891095.py\u001b[0m in \u001b[0;36m<module>\u001b[0;34m\u001b[0m\n\u001b[1;32m      1\u001b[0m \u001b[0;31m# getting information on single characters only\u001b[0m\u001b[0;34m\u001b[0m\u001b[0;34m\u001b[0m\u001b[0m\n\u001b[0;32m----> 2\u001b[0;31m \u001b[0mprime\u001b[0m \u001b[0;34m=\u001b[0m \u001b[0mget_digit\u001b[0m\u001b[0;34m(\u001b[0m\u001b[0mcode\u001b[0m\u001b[0;34m)\u001b[0m\u001b[0;34m\u001b[0m\u001b[0;34m\u001b[0m\u001b[0m\n\u001b[0m\u001b[1;32m      3\u001b[0m \u001b[0mprint\u001b[0m\u001b[0;34m(\u001b[0m\u001b[0;34m'prime:'\u001b[0m\u001b[0;34m,\u001b[0m \u001b[0mprime\u001b[0m\u001b[0;34m)\u001b[0m\u001b[0;34m\u001b[0m\u001b[0;34m\u001b[0m\u001b[0m\n\u001b[1;32m      4\u001b[0m \u001b[0mprint\u001b[0m\u001b[0;34m(\u001b[0m\u001b[0;34m'index:'\u001b[0m\u001b[0;34m,\u001b[0m \u001b[0mprime_list\u001b[0m\u001b[0;34m.\u001b[0m\u001b[0mindex\u001b[0m\u001b[0;34m(\u001b[0m\u001b[0mprime\u001b[0m\u001b[0;34m)\u001b[0m\u001b[0;34m)\u001b[0m\u001b[0;34m\u001b[0m\u001b[0;34m\u001b[0m\u001b[0m\n",
      "\u001b[0;32m/tmp/ipykernel_55028/3707978771.py\u001b[0m in \u001b[0;36mget_digit\u001b[0;34m(binary)\u001b[0m\n\u001b[1;32m      5\u001b[0m \u001b[0;31m# function to get digit representation\u001b[0m\u001b[0;34m\u001b[0m\u001b[0;34m\u001b[0m\u001b[0m\n\u001b[1;32m      6\u001b[0m \u001b[0;32mdef\u001b[0m \u001b[0mget_digit\u001b[0m\u001b[0;34m(\u001b[0m\u001b[0mbinary\u001b[0m\u001b[0;34m)\u001b[0m\u001b[0;34m:\u001b[0m\u001b[0;34m\u001b[0m\u001b[0;34m\u001b[0m\u001b[0m\n\u001b[0;32m----> 7\u001b[0;31m     \u001b[0;32mreturn\u001b[0m \u001b[0mint\u001b[0m\u001b[0;34m(\u001b[0m\u001b[0mbinary\u001b[0m\u001b[0;34m,\u001b[0m \u001b[0;36m2\u001b[0m\u001b[0;34m)\u001b[0m\u001b[0;34m\u001b[0m\u001b[0;34m\u001b[0m\u001b[0m\n\u001b[0m",
      "\u001b[0;31mValueError\u001b[0m: invalid literal for int() with base 2: '10111.1101.101001.101001.110101.10.1011001.110101.1000011.101001.1011.100001101'"
     ]
    }
   ],
   "source": [
    "# getting information on single characters only\n",
    "prime = get_digit(code)\n",
    "print('prime:', prime)\n",
    "print('index:', prime_list.index(prime))"
   ]
  },
  {
   "cell_type": "code",
   "execution_count": 60,
   "metadata": {},
   "outputs": [
    {
     "data": {
      "text/plain": [
       "'!dlrow olleh'"
      ]
     },
     "execution_count": 60,
     "metadata": {},
     "output_type": "execute_result"
    }
   ],
   "source": [
    "# reorder characters\n",
    "def reorder(sentence):\n",
    "    new = ''\n",
    "    for i in range(len(sentence)):\n",
    "        new+=sentence[len(sentence)-1-i]\n",
    "    return new\n",
    "\n",
    "\n",
    "reorder('hello world!')"
   ]
  }
 ],
 "metadata": {
  "kernelspec": {
   "display_name": "Python 3",
   "language": "python",
   "name": "python3"
  },
  "language_info": {
   "codemirror_mode": {
    "name": "ipython",
    "version": 3
   },
   "file_extension": ".py",
   "mimetype": "text/x-python",
   "name": "python",
   "nbconvert_exporter": "python",
   "pygments_lexer": "ipython3",
   "version": "3.9.13"
  },
  "orig_nbformat": 4,
  "vscode": {
   "interpreter": {
    "hash": "aaf8a3611b879056867134183afc22ea709e115b10fb7684e1dbf805b3500c4a"
   }
  }
 },
 "nbformat": 4,
 "nbformat_minor": 2
}
