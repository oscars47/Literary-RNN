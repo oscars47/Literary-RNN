{
 "cells": [
  {
   "cell_type": "markdown",
   "metadata": {},
   "source": [
    "# Fun with binary coding\n",
    "### N.b. to use this Jupyter notebook you will need to run all cells\n",
    "### Oscar Scholin"
   ]
  },
  {
   "cell_type": "markdown",
   "metadata": {},
   "source": [
    "## Initialize dictionary"
   ]
  },
  {
   "cell_type": "code",
   "execution_count": 111,
   "metadata": {},
   "outputs": [
    {
     "name": "stdout",
     "output_type": "stream",
     "text": [
      "alphabet: [' ', 'a', 'b', 'c', 'd', 'e', 'f', 'g', 'h', 'i', 'j', 'k', 'l', 'm', 'n', 'o', 'p', 'q', 'r', 's', 't', 'u', 'v', 'w', 'x', 'y', 'z', 'A', 'B', 'C', 'D', 'E', 'F', 'G', 'H', 'I', 'J', 'K', 'L', 'M', 'N', 'O', 'P', 'Q', 'R', 'S', 'T', 'U', 'V', 'X', 'Y', 'Z', '!', '#', '$', '%', '&', \"'\", '(', ')', '*', '+', ',', '-', '.', '/', ';', '?', '@', '[', '\\\\', ']', '^', '_', '{', '|', '}']\n",
      "num characters: 77\n"
     ]
    }
   ],
   "source": [
    "# give example sentence with all punctunation and characters we want\n",
    "#master = \"the quick brown fox jumps over the lazy dog. THE QUICK BROWN FOX JUMPS OVER THE LAZY DOG, who really should have brushed his teeth; however, I do not object--they were \\n a pretty cool sweater, worth $100 and #1234567890 on trending (@elonmusk verifies this fact) *don't take me too seriously here ^^ seriously, dear reader!! ~hugs to you if you're reading this :) <=> what? are you talking to [me]. I hope not, cause I'm not listening to you & I don't care. \\|.|/. 9+10 = 21. oh yeah, old meme.`` fun characters ~~``~\\t\"\n",
    "master = \"abcdefghijklmnopqrstuvwxyz \"\n",
    "# extract unique characters\n",
    "alphabet = sorted(list(set(master)))\n",
    "# now append capital letters\n",
    "master2 = 'ABCDEFGHIJKLMNOPQRSTUVXYZ'\n",
    "alphabet+=sorted(list(set(master2)))\n",
    "# now append special characters\n",
    "master3 = \"!@#$%^&*()-_+\\|[]{};',./?'\"\n",
    "alphabet+=sorted(list(set(master3)))\n",
    "#alphabet = list(set(alphabet))\n",
    "#print(type(alphabet))\n",
    "print('alphabet:', alphabet)\n",
    "print('num characters:', len(alphabet))"
   ]
  },
  {
   "cell_type": "code",
   "execution_count": 112,
   "metadata": {},
   "outputs": [
    {
     "name": "stdout",
     "output_type": "stream",
     "text": [
      "prime list: [2, 3, 5, 7, 11, 13, 17, 19, 23, 29, 31, 37, 41, 43, 47, 53, 59, 61, 67, 71, 73, 79, 83, 89, 97, 101, 103, 107, 109, 113, 127, 131, 137, 139, 149, 151, 157, 163, 167, 173, 179, 181, 191, 193, 197, 199, 211, 223, 227, 229, 233, 239, 241, 251, 257, 263, 269, 271, 277, 281, 283, 293, 307, 311, 313, 317, 331, 337, 347, 349, 353, 359, 367, 373, 379, 383, 389]\n"
     ]
    }
   ],
   "source": [
    "# now need to generate prime counterparts to create binary representations\n",
    "import re\n",
    "\n",
    "def isprime(n):\n",
    "    return re.compile(r'^1?$|^(11+)\\1+$').match('1' * n) is None\n",
    "\n",
    "def gen_prime_list(max_value):\n",
    "    max_cap = 10000 # map cap to look for primes\n",
    "    primes_list = []\n",
    "\n",
    "    for i in range(1, max_cap):\n",
    "        if isprime(i)==True:\n",
    "            primes_list.append(i)\n",
    "        if len(primes_list) >= max_value:\n",
    "            return primes_list\n",
    "\n",
    "prime_list = gen_prime_list(len(alphabet))\n",
    "print('prime list:', prime_list)\n"
   ]
  },
  {
   "cell_type": "code",
   "execution_count": 113,
   "metadata": {},
   "outputs": [
    {
     "data": {
      "text/html": [
       "<div>\n",
       "<style scoped>\n",
       "    .dataframe tbody tr th:only-of-type {\n",
       "        vertical-align: middle;\n",
       "    }\n",
       "\n",
       "    .dataframe tbody tr th {\n",
       "        vertical-align: top;\n",
       "    }\n",
       "\n",
       "    .dataframe thead th {\n",
       "        text-align: right;\n",
       "    }\n",
       "</style>\n",
       "<table border=\"1\" class=\"dataframe\">\n",
       "  <thead>\n",
       "    <tr style=\"text-align: right;\">\n",
       "      <th></th>\n",
       "      <th>char</th>\n",
       "      <th>prime</th>\n",
       "    </tr>\n",
       "  </thead>\n",
       "  <tbody>\n",
       "    <tr>\n",
       "      <th>0</th>\n",
       "      <td></td>\n",
       "      <td>2</td>\n",
       "    </tr>\n",
       "    <tr>\n",
       "      <th>1</th>\n",
       "      <td>a</td>\n",
       "      <td>3</td>\n",
       "    </tr>\n",
       "    <tr>\n",
       "      <th>2</th>\n",
       "      <td>b</td>\n",
       "      <td>5</td>\n",
       "    </tr>\n",
       "    <tr>\n",
       "      <th>3</th>\n",
       "      <td>c</td>\n",
       "      <td>7</td>\n",
       "    </tr>\n",
       "    <tr>\n",
       "      <th>4</th>\n",
       "      <td>d</td>\n",
       "      <td>11</td>\n",
       "    </tr>\n",
       "    <tr>\n",
       "      <th>...</th>\n",
       "      <td>...</td>\n",
       "      <td>...</td>\n",
       "    </tr>\n",
       "    <tr>\n",
       "      <th>72</th>\n",
       "      <td>^</td>\n",
       "      <td>367</td>\n",
       "    </tr>\n",
       "    <tr>\n",
       "      <th>73</th>\n",
       "      <td>_</td>\n",
       "      <td>373</td>\n",
       "    </tr>\n",
       "    <tr>\n",
       "      <th>74</th>\n",
       "      <td>{</td>\n",
       "      <td>379</td>\n",
       "    </tr>\n",
       "    <tr>\n",
       "      <th>75</th>\n",
       "      <td>|</td>\n",
       "      <td>383</td>\n",
       "    </tr>\n",
       "    <tr>\n",
       "      <th>76</th>\n",
       "      <td>}</td>\n",
       "      <td>389</td>\n",
       "    </tr>\n",
       "  </tbody>\n",
       "</table>\n",
       "<p>77 rows × 2 columns</p>\n",
       "</div>"
      ],
      "text/plain": [
       "   char  prime\n",
       "0            2\n",
       "1     a      3\n",
       "2     b      5\n",
       "3     c      7\n",
       "4     d     11\n",
       "..  ...    ...\n",
       "72    ^    367\n",
       "73    _    373\n",
       "74    {    379\n",
       "75    |    383\n",
       "76    }    389\n",
       "\n",
       "[77 rows x 2 columns]"
      ]
     },
     "execution_count": 113,
     "metadata": {},
     "output_type": "execute_result"
    }
   ],
   "source": [
    "# now combine them\n",
    "import pandas as pd\n",
    "alpha_tab = pd.DataFrame({})\n",
    "alpha_tab['char']=alphabet\n",
    "alpha_tab['prime'] = prime_list\n",
    "alpha_tab"
   ]
  },
  {
   "cell_type": "code",
   "execution_count": 114,
   "metadata": {},
   "outputs": [
    {
     "name": "stdout",
     "output_type": "stream",
     "text": [
      "alpha prime: {' ': 2, 'a': 3, 'b': 5, 'c': 7, 'd': 11, 'e': 13, 'f': 17, 'g': 19, 'h': 23, 'i': 29, 'j': 31, 'k': 37, 'l': 41, 'm': 43, 'n': 47, 'o': 53, 'p': 59, 'q': 61, 'r': 67, 's': 71, 't': 73, 'u': 79, 'v': 83, 'w': 89, 'x': 97, 'y': 101, 'z': 103, 'A': 107, 'B': 109, 'C': 113, 'D': 127, 'E': 131, 'F': 137, 'G': 139, 'H': 149, 'I': 151, 'J': 157, 'K': 163, 'L': 167, 'M': 173, 'N': 179, 'O': 181, 'P': 191, 'Q': 193, 'R': 197, 'S': 199, 'T': 211, 'U': 223, 'V': 227, 'X': 229, 'Y': 233, 'Z': 239, '!': 241, '#': 251, '$': 257, '%': 263, '&': 269, \"'\": 271, '(': 277, ')': 281, '*': 283, '+': 293, ',': 307, '-': 311, '.': 313, '/': 317, ';': 331, '?': 337, '@': 347, '[': 349, '\\\\': 353, ']': 359, '^': 367, '_': 373, '{': 379, '|': 383, '}': 389}\n",
      "-------\n",
      "prime alpha: {2: ' ', 3: 'a', 5: 'b', 7: 'c', 11: 'd', 13: 'e', 17: 'f', 19: 'g', 23: 'h', 29: 'i', 31: 'j', 37: 'k', 41: 'l', 43: 'm', 47: 'n', 53: 'o', 59: 'p', 61: 'q', 67: 'r', 71: 's', 73: 't', 79: 'u', 83: 'v', 89: 'w', 97: 'x', 101: 'y', 103: 'z', 107: 'A', 109: 'B', 113: 'C', 127: 'D', 131: 'E', 137: 'F', 139: 'G', 149: 'H', 151: 'I', 157: 'J', 163: 'K', 167: 'L', 173: 'M', 179: 'N', 181: 'O', 191: 'P', 193: 'Q', 197: 'R', 199: 'S', 211: 'T', 223: 'U', 227: 'V', 229: 'X', 233: 'Y', 239: 'Z', 241: '!', 251: '#', 257: '$', 263: '%', 269: '&', 271: \"'\", 277: '(', 281: ')', 283: '*', 293: '+', 307: ',', 311: '-', 313: '.', 317: '/', 331: ';', 337: '?', 347: '@', 349: '[', 353: '\\\\', 359: ']', 367: '^', 373: '_', 379: '{', 383: '|', 389: '}'}\n"
     ]
    }
   ],
   "source": [
    "# now create the dictionary from character to prime\n",
    "alpha_prime_dict = dict(zip(alphabet, prime_list))\n",
    "print('alpha prime:', alpha_prime_dict)\n",
    "\n",
    "print('-------')\n",
    "\n",
    "# now go backwards\n",
    "prime_alpha_dict = dict(zip(prime_list, alphabet))\n",
    "print('prime alpha:', prime_alpha_dict)"
   ]
  },
  {
   "cell_type": "markdown",
   "metadata": {},
   "source": [
    "## Create binary representations of numbers"
   ]
  },
  {
   "cell_type": "code",
   "execution_count": 115,
   "metadata": {},
   "outputs": [],
   "source": [
    "# function to create binary representations\n",
    "def get_binary(num):\n",
    "    return bin(num).replace(\"0b\", \"\")\n",
    "\n",
    "# function to get digit representation\n",
    "def get_digit(binary):\n",
    "    return int(binary, 2)"
   ]
  },
  {
   "cell_type": "code",
   "execution_count": 116,
   "metadata": {},
   "outputs": [],
   "source": [
    "# create encoder\n",
    "def encode(text):\n",
    "    binary = '' # complete binary string\n",
    "    for i, c in enumerate(text): # go through all characters\n",
    "        prime = alpha_prime_dict[c]\n",
    "        binary += get_binary(prime)\n",
    "        if i < len(text)-1:\n",
    "            binary +='|' #  append divider\n",
    "    return binary"
   ]
  },
  {
   "cell_type": "code",
   "execution_count": 118,
   "metadata": {},
   "outputs": [],
   "source": [
    "# create decoder\n",
    "def decode(binary):\n",
    "    # initialize return string\n",
    "    output = ''\n",
    "    # split string by '|':\n",
    "    bin_list = binary.split('|')\n",
    "    # now go through each character string separately\n",
    "    for b in bin_list:\n",
    "        prime = get_digit(b)\n",
    "        # now get character\n",
    "        c = prime_alpha_dict[prime]\n",
    "        output+=c\n",
    "    return output"
   ]
  },
  {
   "cell_type": "markdown",
   "metadata": {},
   "source": [
    "## Try the results yourself!"
   ]
  },
  {
   "cell_type": "code",
   "execution_count": 119,
   "metadata": {},
   "outputs": [
    {
     "data": {
      "text/plain": [
       "'1100111'"
      ]
     },
     "execution_count": 119,
     "metadata": {},
     "output_type": "execute_result"
    }
   ],
   "source": [
    "# TRY THE ENCODER HERE: ENTER YOUR TEXT AS 'TEXT'\n",
    "text = 'z'\n",
    "code = encode(text)\n",
    "code"
   ]
  },
  {
   "cell_type": "code",
   "execution_count": 120,
   "metadata": {},
   "outputs": [
    {
     "data": {
      "text/plain": [
       "'z'"
      ]
     },
     "execution_count": 120,
     "metadata": {},
     "output_type": "execute_result"
    }
   ],
   "source": [
    "# TRY THE ENCODER HERE: ENTER YOUR BINARY AS 'CODE'!\n",
    "#code= '10010101'\n",
    "decode(code)"
   ]
  },
  {
   "cell_type": "code",
   "execution_count": null,
   "metadata": {},
   "outputs": [],
   "source": []
  }
 ],
 "metadata": {
  "kernelspec": {
   "display_name": "Python 3.9.7 ('base')",
   "language": "python",
   "name": "python3"
  },
  "language_info": {
   "codemirror_mode": {
    "name": "ipython",
    "version": 3
   },
   "file_extension": ".py",
   "mimetype": "text/x-python",
   "name": "python",
   "nbconvert_exporter": "python",
   "pygments_lexer": "ipython3",
   "version": "3.9.7"
  },
  "orig_nbformat": 4,
  "vscode": {
   "interpreter": {
    "hash": "40d3a090f54c6569ab1632332b64b2c03c39dcf918b08424e98f38b5ae0af88f"
   }
  }
 },
 "nbformat": 4,
 "nbformat_minor": 2
}
