{
 "cells": [
  {
   "cell_type": "markdown",
   "metadata": {},
   "source": [
    "# Nasrudin Text Recurrent Neural Network (RNN) ~ Thinking Parrot"
   ]
  },
  {
   "cell_type": "markdown",
   "metadata": {},
   "source": [
    "### Oscar Scholin\n",
    "English 151, Professor Kirk"
   ]
  },
  {
   "cell_type": "markdown",
   "metadata": {},
   "source": [
    "## Read in text file, data prep"
   ]
  },
  {
   "cell_type": "markdown",
   "metadata": {},
   "source": [
    "### Import necessary packages"
   ]
  },
  {
   "cell_type": "code",
   "execution_count": 13,
   "metadata": {},
   "outputs": [],
   "source": [
    "# defaults\n",
    "import os, random, math\n",
    "import pandas as pd\n",
    "import numpy as np\n",
    "import matplotlib.pyplot as plt\n",
    "import statistics\n",
    "\n",
    "# change backend permissions so we can use a GPU\n",
    "from os import environ\n",
    "environ[\"KERAS_BACKEND\"] = \"plaidml.keras.backend\"\n",
    "\n",
    "# machine learning libraries\n",
    "import keras, pprint # pprint allows us to visualize nested dictionaries\n",
    "from keras.models import Sequential\n",
    "from keras.layers import Dense, Activation, Dropout\n",
    "from keras.layers import LSTM\n",
    "from keras.optimizers import RMSprop\n",
    "from keras.callbacks import LambdaCallback, ModelCheckpoint, ReduceLROnPlateau\n",
    "\n",
    "# hyperparameter optmization and visualization\n",
    "import wandb\n",
    "from wandb.keras import WandbCallback"
   ]
  },
  {
   "cell_type": "markdown",
   "metadata": {},
   "source": [
    "### Set directory"
   ]
  },
  {
   "cell_type": "code",
   "execution_count": 14,
   "metadata": {},
   "outputs": [],
   "source": [
    "parent_dir = '/Users/oscarscholin/Desktop/Pomona/Junior Year/Engl151'\n",
    "os.chdir(parent_dir)"
   ]
  },
  {
   "cell_type": "markdown",
   "metadata": {},
   "source": [
    "### Read in Nasrudin text file; this will serve as the main material for training and testing"
   ]
  },
  {
   "cell_type": "code",
   "execution_count": 15,
   "metadata": {},
   "outputs": [],
   "source": [
    "# open the textfile; convert all text to lower case for ease of use\n",
    "# takes in tetxfile path\n",
    "def clean_data(path):\n",
    "    with open(path, 'r') as file:\n",
    "        text = file.read().lower()\n",
    "        # print('number of characters in textfile, including newline:', len(text))\n",
    "        # remove all new line '\\n' characters as these don't have any meaning\n",
    "        # break up into list of characters; if the char is '\\n' don't add it\n",
    "        # then recompile into string\n",
    "\n",
    "        # list of all the bad characters\n",
    "        forbidden_char = ['\\n', '\\\\', '^', '{', '|', '}', '~', '£', \n",
    "        '¥', '§', '©', '«', '¬', '®', '°', '»', '„', '•', '™', '■', '□', '►']\n",
    "\n",
    "        temp = []\n",
    "        i = 0\n",
    "        while i < (len(text)-3):\n",
    "            char = text[i]\n",
    "            char_next = text[i+1]\n",
    "            char_next_next = text[i+2]\n",
    "            char_next_next_next = text[i+3]\n",
    "            \n",
    "            # if the next character isn't a new line and char isn't '\\n', add it\n",
    "            if not(char in forbidden_char):\n",
    "                # check if next character is '¬'\n",
    "                if char_next == '¬':\n",
    "                    if (char_next_next == '\\n') or (char_next_next_next=='\\n'):\n",
    "                        temp.append(char)\n",
    "                        i+=3\n",
    "                \n",
    "                elif not(char_next in forbidden_char):\n",
    "                    temp.append(char)\n",
    "     \n",
    "                # next char is newline\n",
    "                elif char_next == '\\n':\n",
    "                    if char != ' ':\n",
    "                        temp.append(char)\n",
    "                        temp.append(' ')\n",
    "                    else:\n",
    "                        temp.append(char)\n",
    "                else:\n",
    "                    temp.append(char)\n",
    "            i+=1\n",
    "\n",
    "            # make sure we don't forget to append final character if not illegal!!\n",
    "            # print(i == len(text)-3)\n",
    "            if (i == len(text)-3) and not(char_next in forbidden_char):\n",
    "                temp.append(char_next)\n",
    "                if not(char_next_next) in forbidden_char:\n",
    "                    temp.append(char_next_next)\n",
    "                    if not(char_next_next_next) in forbidden_char:\n",
    "                        temp.append(char_next_next_next)\n",
    "\n",
    "        #reset nasrudin string\n",
    "        text = ''\n",
    "        for char in temp:\n",
    "            text += char\n",
    "\n",
    "    # print('number of characters in textfile:', len(text))\n",
    "\n",
    "    # return cleaned data file\n",
    "    return text"
   ]
  },
  {
   "cell_type": "code",
   "execution_count": 16,
   "metadata": {},
   "outputs": [
    {
     "name": "stdout",
     "output_type": "stream",
     "text": [
      "the sufis are an ancient spiritual freemasonry whose origins have never been traced or dated; nor do they themselves take much interest in such researches, being content to point out the occurrence of their own way of thought in different regions and periods. though commonly mistaken for a moslem sect, the sufis are at home in all religions: just as the “free and accepted masons” lay before them in their lodge whatever sacred book—whether bible, koran, or torah—is accepted by the temporal state. if they call islam the “shell” of sufism, this is because they believe sufism to be the secret teaching within all religions. yet according to ali el-hujwiri, an early authoritative sufi writer, the prophet mohammed himself said: “he who hears the voice of the sufi people and does not say aamin [amen] is recorded in god's presence as one of the heedless.” numerous other traditions link him with the sufis, and it was in sufi style that he ordered his followers to respect all people of a book, me\n"
     ]
    }
   ],
   "source": [
    "# get nasrudin text cleaned\n",
    "nasrudin = clean_data('sufis_full.txt')\n",
    "print(nasrudin[0:1000])"
   ]
  },
  {
   "cell_type": "markdown",
   "metadata": {},
   "source": [
    "## Analyze string -- Talking Parrot"
   ]
  },
  {
   "cell_type": "code",
   "execution_count": 17,
   "metadata": {},
   "outputs": [],
   "source": [
    "# find all words in string\n",
    "def do_analysis(text):\n",
    "    # get words\n",
    "    words = text.split(' ')\n",
    "    # get unique words\n",
    "    words_unique = list(set(words))\n",
    "    print('there are %i unique words' %(len(words_unique)))\n",
    "\n",
    "    # find most used words\n",
    "    # create pandas df with word and number of counts\n",
    "    word_count_df = pd.DataFrame({'word': [], 'count':[]})\n",
    "    for word in words_unique:\n",
    "        # don't want to count space\n",
    "        if word != ' ':\n",
    "            count = words.count(word)\n",
    "            word_count_df = word_count_df.append({'word': word, 'count': count}, ignore_index=True)\n",
    "    \n",
    "    word_count_df = word_count_df.sort_values(by = 'count', ascending=False) \n",
    "    #print(word_count_df)\n",
    "\n",
    "    #find unique phrases (distinct combinations of three sequential words)\n",
    "    phrase_count_df = pd.DataFrame({'phrase': [], 'count': []})\n",
    "    for i in range(0, len(words)-3, 3):\n",
    "        \n",
    "        if  (((words[i] != ' ') and (words[i+1] != ' ') and (words[i+2] != ' ')) and ((words[i] != '') and (words[i+1] != '') and (words[i+2] != ''))):        \n",
    "            phrase = words[i] + ' ' + words[i+1] + ' ' + words[i+2]\n",
    "\n",
    "            # don't want phrase of multiple spaces\n",
    "            \n",
    "            # if phrase doesn't show up, add it\n",
    "            if len(phrase_count_df.loc[phrase_count_df['phrase']==phrase]) == 0:\n",
    "                phrase_count_df = phrase_count_df.append({'phrase': phrase, 'count': 1}, ignore_index=True)\n",
    "            # we have repeat, so add it\n",
    "            else:\n",
    "                # find index\n",
    "                index = phrase_count_df.loc[phrase_count_df['phrase']==phrase].index.values[0]\n",
    "                # now increment count\n",
    "                count = phrase_count_df.iat[index, 1]\n",
    "                count+=1\n",
    "                phrase_count_df.iat[index, 1] = count\n",
    "\n",
    "    phrase_count_df = phrase_count_df.sort_values(by = 'count', ascending=False)\n",
    "\n",
    "    print('the most used word is \"%s\", used %i times'%(word_count_df['word'].values[0], word_count_df['count'].values[1]))\n",
    "    print('the most used phrase is \"%s\", used %i times'%(phrase_count_df['phrase'].values[0], phrase_count_df['count'].values[0]))\n",
    "    \n",
    "    return words_unique, word_count_df, phrase_count_df"
   ]
  },
  {
   "cell_type": "code",
   "execution_count": 18,
   "metadata": {},
   "outputs": [
    {
     "name": "stdout",
     "output_type": "stream",
     "text": [
      "there are 22640 unique words\n"
     ]
    },
    {
     "ename": "KeyboardInterrupt",
     "evalue": "",
     "output_type": "error",
     "traceback": [
      "\u001b[0;31m---------------------------------------------------------------------------\u001b[0m",
      "\u001b[0;31mKeyboardInterrupt\u001b[0m                         Traceback (most recent call last)",
      "\u001b[0;32m/var/folders/4q/td1j5kb117s9mnpgltqnnvqc0000gn/T/ipykernel_93408/2802690985.py\u001b[0m in \u001b[0;36m<module>\u001b[0;34m\u001b[0m\n\u001b[0;32m----> 1\u001b[0;31m \u001b[0mwords_unique\u001b[0m\u001b[0;34m,\u001b[0m \u001b[0mword_count\u001b[0m\u001b[0;34m,\u001b[0m \u001b[0mphrase_count\u001b[0m \u001b[0;34m=\u001b[0m \u001b[0mdo_analysis\u001b[0m\u001b[0;34m(\u001b[0m\u001b[0mnasrudin\u001b[0m\u001b[0;34m)\u001b[0m\u001b[0;34m\u001b[0m\u001b[0;34m\u001b[0m\u001b[0m\n\u001b[0m\u001b[1;32m      2\u001b[0m \u001b[0mphrase_count\u001b[0m\u001b[0;34m\u001b[0m\u001b[0;34m\u001b[0m\u001b[0m\n",
      "\u001b[0;32m/var/folders/4q/td1j5kb117s9mnpgltqnnvqc0000gn/T/ipykernel_93408/2114544959.py\u001b[0m in \u001b[0;36mdo_analysis\u001b[0;34m(text)\u001b[0m\n\u001b[1;32m     14\u001b[0m         \u001b[0;32mif\u001b[0m \u001b[0mword\u001b[0m \u001b[0;34m!=\u001b[0m \u001b[0;34m' '\u001b[0m\u001b[0;34m:\u001b[0m\u001b[0;34m\u001b[0m\u001b[0;34m\u001b[0m\u001b[0m\n\u001b[1;32m     15\u001b[0m             \u001b[0mcount\u001b[0m \u001b[0;34m=\u001b[0m \u001b[0mwords\u001b[0m\u001b[0;34m.\u001b[0m\u001b[0mcount\u001b[0m\u001b[0;34m(\u001b[0m\u001b[0mword\u001b[0m\u001b[0;34m)\u001b[0m\u001b[0;34m\u001b[0m\u001b[0;34m\u001b[0m\u001b[0m\n\u001b[0;32m---> 16\u001b[0;31m             \u001b[0mword_count_df\u001b[0m \u001b[0;34m=\u001b[0m \u001b[0mword_count_df\u001b[0m\u001b[0;34m.\u001b[0m\u001b[0mappend\u001b[0m\u001b[0;34m(\u001b[0m\u001b[0;34m{\u001b[0m\u001b[0;34m'word'\u001b[0m\u001b[0;34m:\u001b[0m \u001b[0mword\u001b[0m\u001b[0;34m,\u001b[0m \u001b[0;34m'count'\u001b[0m\u001b[0;34m:\u001b[0m \u001b[0mcount\u001b[0m\u001b[0;34m}\u001b[0m\u001b[0;34m,\u001b[0m \u001b[0mignore_index\u001b[0m\u001b[0;34m=\u001b[0m\u001b[0;32mTrue\u001b[0m\u001b[0;34m)\u001b[0m\u001b[0;34m\u001b[0m\u001b[0;34m\u001b[0m\u001b[0m\n\u001b[0m\u001b[1;32m     17\u001b[0m \u001b[0;34m\u001b[0m\u001b[0m\n\u001b[1;32m     18\u001b[0m     \u001b[0mword_count_df\u001b[0m \u001b[0;34m=\u001b[0m \u001b[0mword_count_df\u001b[0m\u001b[0;34m.\u001b[0m\u001b[0msort_values\u001b[0m\u001b[0;34m(\u001b[0m\u001b[0mby\u001b[0m \u001b[0;34m=\u001b[0m \u001b[0;34m'count'\u001b[0m\u001b[0;34m,\u001b[0m \u001b[0mascending\u001b[0m\u001b[0;34m=\u001b[0m\u001b[0;32mFalse\u001b[0m\u001b[0;34m)\u001b[0m\u001b[0;34m\u001b[0m\u001b[0;34m\u001b[0m\u001b[0m\n",
      "\u001b[0;32m/opt/anaconda3/lib/python3.9/site-packages/pandas/core/frame.py\u001b[0m in \u001b[0;36mappend\u001b[0;34m(self, other, ignore_index, verify_integrity, sort)\u001b[0m\n\u001b[1;32m   8930\u001b[0m                 \u001b[0;32mif\u001b[0m \u001b[0;32mnot\u001b[0m \u001b[0mignore_index\u001b[0m\u001b[0;34m:\u001b[0m\u001b[0;34m\u001b[0m\u001b[0;34m\u001b[0m\u001b[0m\n\u001b[1;32m   8931\u001b[0m                     \u001b[0;32mraise\u001b[0m \u001b[0mTypeError\u001b[0m\u001b[0;34m(\u001b[0m\u001b[0;34m\"Can only append a dict if ignore_index=True\"\u001b[0m\u001b[0;34m)\u001b[0m\u001b[0;34m\u001b[0m\u001b[0;34m\u001b[0m\u001b[0m\n\u001b[0;32m-> 8932\u001b[0;31m                 \u001b[0mother\u001b[0m \u001b[0;34m=\u001b[0m \u001b[0mSeries\u001b[0m\u001b[0;34m(\u001b[0m\u001b[0mother\u001b[0m\u001b[0;34m)\u001b[0m\u001b[0;34m\u001b[0m\u001b[0;34m\u001b[0m\u001b[0m\n\u001b[0m\u001b[1;32m   8933\u001b[0m             \u001b[0;32mif\u001b[0m \u001b[0mother\u001b[0m\u001b[0;34m.\u001b[0m\u001b[0mname\u001b[0m \u001b[0;32mis\u001b[0m \u001b[0;32mNone\u001b[0m \u001b[0;32mand\u001b[0m \u001b[0;32mnot\u001b[0m \u001b[0mignore_index\u001b[0m\u001b[0;34m:\u001b[0m\u001b[0;34m\u001b[0m\u001b[0;34m\u001b[0m\u001b[0m\n\u001b[1;32m   8934\u001b[0m                 raise TypeError(\n",
      "\u001b[0;32m/opt/anaconda3/lib/python3.9/site-packages/pandas/core/series.py\u001b[0m in \u001b[0;36m__init__\u001b[0;34m(self, data, index, dtype, name, copy, fastpath)\u001b[0m\n\u001b[1;32m    403\u001b[0m                 \u001b[0mdata\u001b[0m \u001b[0;34m=\u001b[0m \u001b[0mdata\u001b[0m\u001b[0;34m.\u001b[0m\u001b[0m_mgr\u001b[0m\u001b[0;34m\u001b[0m\u001b[0;34m\u001b[0m\u001b[0m\n\u001b[1;32m    404\u001b[0m             \u001b[0;32melif\u001b[0m \u001b[0mis_dict_like\u001b[0m\u001b[0;34m(\u001b[0m\u001b[0mdata\u001b[0m\u001b[0;34m)\u001b[0m\u001b[0;34m:\u001b[0m\u001b[0;34m\u001b[0m\u001b[0;34m\u001b[0m\u001b[0m\n\u001b[0;32m--> 405\u001b[0;31m                 \u001b[0mdata\u001b[0m\u001b[0;34m,\u001b[0m \u001b[0mindex\u001b[0m \u001b[0;34m=\u001b[0m \u001b[0mself\u001b[0m\u001b[0;34m.\u001b[0m\u001b[0m_init_dict\u001b[0m\u001b[0;34m(\u001b[0m\u001b[0mdata\u001b[0m\u001b[0;34m,\u001b[0m \u001b[0mindex\u001b[0m\u001b[0;34m,\u001b[0m \u001b[0mdtype\u001b[0m\u001b[0;34m)\u001b[0m\u001b[0;34m\u001b[0m\u001b[0;34m\u001b[0m\u001b[0m\n\u001b[0m\u001b[1;32m    406\u001b[0m                 \u001b[0mdtype\u001b[0m \u001b[0;34m=\u001b[0m \u001b[0;32mNone\u001b[0m\u001b[0;34m\u001b[0m\u001b[0;34m\u001b[0m\u001b[0m\n\u001b[1;32m    407\u001b[0m                 \u001b[0mcopy\u001b[0m \u001b[0;34m=\u001b[0m \u001b[0;32mFalse\u001b[0m\u001b[0;34m\u001b[0m\u001b[0;34m\u001b[0m\u001b[0m\n",
      "\u001b[0;32m/opt/anaconda3/lib/python3.9/site-packages/pandas/core/series.py\u001b[0m in \u001b[0;36m_init_dict\u001b[0;34m(self, data, index, dtype)\u001b[0m\n\u001b[1;32m    488\u001b[0m \u001b[0;34m\u001b[0m\u001b[0m\n\u001b[1;32m    489\u001b[0m         \u001b[0;31m# TODO: passing np.float64 to not break anything yet. See GH-17261\u001b[0m\u001b[0;34m\u001b[0m\u001b[0;34m\u001b[0m\u001b[0m\n\u001b[0;32m--> 490\u001b[0;31m         s = create_series_with_explicit_dtype(\n\u001b[0m\u001b[1;32m    491\u001b[0m             \u001b[0;31m# error: Argument \"index\" to \"create_series_with_explicit_dtype\" has\u001b[0m\u001b[0;34m\u001b[0m\u001b[0;34m\u001b[0m\u001b[0m\n\u001b[1;32m    492\u001b[0m             \u001b[0;31m# incompatible type \"Tuple[Any, ...]\"; expected \"Union[ExtensionArray,\u001b[0m\u001b[0;34m\u001b[0m\u001b[0;34m\u001b[0m\u001b[0m\n",
      "\u001b[0;32m/opt/anaconda3/lib/python3.9/site-packages/pandas/core/construction.py\u001b[0m in \u001b[0;36mcreate_series_with_explicit_dtype\u001b[0;34m(data, index, dtype, name, copy, fastpath, dtype_if_empty)\u001b[0m\n\u001b[1;32m    832\u001b[0m     \u001b[0;32mif\u001b[0m \u001b[0mis_empty_data\u001b[0m\u001b[0;34m(\u001b[0m\u001b[0mdata\u001b[0m\u001b[0;34m)\u001b[0m \u001b[0;32mand\u001b[0m \u001b[0mdtype\u001b[0m \u001b[0;32mis\u001b[0m \u001b[0;32mNone\u001b[0m\u001b[0;34m:\u001b[0m\u001b[0;34m\u001b[0m\u001b[0;34m\u001b[0m\u001b[0m\n\u001b[1;32m    833\u001b[0m         \u001b[0mdtype\u001b[0m \u001b[0;34m=\u001b[0m \u001b[0mdtype_if_empty\u001b[0m\u001b[0;34m\u001b[0m\u001b[0;34m\u001b[0m\u001b[0m\n\u001b[0;32m--> 834\u001b[0;31m     return Series(\n\u001b[0m\u001b[1;32m    835\u001b[0m         \u001b[0mdata\u001b[0m\u001b[0;34m=\u001b[0m\u001b[0mdata\u001b[0m\u001b[0;34m,\u001b[0m \u001b[0mindex\u001b[0m\u001b[0;34m=\u001b[0m\u001b[0mindex\u001b[0m\u001b[0;34m,\u001b[0m \u001b[0mdtype\u001b[0m\u001b[0;34m=\u001b[0m\u001b[0mdtype\u001b[0m\u001b[0;34m,\u001b[0m \u001b[0mname\u001b[0m\u001b[0;34m=\u001b[0m\u001b[0mname\u001b[0m\u001b[0;34m,\u001b[0m \u001b[0mcopy\u001b[0m\u001b[0;34m=\u001b[0m\u001b[0mcopy\u001b[0m\u001b[0;34m,\u001b[0m \u001b[0mfastpath\u001b[0m\u001b[0;34m=\u001b[0m\u001b[0mfastpath\u001b[0m\u001b[0;34m\u001b[0m\u001b[0;34m\u001b[0m\u001b[0m\n\u001b[1;32m    836\u001b[0m     )\n",
      "\u001b[0;32m/opt/anaconda3/lib/python3.9/site-packages/pandas/core/series.py\u001b[0m in \u001b[0;36m__init__\u001b[0;34m(self, data, index, dtype, name, copy, fastpath)\u001b[0m\n\u001b[1;32m    366\u001b[0m \u001b[0;34m\u001b[0m\u001b[0m\n\u001b[1;32m    367\u001b[0m             \u001b[0;32mif\u001b[0m \u001b[0mindex\u001b[0m \u001b[0;32mis\u001b[0m \u001b[0;32mnot\u001b[0m \u001b[0;32mNone\u001b[0m\u001b[0;34m:\u001b[0m\u001b[0;34m\u001b[0m\u001b[0;34m\u001b[0m\u001b[0m\n\u001b[0;32m--> 368\u001b[0;31m                 \u001b[0mindex\u001b[0m \u001b[0;34m=\u001b[0m \u001b[0mensure_index\u001b[0m\u001b[0;34m(\u001b[0m\u001b[0mindex\u001b[0m\u001b[0;34m)\u001b[0m\u001b[0;34m\u001b[0m\u001b[0;34m\u001b[0m\u001b[0m\n\u001b[0m\u001b[1;32m    369\u001b[0m \u001b[0;34m\u001b[0m\u001b[0m\n\u001b[1;32m    370\u001b[0m             \u001b[0;32mif\u001b[0m \u001b[0mdata\u001b[0m \u001b[0;32mis\u001b[0m \u001b[0;32mNone\u001b[0m\u001b[0;34m:\u001b[0m\u001b[0;34m\u001b[0m\u001b[0;34m\u001b[0m\u001b[0m\n",
      "\u001b[0;32m/opt/anaconda3/lib/python3.9/site-packages/pandas/core/indexes/base.py\u001b[0m in \u001b[0;36mensure_index\u001b[0;34m(index_like, copy)\u001b[0m\n\u001b[1;32m   6334\u001b[0m     \u001b[0;32melse\u001b[0m\u001b[0;34m:\u001b[0m\u001b[0;34m\u001b[0m\u001b[0;34m\u001b[0m\u001b[0m\n\u001b[1;32m   6335\u001b[0m \u001b[0;34m\u001b[0m\u001b[0m\n\u001b[0;32m-> 6336\u001b[0;31m         \u001b[0;32mreturn\u001b[0m \u001b[0mIndex\u001b[0m\u001b[0;34m(\u001b[0m\u001b[0mindex_like\u001b[0m\u001b[0;34m,\u001b[0m \u001b[0mcopy\u001b[0m\u001b[0;34m=\u001b[0m\u001b[0mcopy\u001b[0m\u001b[0;34m)\u001b[0m\u001b[0;34m\u001b[0m\u001b[0;34m\u001b[0m\u001b[0m\n\u001b[0m\u001b[1;32m   6337\u001b[0m \u001b[0;34m\u001b[0m\u001b[0m\n\u001b[1;32m   6338\u001b[0m \u001b[0;34m\u001b[0m\u001b[0m\n",
      "\u001b[0;32m/opt/anaconda3/lib/python3.9/site-packages/pandas/core/indexes/base.py\u001b[0m in \u001b[0;36m__new__\u001b[0;34m(cls, data, dtype, copy, name, tupleize_cols, **kwargs)\u001b[0m\n\u001b[1;32m    492\u001b[0m             \u001b[0;31m# other iterable of some kind\u001b[0m\u001b[0;34m\u001b[0m\u001b[0;34m\u001b[0m\u001b[0m\n\u001b[1;32m    493\u001b[0m \u001b[0;34m\u001b[0m\u001b[0m\n\u001b[0;32m--> 494\u001b[0;31m             \u001b[0msubarr\u001b[0m \u001b[0;34m=\u001b[0m \u001b[0mcom\u001b[0m\u001b[0;34m.\u001b[0m\u001b[0masarray_tuplesafe\u001b[0m\u001b[0;34m(\u001b[0m\u001b[0mdata\u001b[0m\u001b[0;34m,\u001b[0m \u001b[0mdtype\u001b[0m\u001b[0;34m=\u001b[0m\u001b[0mnp\u001b[0m\u001b[0;34m.\u001b[0m\u001b[0mdtype\u001b[0m\u001b[0;34m(\u001b[0m\u001b[0;34m\"object\"\u001b[0m\u001b[0;34m)\u001b[0m\u001b[0;34m)\u001b[0m\u001b[0;34m\u001b[0m\u001b[0;34m\u001b[0m\u001b[0m\n\u001b[0m\u001b[1;32m    495\u001b[0m             \u001b[0;32mreturn\u001b[0m \u001b[0mIndex\u001b[0m\u001b[0;34m(\u001b[0m\u001b[0msubarr\u001b[0m\u001b[0;34m,\u001b[0m \u001b[0mdtype\u001b[0m\u001b[0;34m=\u001b[0m\u001b[0mdtype\u001b[0m\u001b[0;34m,\u001b[0m \u001b[0mcopy\u001b[0m\u001b[0;34m=\u001b[0m\u001b[0mcopy\u001b[0m\u001b[0;34m,\u001b[0m \u001b[0mname\u001b[0m\u001b[0;34m=\u001b[0m\u001b[0mname\u001b[0m\u001b[0;34m,\u001b[0m \u001b[0;34m**\u001b[0m\u001b[0mkwargs\u001b[0m\u001b[0;34m)\u001b[0m\u001b[0;34m\u001b[0m\u001b[0;34m\u001b[0m\u001b[0m\n\u001b[1;32m    496\u001b[0m \u001b[0;34m\u001b[0m\u001b[0m\n",
      "\u001b[0;32m/opt/anaconda3/lib/python3.9/site-packages/pandas/core/common.py\u001b[0m in \u001b[0;36masarray_tuplesafe\u001b[0;34m(values, dtype)\u001b[0m\n\u001b[1;32m    239\u001b[0m         \u001b[0;32mreturn\u001b[0m \u001b[0mconstruct_1d_object_array_from_listlike\u001b[0m\u001b[0;34m(\u001b[0m\u001b[0mvalues\u001b[0m\u001b[0;34m)\u001b[0m\u001b[0;34m\u001b[0m\u001b[0;34m\u001b[0m\u001b[0m\n\u001b[1;32m    240\u001b[0m \u001b[0;34m\u001b[0m\u001b[0m\n\u001b[0;32m--> 241\u001b[0;31m     \u001b[0mresult\u001b[0m \u001b[0;34m=\u001b[0m \u001b[0mnp\u001b[0m\u001b[0;34m.\u001b[0m\u001b[0masarray\u001b[0m\u001b[0;34m(\u001b[0m\u001b[0mvalues\u001b[0m\u001b[0;34m,\u001b[0m \u001b[0mdtype\u001b[0m\u001b[0;34m=\u001b[0m\u001b[0mdtype\u001b[0m\u001b[0;34m)\u001b[0m\u001b[0;34m\u001b[0m\u001b[0;34m\u001b[0m\u001b[0m\n\u001b[0m\u001b[1;32m    242\u001b[0m \u001b[0;34m\u001b[0m\u001b[0m\n\u001b[1;32m    243\u001b[0m     \u001b[0;32mif\u001b[0m \u001b[0missubclass\u001b[0m\u001b[0;34m(\u001b[0m\u001b[0mresult\u001b[0m\u001b[0;34m.\u001b[0m\u001b[0mdtype\u001b[0m\u001b[0;34m.\u001b[0m\u001b[0mtype\u001b[0m\u001b[0;34m,\u001b[0m \u001b[0mstr\u001b[0m\u001b[0;34m)\u001b[0m\u001b[0;34m:\u001b[0m\u001b[0;34m\u001b[0m\u001b[0;34m\u001b[0m\u001b[0m\n",
      "\u001b[0;32m/opt/anaconda3/lib/python3.9/site-packages/numpy/core/_asarray.py\u001b[0m in \u001b[0;36masarray\u001b[0;34m(a, dtype, order, like)\u001b[0m\n\u001b[1;32m    100\u001b[0m         \u001b[0;32mreturn\u001b[0m \u001b[0m_asarray_with_like\u001b[0m\u001b[0;34m(\u001b[0m\u001b[0ma\u001b[0m\u001b[0;34m,\u001b[0m \u001b[0mdtype\u001b[0m\u001b[0;34m=\u001b[0m\u001b[0mdtype\u001b[0m\u001b[0;34m,\u001b[0m \u001b[0morder\u001b[0m\u001b[0;34m=\u001b[0m\u001b[0morder\u001b[0m\u001b[0;34m,\u001b[0m \u001b[0mlike\u001b[0m\u001b[0;34m=\u001b[0m\u001b[0mlike\u001b[0m\u001b[0;34m)\u001b[0m\u001b[0;34m\u001b[0m\u001b[0;34m\u001b[0m\u001b[0m\n\u001b[1;32m    101\u001b[0m \u001b[0;34m\u001b[0m\u001b[0m\n\u001b[0;32m--> 102\u001b[0;31m     \u001b[0;32mreturn\u001b[0m \u001b[0marray\u001b[0m\u001b[0;34m(\u001b[0m\u001b[0ma\u001b[0m\u001b[0;34m,\u001b[0m \u001b[0mdtype\u001b[0m\u001b[0;34m,\u001b[0m \u001b[0mcopy\u001b[0m\u001b[0;34m=\u001b[0m\u001b[0;32mFalse\u001b[0m\u001b[0;34m,\u001b[0m \u001b[0morder\u001b[0m\u001b[0;34m=\u001b[0m\u001b[0morder\u001b[0m\u001b[0;34m)\u001b[0m\u001b[0;34m\u001b[0m\u001b[0;34m\u001b[0m\u001b[0m\n\u001b[0m\u001b[1;32m    103\u001b[0m \u001b[0;34m\u001b[0m\u001b[0m\n\u001b[1;32m    104\u001b[0m \u001b[0;34m\u001b[0m\u001b[0m\n",
      "\u001b[0;31mKeyboardInterrupt\u001b[0m: "
     ]
    }
   ],
   "source": [
    "words_unique, word_count, phrase_count = do_analysis(nasrudin)\n",
    "phrase_count"
   ]
  },
  {
   "cell_type": "code",
   "execution_count": 32,
   "metadata": {},
   "outputs": [],
   "source": [
    "# save csvs\n",
    "# convert word_unqiue to csv\n",
    "words_unique_df = pd.DataFrame()\n",
    "words_unique_df['word']=words_unique\n",
    "\n",
    "words_unique_df.to_csv('words_unique.csv')\n",
    "word_count.to_csv('word_count.csv')\n",
    "phrase_count.to_csv('phrase_count.csv')"
   ]
  },
  {
   "cell_type": "code",
   "execution_count": 19,
   "metadata": {},
   "outputs": [],
   "source": [
    "# load in csvs\n",
    "words_unique_df = pd.read_csv('words_unique.csv').iloc[:, 1:]\n",
    "words_unique = words_unique_df['word'].to_list()\n",
    "word_count = pd.read_csv('word_count.csv').iloc[:, 1:]\n",
    "phrase_count =  pd.read_csv('phrase_count.csv').iloc[:, 1:]"
   ]
  },
  {
   "cell_type": "code",
   "execution_count": 20,
   "metadata": {},
   "outputs": [],
   "source": [
    "# remove nan character\n",
    "words_unique.remove(np.nan) "
   ]
  },
  {
   "cell_type": "code",
   "execution_count": 21,
   "metadata": {},
   "outputs": [
    {
     "data": {
      "text/plain": [
       "23765"
      ]
     },
     "execution_count": 21,
     "metadata": {},
     "output_type": "execute_result"
    }
   ],
   "source": [
    "len(words_unique)"
   ]
  },
  {
   "cell_type": "code",
   "execution_count": 22,
   "metadata": {},
   "outputs": [
    {
     "data": {
      "text/html": [
       "<div>\n",
       "<style scoped>\n",
       "    .dataframe tbody tr th:only-of-type {\n",
       "        vertical-align: middle;\n",
       "    }\n",
       "\n",
       "    .dataframe tbody tr th {\n",
       "        vertical-align: top;\n",
       "    }\n",
       "\n",
       "    .dataframe thead th {\n",
       "        text-align: right;\n",
       "    }\n",
       "</style>\n",
       "<table border=\"1\" class=\"dataframe\">\n",
       "  <thead>\n",
       "    <tr style=\"text-align: right;\">\n",
       "      <th></th>\n",
       "      <th>word</th>\n",
       "      <th>count</th>\n",
       "    </tr>\n",
       "  </thead>\n",
       "  <tbody>\n",
       "    <tr>\n",
       "      <th>0</th>\n",
       "      <td>the</td>\n",
       "      <td>12426.0</td>\n",
       "    </tr>\n",
       "    <tr>\n",
       "      <th>1</th>\n",
       "      <td>of</td>\n",
       "      <td>7215.0</td>\n",
       "    </tr>\n",
       "    <tr>\n",
       "      <th>2</th>\n",
       "      <td>to</td>\n",
       "      <td>3971.0</td>\n",
       "    </tr>\n",
       "    <tr>\n",
       "      <th>3</th>\n",
       "      <td>a</td>\n",
       "      <td>3885.0</td>\n",
       "    </tr>\n",
       "    <tr>\n",
       "      <th>4</th>\n",
       "      <td>is</td>\n",
       "      <td>3387.0</td>\n",
       "    </tr>\n",
       "    <tr>\n",
       "      <th>5</th>\n",
       "      <td>and</td>\n",
       "      <td>3325.0</td>\n",
       "    </tr>\n",
       "    <tr>\n",
       "      <th>6</th>\n",
       "      <td>in</td>\n",
       "      <td>3260.0</td>\n",
       "    </tr>\n",
       "    <tr>\n",
       "      <th>7</th>\n",
       "      <td>NaN</td>\n",
       "      <td>2348.0</td>\n",
       "    </tr>\n",
       "    <tr>\n",
       "      <th>8</th>\n",
       "      <td>he</td>\n",
       "      <td>1484.0</td>\n",
       "    </tr>\n",
       "    <tr>\n",
       "      <th>9</th>\n",
       "      <td>that</td>\n",
       "      <td>1466.0</td>\n",
       "    </tr>\n",
       "    <tr>\n",
       "      <th>10</th>\n",
       "      <td>which</td>\n",
       "      <td>1378.0</td>\n",
       "    </tr>\n",
       "    <tr>\n",
       "      <th>11</th>\n",
       "      <td>it</td>\n",
       "      <td>1348.0</td>\n",
       "    </tr>\n",
       "    <tr>\n",
       "      <th>12</th>\n",
       "      <td>as</td>\n",
       "      <td>1340.0</td>\n",
       "    </tr>\n",
       "    <tr>\n",
       "      <th>13</th>\n",
       "      <td>this</td>\n",
       "      <td>1259.0</td>\n",
       "    </tr>\n",
       "    <tr>\n",
       "      <th>14</th>\n",
       "      <td>be</td>\n",
       "      <td>1212.0</td>\n",
       "    </tr>\n",
       "    <tr>\n",
       "      <th>15</th>\n",
       "      <td>by</td>\n",
       "      <td>1174.0</td>\n",
       "    </tr>\n",
       "    <tr>\n",
       "      <th>16</th>\n",
       "      <td>his</td>\n",
       "      <td>1024.0</td>\n",
       "    </tr>\n",
       "    <tr>\n",
       "      <th>17</th>\n",
       "      <td>for</td>\n",
       "      <td>1023.0</td>\n",
       "    </tr>\n",
       "    <tr>\n",
       "      <th>18</th>\n",
       "      <td>was</td>\n",
       "      <td>1014.0</td>\n",
       "    </tr>\n",
       "    <tr>\n",
       "      <th>19</th>\n",
       "      <td>not</td>\n",
       "      <td>1005.0</td>\n",
       "    </tr>\n",
       "    <tr>\n",
       "      <th>20</th>\n",
       "      <td>sufi</td>\n",
       "      <td>940.0</td>\n",
       "    </tr>\n",
       "    <tr>\n",
       "      <th>21</th>\n",
       "      <td>are</td>\n",
       "      <td>938.0</td>\n",
       "    </tr>\n",
       "    <tr>\n",
       "      <th>22</th>\n",
       "      <td>with</td>\n",
       "      <td>905.0</td>\n",
       "    </tr>\n",
       "    <tr>\n",
       "      <th>23</th>\n",
       "      <td>or</td>\n",
       "      <td>784.0</td>\n",
       "    </tr>\n",
       "    <tr>\n",
       "      <th>24</th>\n",
       "      <td>from</td>\n",
       "      <td>695.0</td>\n",
       "    </tr>\n",
       "    <tr>\n",
       "      <th>25</th>\n",
       "      <td>an</td>\n",
       "      <td>664.0</td>\n",
       "    </tr>\n",
       "    <tr>\n",
       "      <th>26</th>\n",
       "      <td>who</td>\n",
       "      <td>582.0</td>\n",
       "    </tr>\n",
       "    <tr>\n",
       "      <th>27</th>\n",
       "      <td>they</td>\n",
       "      <td>574.0</td>\n",
       "    </tr>\n",
       "    <tr>\n",
       "      <th>28</th>\n",
       "      <td>have</td>\n",
       "      <td>572.0</td>\n",
       "    </tr>\n",
       "    <tr>\n",
       "      <th>29</th>\n",
       "      <td>one</td>\n",
       "      <td>570.0</td>\n",
       "    </tr>\n",
       "    <tr>\n",
       "      <th>30</th>\n",
       "      <td>has</td>\n",
       "      <td>564.0</td>\n",
       "    </tr>\n",
       "    <tr>\n",
       "      <th>31</th>\n",
       "      <td>at</td>\n",
       "      <td>487.0</td>\n",
       "    </tr>\n",
       "    <tr>\n",
       "      <th>32</th>\n",
       "      <td>but</td>\n",
       "      <td>479.0</td>\n",
       "    </tr>\n",
       "    <tr>\n",
       "      <th>33</th>\n",
       "      <td>on</td>\n",
       "      <td>443.0</td>\n",
       "    </tr>\n",
       "    <tr>\n",
       "      <th>34</th>\n",
       "      <td>their</td>\n",
       "      <td>432.0</td>\n",
       "    </tr>\n",
       "    <tr>\n",
       "      <th>35</th>\n",
       "      <td>you</td>\n",
       "      <td>431.0</td>\n",
       "    </tr>\n",
       "    <tr>\n",
       "      <th>36</th>\n",
       "      <td>sufis</td>\n",
       "      <td>420.0</td>\n",
       "    </tr>\n",
       "    <tr>\n",
       "      <th>37</th>\n",
       "      <td>can</td>\n",
       "      <td>411.0</td>\n",
       "    </tr>\n",
       "    <tr>\n",
       "      <th>38</th>\n",
       "      <td>all</td>\n",
       "      <td>401.0</td>\n",
       "    </tr>\n",
       "    <tr>\n",
       "      <th>39</th>\n",
       "      <td>there</td>\n",
       "      <td>395.0</td>\n",
       "    </tr>\n",
       "    <tr>\n",
       "      <th>40</th>\n",
       "      <td>what</td>\n",
       "      <td>389.0</td>\n",
       "    </tr>\n",
       "    <tr>\n",
       "      <th>41</th>\n",
       "      <td>its</td>\n",
       "      <td>384.0</td>\n",
       "    </tr>\n",
       "    <tr>\n",
       "      <th>42</th>\n",
       "      <td>i</td>\n",
       "      <td>372.0</td>\n",
       "    </tr>\n",
       "    <tr>\n",
       "      <th>43</th>\n",
       "      <td>only</td>\n",
       "      <td>371.0</td>\n",
       "    </tr>\n",
       "    <tr>\n",
       "      <th>44</th>\n",
       "      <td>will</td>\n",
       "      <td>367.0</td>\n",
       "    </tr>\n",
       "    <tr>\n",
       "      <th>45</th>\n",
       "      <td>may</td>\n",
       "      <td>359.0</td>\n",
       "    </tr>\n",
       "    <tr>\n",
       "      <th>46</th>\n",
       "      <td>when</td>\n",
       "      <td>350.0</td>\n",
       "    </tr>\n",
       "    <tr>\n",
       "      <th>47</th>\n",
       "      <td>we</td>\n",
       "      <td>344.0</td>\n",
       "    </tr>\n",
       "    <tr>\n",
       "      <th>48</th>\n",
       "      <td>been</td>\n",
       "      <td>339.0</td>\n",
       "    </tr>\n",
       "    <tr>\n",
       "      <th>49</th>\n",
       "      <td>were</td>\n",
       "      <td>338.0</td>\n",
       "    </tr>\n",
       "  </tbody>\n",
       "</table>\n",
       "</div>"
      ],
      "text/plain": [
       "     word    count\n",
       "0     the  12426.0\n",
       "1      of   7215.0\n",
       "2      to   3971.0\n",
       "3       a   3885.0\n",
       "4      is   3387.0\n",
       "5     and   3325.0\n",
       "6      in   3260.0\n",
       "7     NaN   2348.0\n",
       "8      he   1484.0\n",
       "9    that   1466.0\n",
       "10  which   1378.0\n",
       "11     it   1348.0\n",
       "12     as   1340.0\n",
       "13   this   1259.0\n",
       "14     be   1212.0\n",
       "15     by   1174.0\n",
       "16    his   1024.0\n",
       "17    for   1023.0\n",
       "18    was   1014.0\n",
       "19    not   1005.0\n",
       "20   sufi    940.0\n",
       "21    are    938.0\n",
       "22   with    905.0\n",
       "23     or    784.0\n",
       "24   from    695.0\n",
       "25     an    664.0\n",
       "26    who    582.0\n",
       "27   they    574.0\n",
       "28   have    572.0\n",
       "29    one    570.0\n",
       "30    has    564.0\n",
       "31     at    487.0\n",
       "32    but    479.0\n",
       "33     on    443.0\n",
       "34  their    432.0\n",
       "35    you    431.0\n",
       "36  sufis    420.0\n",
       "37    can    411.0\n",
       "38    all    401.0\n",
       "39  there    395.0\n",
       "40   what    389.0\n",
       "41    its    384.0\n",
       "42      i    372.0\n",
       "43   only    371.0\n",
       "44   will    367.0\n",
       "45    may    359.0\n",
       "46   when    350.0\n",
       "47     we    344.0\n",
       "48   been    339.0\n",
       "49   were    338.0"
      ]
     },
     "execution_count": 22,
     "metadata": {},
     "output_type": "execute_result"
    }
   ],
   "source": [
    "word_count.head(50)"
   ]
  },
  {
   "cell_type": "code",
   "execution_count": 33,
   "metadata": {},
   "outputs": [
    {
     "data": {
      "text/html": [
       "<div>\n",
       "<style scoped>\n",
       "    .dataframe tbody tr th:only-of-type {\n",
       "        vertical-align: middle;\n",
       "    }\n",
       "\n",
       "    .dataframe tbody tr th {\n",
       "        vertical-align: top;\n",
       "    }\n",
       "\n",
       "    .dataframe thead th {\n",
       "        text-align: right;\n",
       "    }\n",
       "</style>\n",
       "<table border=\"1\" class=\"dataframe\">\n",
       "  <thead>\n",
       "    <tr style=\"text-align: right;\">\n",
       "      <th></th>\n",
       "      <th>word</th>\n",
       "      <th>count</th>\n",
       "    </tr>\n",
       "  </thead>\n",
       "  <tbody>\n",
       "  </tbody>\n",
       "</table>\n",
       "</div>"
      ],
      "text/plain": [
       "Empty DataFrame\n",
       "Columns: [word, count]\n",
       "Index: []"
      ]
     },
     "execution_count": 33,
     "metadata": {},
     "output_type": "execute_result"
    }
   ],
   "source": [
    "word_count[word_count['word']=='coordior']"
   ]
  },
  {
   "cell_type": "code",
   "execution_count": 11,
   "metadata": {},
   "outputs": [
    {
     "data": {
      "text/html": [
       "<div>\n",
       "<style scoped>\n",
       "    .dataframe tbody tr th:only-of-type {\n",
       "        vertical-align: middle;\n",
       "    }\n",
       "\n",
       "    .dataframe tbody tr th {\n",
       "        vertical-align: top;\n",
       "    }\n",
       "\n",
       "    .dataframe thead th {\n",
       "        text-align: right;\n",
       "    }\n",
       "</style>\n",
       "<table border=\"1\" class=\"dataframe\">\n",
       "  <thead>\n",
       "    <tr style=\"text-align: right;\">\n",
       "      <th></th>\n",
       "      <th>phrase</th>\n",
       "      <th>count</th>\n",
       "    </tr>\n",
       "  </thead>\n",
       "  <tbody>\n",
       "    <tr>\n",
       "      <th>0</th>\n",
       "      <td>of the sufi</td>\n",
       "      <td>25.0</td>\n",
       "    </tr>\n",
       "    <tr>\n",
       "      <th>1</th>\n",
       "      <td>one of the</td>\n",
       "      <td>24.0</td>\n",
       "    </tr>\n",
       "    <tr>\n",
       "      <th>2</th>\n",
       "      <td>part of the</td>\n",
       "      <td>22.0</td>\n",
       "    </tr>\n",
       "    <tr>\n",
       "      <th>3</th>\n",
       "      <td>there is no</td>\n",
       "      <td>19.0</td>\n",
       "    </tr>\n",
       "    <tr>\n",
       "      <th>4</th>\n",
       "      <td>in order to</td>\n",
       "      <td>19.0</td>\n",
       "    </tr>\n",
       "    <tr>\n",
       "      <th>5</th>\n",
       "      <td>in accordance with</td>\n",
       "      <td>19.0</td>\n",
       "    </tr>\n",
       "    <tr>\n",
       "      <th>6</th>\n",
       "      <td>to be a</td>\n",
       "      <td>18.0</td>\n",
       "    </tr>\n",
       "    <tr>\n",
       "      <th>7</th>\n",
       "      <td>by means of</td>\n",
       "      <td>17.0</td>\n",
       "    </tr>\n",
       "    <tr>\n",
       "      <th>8</th>\n",
       "      <td>it is the</td>\n",
       "      <td>17.0</td>\n",
       "    </tr>\n",
       "    <tr>\n",
       "      <th>9</th>\n",
       "      <td>a part of</td>\n",
       "      <td>17.0</td>\n",
       "    </tr>\n",
       "    <tr>\n",
       "      <th>10</th>\n",
       "      <td>as well as</td>\n",
       "      <td>16.0</td>\n",
       "    </tr>\n",
       "    <tr>\n",
       "      <th>11</th>\n",
       "      <td>this is the</td>\n",
       "      <td>16.0</td>\n",
       "    </tr>\n",
       "    <tr>\n",
       "      <th>12</th>\n",
       "      <td>is to be</td>\n",
       "      <td>15.0</td>\n",
       "    </tr>\n",
       "    <tr>\n",
       "      <th>13</th>\n",
       "      <td>there is a</td>\n",
       "      <td>15.0</td>\n",
       "    </tr>\n",
       "    <tr>\n",
       "      <th>14</th>\n",
       "      <td>to be the</td>\n",
       "      <td>14.0</td>\n",
       "    </tr>\n",
       "    <tr>\n",
       "      <th>15</th>\n",
       "      <td>in which the</td>\n",
       "      <td>14.0</td>\n",
       "    </tr>\n",
       "    <tr>\n",
       "      <th>16</th>\n",
       "      <td>according to the</td>\n",
       "      <td>12.0</td>\n",
       "    </tr>\n",
       "    <tr>\n",
       "      <th>17</th>\n",
       "      <td>is one of</td>\n",
       "      <td>12.0</td>\n",
       "    </tr>\n",
       "    <tr>\n",
       "      <th>18</th>\n",
       "      <td>to the sufi</td>\n",
       "      <td>12.0</td>\n",
       "    </tr>\n",
       "    <tr>\n",
       "      <th>19</th>\n",
       "      <td>it is not</td>\n",
       "      <td>12.0</td>\n",
       "    </tr>\n",
       "  </tbody>\n",
       "</table>\n",
       "</div>"
      ],
      "text/plain": [
       "                phrase  count\n",
       "0          of the sufi   25.0\n",
       "1           one of the   24.0\n",
       "2          part of the   22.0\n",
       "3          there is no   19.0\n",
       "4          in order to   19.0\n",
       "5   in accordance with   19.0\n",
       "6              to be a   18.0\n",
       "7          by means of   17.0\n",
       "8            it is the   17.0\n",
       "9            a part of   17.0\n",
       "10          as well as   16.0\n",
       "11         this is the   16.0\n",
       "12            is to be   15.0\n",
       "13          there is a   15.0\n",
       "14           to be the   14.0\n",
       "15        in which the   14.0\n",
       "16    according to the   12.0\n",
       "17           is one of   12.0\n",
       "18         to the sufi   12.0\n",
       "19           it is not   12.0"
      ]
     },
     "execution_count": 11,
     "metadata": {},
     "output_type": "execute_result"
    }
   ],
   "source": [
    "phrase_count.head(20)"
   ]
  },
  {
   "cell_type": "code",
   "execution_count": 12,
   "metadata": {},
   "outputs": [
    {
     "name": "stdout",
     "output_type": "stream",
     "text": [
      "median number of counts per word: 1.0\n"
     ]
    }
   ],
   "source": [
    "print('median number of counts per word:', statistics.median(word_count['count'].to_list()))"
   ]
  },
  {
   "cell_type": "code",
   "execution_count": 23,
   "metadata": {},
   "outputs": [],
   "source": [
    "# will randomly combine words from the unique words list\n",
    "# wc is word count\n",
    "def random_generate_word(words_unique, wc):\n",
    "    # open textfile to save output to\n",
    "    # open the file in the write mode\n",
    "    output = ''\n",
    "    for i in range(wc):\n",
    "        index = int(np.random.random()*len(words_unique))\n",
    "        word = words_unique[index]\n",
    "        output+=word + ' '\n",
    "        sys.stdout.write(word + ' ')\n",
    "        sys.stdout.flush()\n",
    "    print()\n",
    "    # return output\n",
    "    #output = [output]\n",
    "    with open(\"experimental_log.txt\", \"a\") as file:\n",
    "        write_stuff = ['random word: wc = %i' %(wc), '\\n', output, '\\n', '\\n']\n",
    "        file.writelines(write_stuff)\n",
    "    \n",
    "\n",
    "def experiment_random_words(words_unique, wc, num):\n",
    "    for i in range(num):\n",
    "        random_generate_word(words_unique, wc)\n",
    "        print()\n",
    "    "
   ]
  },
  {
   "cell_type": "code",
   "execution_count": 24,
   "metadata": {},
   "outputs": [],
   "source": [
    "def random_generate_char(alphabet, wc):\n",
    "    output = ''\n",
    "    # outer loop: for each \"word\"\n",
    "    for i in range(wc):\n",
    "        # decide how many characters: \n",
    "        num_char = int(np.random.random()*10)\n",
    "        word = ''\n",
    "        for j in range(num_char):\n",
    "            index = int(np.random.random()*len(alphabet))\n",
    "            char = alphabet[index]\n",
    "            word+=char\n",
    "        output += word + ' '\n",
    "        sys.stdout.write(word + ' ')\n",
    "        sys.stdout.flush()\n",
    "    print()\n",
    "    with open(\"experimental_log.txt\", \"a\") as file:\n",
    "        write_stuff = ['random character: wc = %i' %(wc), '\\n', output, '\\n', '\\n']\n",
    "        file.writelines(write_stuff)\n",
    "\n",
    "def experiment_random_char(alphabet, wc, num):\n",
    "    for i in range(num):\n",
    "        random_generate_char(alphabet, wc)\n",
    "        print()"
   ]
  },
  {
   "cell_type": "markdown",
   "metadata": {},
   "source": [
    "### Convert string into numerical representation"
   ]
  },
  {
   "cell_type": "code",
   "execution_count": 25,
   "metadata": {},
   "outputs": [],
   "source": [
    "# helper function to parse string into alphabet and get mapping dictionaries from char to int and int to char\n",
    "def parse_text(text):\n",
    "    # first find all the unique characters; sort them\n",
    "    alphabet = sorted(list(set(text)))\n",
    "    print('characters in alphabet:', len(text))\n",
    "\n",
    "    # create a dictionary for a 1-1 map from character to integer and vice versa so we can seamlessly convert\n",
    "    char_to_int = dict((c, i) for i, c in enumerate (alphabet))\n",
    "    int_to_char = dict((i, c) for i, c in enumerate (alphabet))\n",
    "    print('char to int dictionary:',char_to_int)\n",
    "\n",
    "    return alphabet, char_to_int, int_to_char"
   ]
  },
  {
   "cell_type": "code",
   "execution_count": 26,
   "metadata": {},
   "outputs": [
    {
     "name": "stdout",
     "output_type": "stream",
     "text": [
      "characters in alphabet: 922352\n",
      "char to int dictionary: {' ': 0, '!': 1, '\"': 2, '#': 3, '$': 4, '%': 5, '&': 6, \"'\": 7, '(': 8, ')': 9, '*': 10, '+': 11, ',': 12, '-': 13, '.': 14, '/': 15, '0': 16, '1': 17, '2': 18, '3': 19, '4': 20, '5': 21, '6': 22, '7': 23, '8': 24, '9': 25, ':': 26, ';': 27, '<': 28, '=': 29, '>': 30, '?': 31, '[': 32, ']': 33, '_': 34, 'a': 35, 'b': 36, 'c': 37, 'd': 38, 'e': 39, 'f': 40, 'g': 41, 'h': 42, 'i': 43, 'j': 44, 'k': 45, 'l': 46, 'm': 47, 'n': 48, 'o': 49, 'p': 50, 'q': 51, 'r': 52, 's': 53, 't': 54, 'u': 55, 'v': 56, 'w': 57, 'x': 58, 'y': 59, 'z': 60, '—': 61, '‘': 62, '’': 63, '“': 64, '”': 65}\n"
     ]
    }
   ],
   "source": [
    "alphabet, char_to_int, int_to_char = parse_text(nasrudin)"
   ]
  },
  {
   "cell_type": "code",
   "execution_count": 27,
   "metadata": {},
   "outputs": [],
   "source": [
    "# prepare data from training\n",
    "# set max_Char value; this is length of sentence which we train on\n",
    "maxChar = 40\n",
    "\n",
    "# helper function to generate sentences and target_chars for test and validation data\n",
    "def format_data(text):\n",
    "    # generate list of sentences and the target character following the sentence\n",
    "    sentences = []\n",
    "    target_chars = []\n",
    "\n",
    "    # for loop to populate lists of semiredudant sentences\n",
    "    for i in range(len(text) - maxChar):\n",
    "        sentences.append(text[i: i + maxChar])\n",
    "        target_chars.append(text[i + maxChar])\n",
    "    print('number of semiredudant sentences:', len(text))\n",
    "    print('example sentence:', sentences[0])\n",
    "\n",
    "    # convert to binary arrays\n",
    "    data = np.zeros((len(sentences), maxChar, len(alphabet)), dtype = np.bool_)\n",
    "    labels = np.zeros((len(sentences), len(alphabet)), dtype = np.bool_)\n",
    "\n",
    "    # set a 1 in the index corresponding to the integer mapping of the character\n",
    "    for i, sentence in enumerate(sentences):\n",
    "        for j, char in enumerate(sentence):\n",
    "            data[i, j, char_to_int[char]] = 1\n",
    "        labels[i, char_to_int[target_chars[i]]] = 1\n",
    "\n",
    "    return data, labels\n",
    "# prepare data wil call format data; master function for training preparating\n",
    "def prepare_data(text, maxChar):\n",
    "    # split data into train and validation -- 80%, 20%\n",
    "    index = int(len(text)*0.8)\n",
    "    text_test = text[:index]\n",
    "    text_val = text[index:]\n",
    "\n",
    "    # x represents the input data, y the output targets\n",
    "    print('for training data:')\n",
    "    x_train, y_train = format_data(text_test)\n",
    "    print('---------------')\n",
    "    print('for validation data:')\n",
    "    x_val, y_val = format_data(text_val)\n",
    "\n",
    "    return x_train, y_train, x_val, y_val"
   ]
  },
  {
   "cell_type": "code",
   "execution_count": 38,
   "metadata": {},
   "outputs": [
    {
     "name": "stdout",
     "output_type": "stream",
     "text": [
      "for training data:\n",
      "number of semiredudant sentences: 737542\n",
      "example sentence: the sufis are an ancient spiritual freem\n",
      "---------------\n",
      "for validation data:\n",
      "number of semiredudant sentences: 184386\n",
      "example sentence: nterpreted by others than sufis. when ru\n"
     ]
    }
   ],
   "source": [
    "x_train, y_train, x_val, y_val = prepare_data(nasrudin, maxChar)"
   ]
  },
  {
   "cell_type": "markdown",
   "metadata": {},
   "source": [
    "## Now define RNN model"
   ]
  },
  {
   "cell_type": "markdown",
   "metadata": {},
   "source": [
    "### Optimize hyperparameters using WandB sweep"
   ]
  },
  {
   "cell_type": "markdown",
   "metadata": {},
   "source": [
    "## Login to WandB to complete callbacks"
   ]
  },
  {
   "cell_type": "code",
   "execution_count": 7,
   "metadata": {},
   "outputs": [
    {
     "name": "stderr",
     "output_type": "stream",
     "text": [
      "Failed to detect the name of this notebook, you can set it manually with the WANDB_NOTEBOOK_NAME environment variable to enable code saving.\n",
      "\u001b[34m\u001b[1mwandb\u001b[0m: Currently logged in as: \u001b[33moscarscholin\u001b[0m. Use \u001b[1m`wandb login --relogin`\u001b[0m to force relogin\n"
     ]
    },
    {
     "data": {
      "text/html": [
       "Tracking run with wandb version 0.13.3"
      ],
      "text/plain": [
       "<IPython.core.display.HTML object>"
      ]
     },
     "metadata": {},
     "output_type": "display_data"
    },
    {
     "data": {
      "text/html": [
       "Run data is saved locally in <code>/Users/oscarscholin/Desktop/Pomona/Junior Year/Engl151/wandb/run-20221004_200857-2urwocqu</code>"
      ],
      "text/plain": [
       "<IPython.core.display.HTML object>"
      ]
     },
     "metadata": {},
     "output_type": "display_data"
    },
    {
     "data": {
      "text/html": [
       "Syncing run <strong><a href=\"https://wandb.ai/oscarscholin/Thinking-Parrot/runs/2urwocqu\" target=\"_blank\">helpful-galaxy-28</a></strong> to <a href=\"https://wandb.ai/oscarscholin/Thinking-Parrot\" target=\"_blank\">Weights & Biases</a> (<a href=\"https://wandb.me/run\" target=\"_blank\">docs</a>)<br/>"
      ],
      "text/plain": [
       "<IPython.core.display.HTML object>"
      ]
     },
     "metadata": {},
     "output_type": "display_data"
    },
    {
     "data": {
      "text/html": [
       "<button onClick=\"this.nextSibling.style.display='block';this.style.display='none';\">Display W&B run</button><iframe src=\"https://wandb.ai/oscarscholin/Thinking-Parrot/runs/2urwocqu?jupyter=true\" style=\"border:none;width:100%;height:420px;display:none;\"></iframe>"
      ],
      "text/plain": [
       "<wandb.sdk.wandb_run.Run at 0x7f878c53a130>"
      ]
     },
     "execution_count": 7,
     "metadata": {},
     "output_type": "execute_result"
    }
   ],
   "source": [
    "wandb.init(project=\"Thinking-Parrot\", entity=\"oscarscholin\")"
   ]
  },
  {
   "cell_type": "code",
   "execution_count": 28,
   "metadata": {},
   "outputs": [],
   "source": [
    "# helper functions from Keras\n",
    "\n",
    "# interpret probabilities\n",
    "def sample(preds, temperature=1.0):\n",
    "    # helper function to sample an index from a probability array\n",
    "    # rescale data\n",
    "    preds = np.asarray(preds).astype('float64')\n",
    "    #preds = np.log(preds) / temperature\n",
    "    exp_preds = np.exp(1/temperature)*preds\n",
    "    preds = exp_preds / np.sum(exp_preds)\n",
    "    # create multinomial distribution; run experiment 10 times, select most probable outcome\n",
    "    probas = np.random.multinomial(10, preds, 1)\n",
    "    return np.argmax(probas)\n",
    "\n",
    "# do this each time we begin a new epoch    \n",
    "def on_epoch_end(epoch, logs):\n",
    "    # Function invoked at end of each epoch. Prints generated text.\n",
    "    print()\n",
    "    print('----- Generating text after Epoch: %d' % epoch)\n",
    "\n",
    "    start_index = random.randint(0, len(nasrudin) - maxChar - 1)\n",
    "    for diversity in [0.2, 0.5, 1.0, 1.2]:\n",
    "        print('----- diversity:', diversity)\n",
    "\n",
    "        generated = ''\n",
    "        sentence = nasrudin[start_index: start_index + maxChar]\n",
    "        generated += sentence\n",
    "        print('----- Generating with seed: \"' + sentence + '\"')\n",
    "        sys.stdout.write(generated)\n",
    "\n",
    "        # generate 400 characters worth of test\n",
    "        for i in range(400):\n",
    "            # prepare chosen sentence as part of new dataset\n",
    "            x_pred = np.zeros((1, maxChar, len(alphabet)))\n",
    "            for t, char in enumerate(sentence):\n",
    "                x_pred[0, t, char_to_int[char]] = 1.\n",
    "\n",
    "            # use the current model to predict what outputs are\n",
    "            preds = model.predict(x_pred, verbose=0)[0]\n",
    "            # call the function above to interpret the probabilities and add a degree of freedom\n",
    "            next_index = sample(preds, diversity)\n",
    "            #convert predicted number to character\n",
    "            next_char = int_to_char[next_index]\n",
    "\n",
    "            # append to existing string so as to build it up\n",
    "            generated += next_char\n",
    "            # append new character to previous sentence and delete the old one in front; now we train on predictions\n",
    "            sentence = sentence[1:] + next_char\n",
    "\n",
    "            # print the new character as we create it\n",
    "            sys.stdout.write(next_char)\n",
    "            sys.stdout.flush()\n",
    "        print()"
   ]
  },
  {
   "cell_type": "code",
   "execution_count": 8,
   "metadata": {},
   "outputs": [
    {
     "ename": "Error",
     "evalue": "You must call wandb.init() before WandbCallback()",
     "output_type": "error",
     "traceback": [
      "\u001b[0;31m---------------------------------------------------------------------------\u001b[0m",
      "\u001b[0;31mError\u001b[0m                                     Traceback (most recent call last)",
      "\u001b[0;32m/var/folders/4q/td1j5kb117s9mnpgltqnnvqc0000gn/T/ipykernel_24157/1015508525.py\u001b[0m in \u001b[0;36m<module>\u001b[0;34m\u001b[0m\n\u001b[1;32m     13\u001b[0m \u001b[0;34m\u001b[0m\u001b[0m\n\u001b[1;32m     14\u001b[0m \u001b[0;31m# compile the callbacks\u001b[0m\u001b[0;34m\u001b[0m\u001b[0;34m\u001b[0m\u001b[0m\n\u001b[0;32m---> 15\u001b[0;31m \u001b[0mcallbacks\u001b[0m \u001b[0;34m=\u001b[0m \u001b[0;34m[\u001b[0m\u001b[0mprint_callback\u001b[0m\u001b[0;34m,\u001b[0m \u001b[0mcheckpoint\u001b[0m\u001b[0;34m,\u001b[0m \u001b[0mreduce_lr\u001b[0m\u001b[0;34m,\u001b[0m \u001b[0mWandbCallback\u001b[0m\u001b[0;34m(\u001b[0m\u001b[0;34m)\u001b[0m\u001b[0;34m]\u001b[0m\u001b[0;34m\u001b[0m\u001b[0;34m\u001b[0m\u001b[0m\n\u001b[0m",
      "\u001b[0;32m/opt/anaconda3/lib/python3.9/site-packages/wandb/integration/keras/keras.py\u001b[0m in \u001b[0;36m__init__\u001b[0;34m(self, monitor, verbose, mode, save_weights_only, log_weights, log_gradients, save_model, training_data, validation_data, labels, predictions, generator, input_type, output_type, log_evaluation, validation_steps, class_colors, log_batch_frequency, log_best_prefix, save_graph, validation_indexes, validation_row_processor, prediction_row_processor, infer_missing_processors, log_evaluation_frequency, **kwargs)\u001b[0m\n\u001b[1;32m    402\u001b[0m     ):\n\u001b[1;32m    403\u001b[0m         \u001b[0;32mif\u001b[0m \u001b[0mwandb\u001b[0m\u001b[0;34m.\u001b[0m\u001b[0mrun\u001b[0m \u001b[0;32mis\u001b[0m \u001b[0;32mNone\u001b[0m\u001b[0;34m:\u001b[0m\u001b[0;34m\u001b[0m\u001b[0;34m\u001b[0m\u001b[0m\n\u001b[0;32m--> 404\u001b[0;31m             \u001b[0;32mraise\u001b[0m \u001b[0mwandb\u001b[0m\u001b[0;34m.\u001b[0m\u001b[0mError\u001b[0m\u001b[0;34m(\u001b[0m\u001b[0;34m\"You must call wandb.init() before WandbCallback()\"\u001b[0m\u001b[0;34m)\u001b[0m\u001b[0;34m\u001b[0m\u001b[0;34m\u001b[0m\u001b[0m\n\u001b[0m\u001b[1;32m    405\u001b[0m         \u001b[0;32mwith\u001b[0m \u001b[0mwandb\u001b[0m\u001b[0;34m.\u001b[0m\u001b[0mwandb_lib\u001b[0m\u001b[0;34m.\u001b[0m\u001b[0mtelemetry\u001b[0m\u001b[0;34m.\u001b[0m\u001b[0mcontext\u001b[0m\u001b[0;34m(\u001b[0m\u001b[0mrun\u001b[0m\u001b[0;34m=\u001b[0m\u001b[0mwandb\u001b[0m\u001b[0;34m.\u001b[0m\u001b[0mrun\u001b[0m\u001b[0;34m)\u001b[0m \u001b[0;32mas\u001b[0m \u001b[0mtel\u001b[0m\u001b[0;34m:\u001b[0m\u001b[0;34m\u001b[0m\u001b[0;34m\u001b[0m\u001b[0m\n\u001b[1;32m    406\u001b[0m             \u001b[0mtel\u001b[0m\u001b[0;34m.\u001b[0m\u001b[0mfeature\u001b[0m\u001b[0;34m.\u001b[0m\u001b[0mkeras\u001b[0m \u001b[0;34m=\u001b[0m \u001b[0;32mTrue\u001b[0m\u001b[0;34m\u001b[0m\u001b[0;34m\u001b[0m\u001b[0m\n",
      "\u001b[0;31mError\u001b[0m: You must call wandb.init() before WandbCallback()"
     ]
    }
   ],
   "source": [
    "# use the two helper functions above to create the LambdaCallback \n",
    "print_callback = LambdaCallback(on_epoch_end=on_epoch_end)\n",
    "\n",
    "# define two other callbacks\n",
    "# save model\n",
    "modelpath = \"models/weights.hdf5\"\n",
    "checkpoint = ModelCheckpoint(modelpath, monitor='loss',\n",
    "                             verbose=1, save_best_only=True,\n",
    "                             mode='min')\n",
    "# if learning stals, reduce the LR\n",
    "reduce_lr = ReduceLROnPlateau(monitor='loss', factor=0.2,\n",
    "                              patience=1, min_lr=0.001)\n",
    "\n",
    "# compile the callbacks\n",
    "callbacks = [print_callback, checkpoint, reduce_lr, WandbCallback()]"
   ]
  },
  {
   "cell_type": "code",
   "execution_count": null,
   "metadata": {},
   "outputs": [],
   "source": [
    "# values of hyperparams\n",
    "LSTM_layer_size_1 = 97\n",
    "LSTM_layer_size_2 = 227\n",
    "LSTM_layer_size_3 = 210\n",
    "batch_size=76\n",
    "dropout_1 = 0.2156937859979601\n",
    "dropout_2 = 0.03497818011070768\n",
    "dropout_3 = 0.19139600192617057\n",
    "epochs = 100\n",
    "learning_rate = 0.08196388632707219\n",
    "\n",
    "wandb.config = {'LSTM_layer_size_1': LSTM_layer_size_1, 'LSTM_layer_size_2': LSTM_layer_size_2, 'LSTM_layer_size_3': LSTM_layer_size_3, \n",
    "'dropout_1': dropout_1, 'dropout_2':dropout_2, 'dropout_3': dropout_2, 'batch_size': batch_size, 'learning_rate': learning_rate, 'epochs': epochs}"
   ]
  },
  {
   "cell_type": "code",
   "execution_count": null,
   "metadata": {},
   "outputs": [],
   "source": [
    "def train(config=None):\n",
    "    with wandb.init(config=config):\n",
    "    # If called by wandb.agent, as below,\n",
    "    # this config will be set by Sweep Controller\n",
    "      config = wandb.config\n",
    "\n",
    "      #initialize the neural net; make it a global variable\n",
    "      global model\n",
    "      model = build_model(LSTM_layer_size_1,  LSTM_layer_size_2, LSTM_layer_size_3, \n",
    "          dropout_1, dropout_1,  dropout_1, learning_rate)\n",
    "      \n",
    "      #now run training\n",
    "      history = model.fit(\n",
    "        x_train, y_train,\n",
    "        batch_size = batch_size,\n",
    "        validation_data=(x_val, y_val),\n",
    "        epochs=epochs,\n",
    "        callbacks=callbacks #use callbacks to have w&b log stats; will automatically save best model                     \n",
    "      )  \n",
    "\n",
    "def build_model(LSTM_layer_size_1,  LSTM_layer_size_2, LSTM_layer_size_3, \n",
    "          dropout_1, dropout_2,  dropout_3, learning_rate):\n",
    "    model = Sequential()\n",
    "    # RNN layers for language processing\n",
    "    model.add(LSTM(LSTM_layer_size_1, input_shape = (maxChar, len(alphabet)), return_sequences=True))\n",
    "    model.add(Dropout(dropout_1))\n",
    "\n",
    "    model.add(LSTM(LSTM_layer_size_2, return_sequences=True))\n",
    "    model.add(Dropout(dropout_2))\n",
    "\n",
    "    model.add(LSTM(LSTM_layer_size_3))\n",
    "    model.add(Dropout(dropout_3))\n",
    "\n",
    "    model.add(Dense(len(alphabet)))\n",
    "    model.add(Activation('softmax'))\n",
    "\n",
    "\n",
    "    # put structure together\n",
    "    optimizer = RMSprop(learning_rate = learning_rate)\n",
    "    model.compile(loss='categorical_crossentropy')\n",
    "\n",
    "    return model"
   ]
  },
  {
   "cell_type": "markdown",
   "metadata": {},
   "source": [
    "## Train the model!!!!"
   ]
  },
  {
   "cell_type": "code",
   "execution_count": 12,
   "metadata": {},
   "outputs": [
    {
     "data": {
      "text/html": [
       "Finishing last run (ID:2urwocqu) before initializing another..."
      ],
      "text/plain": [
       "<IPython.core.display.HTML object>"
      ]
     },
     "metadata": {},
     "output_type": "display_data"
    },
    {
     "data": {
      "text/html": [
       "Waiting for W&B process to finish... <strong style=\"color:green\">(success).</strong>"
      ],
      "text/plain": [
       "<IPython.core.display.HTML object>"
      ]
     },
     "metadata": {},
     "output_type": "display_data"
    },
    {
     "data": {
      "application/vnd.jupyter.widget-view+json": {
       "model_id": "91a434dc166b44d68463594aaa757981",
       "version_major": 2,
       "version_minor": 0
      },
      "text/plain": [
       "VBox(children=(Label(value='0.000 MB of 0.000 MB uploaded (0.000 MB deduped)\\r'), FloatProgress(value=1.0, max…"
      ]
     },
     "metadata": {},
     "output_type": "display_data"
    },
    {
     "data": {
      "text/html": [
       "Synced <strong style=\"color:#cdcd00\">helpful-galaxy-28</strong>: <a href=\"https://wandb.ai/oscarscholin/Thinking-Parrot/runs/2urwocqu\" target=\"_blank\">https://wandb.ai/oscarscholin/Thinking-Parrot/runs/2urwocqu</a><br/>Synced 6 W&B file(s), 0 media file(s), 0 artifact file(s) and 0 other file(s)"
      ],
      "text/plain": [
       "<IPython.core.display.HTML object>"
      ]
     },
     "metadata": {},
     "output_type": "display_data"
    },
    {
     "data": {
      "text/html": [
       "Find logs at: <code>./wandb/run-20221004_200857-2urwocqu/logs</code>"
      ],
      "text/plain": [
       "<IPython.core.display.HTML object>"
      ]
     },
     "metadata": {},
     "output_type": "display_data"
    },
    {
     "data": {
      "text/html": [
       "Successfully finished last run (ID:2urwocqu). Initializing new run:<br/>"
      ],
      "text/plain": [
       "<IPython.core.display.HTML object>"
      ]
     },
     "metadata": {},
     "output_type": "display_data"
    },
    {
     "data": {
      "application/vnd.jupyter.widget-view+json": {
       "model_id": "68886aa5547d4e9f88b6784ab3a43396",
       "version_major": 2,
       "version_minor": 0
      },
      "text/plain": [
       "VBox(children=(Label(value='Waiting for wandb.init()...\\r'), FloatProgress(value=0.03345483144124349, max=1.0)…"
      ]
     },
     "metadata": {},
     "output_type": "display_data"
    },
    {
     "data": {
      "text/html": [
       "Tracking run with wandb version 0.13.3"
      ],
      "text/plain": [
       "<IPython.core.display.HTML object>"
      ]
     },
     "metadata": {},
     "output_type": "display_data"
    },
    {
     "data": {
      "text/html": [
       "Run data is saved locally in <code>/Users/oscarscholin/Desktop/Pomona/Junior Year/Engl151/wandb/run-20221004_200908-38fjw2ri</code>"
      ],
      "text/plain": [
       "<IPython.core.display.HTML object>"
      ]
     },
     "metadata": {},
     "output_type": "display_data"
    },
    {
     "data": {
      "text/html": [
       "Syncing run <strong><a href=\"https://wandb.ai/oscarscholin/uncategorized/runs/38fjw2ri\" target=\"_blank\">swift-plant-10</a></strong> to <a href=\"https://wandb.ai/oscarscholin/uncategorized\" target=\"_blank\">Weights & Biases</a> (<a href=\"https://wandb.me/run\" target=\"_blank\">docs</a>)<br/>"
      ],
      "text/plain": [
       "<IPython.core.display.HTML object>"
      ]
     },
     "metadata": {},
     "output_type": "display_data"
    },
    {
     "name": "stderr",
     "output_type": "stream",
     "text": [
      "2022-10-04 20:09:19.307041: I tensorflow/core/platform/cpu_feature_guard.cc:193] This TensorFlow binary is optimized with oneAPI Deep Neural Network Library (oneDNN) to use the following CPU instructions in performance-critical operations:  AVX2 FMA\n",
      "To enable them in other operations, rebuild TensorFlow with the appropriate compiler flags.\n",
      "2022-10-04 20:09:20.810333: I tensorflow/core/grappler/devices.cc:75] Number of eligible GPUs (core count >= 8, compute capability >= 0.0): 0 (Note: TensorFlow was not compiled with CUDA or ROCm support)\n",
      "2022-10-04 20:09:20.810477: I tensorflow/core/grappler/clusters/single_machine.cc:358] Starting new session\n"
     ]
    },
    {
     "name": "stdout",
     "output_type": "stream",
     "text": [
      "WARNING:tensorflow:From /opt/anaconda3/lib/python3.9/site-packages/tensorflow/python/profiler/internal/flops_registry.py:138: tensor_shape_from_node_def_name (from tensorflow.python.framework.graph_util_impl) is deprecated and will be removed in a future version.\n",
      "Instructions for updating:\n",
      "Use `tf.compat.v1.graph_util.tensor_shape_from_node_def_name`\n",
      "Epoch 1/100\n"
     ]
    },
    {
     "name": "stderr",
     "output_type": "stream",
     "text": [
      "Incomplete shape.\n",
      "Incomplete shape.\n",
      "Incomplete shape.\n",
      "Incomplete shape.\n",
      "Incomplete shape.\n",
      "Incomplete shape.\n",
      "Incomplete shape.\n",
      "Incomplete shape.\n",
      "Incomplete shape.\n",
      "Incomplete shape.\n",
      "Incomplete shape.\n",
      "Incomplete shape.\n"
     ]
    },
    {
     "name": "stdout",
     "output_type": "stream",
     "text": [
      "9704/9704 [==============================] - ETA: 0s - loss: 1.9672\n",
      "----- Generating text after Epoch: 0\n",
      "----- diversity: 0.2\n",
      "----- Generating with seed: \"te word (cant word) for this kind of kno\"\n",
      "te word (cant word) for this kind of known the sufis is the sufis is the sufis of the sufis is the sufis is the sufis of the sufis and the sufis and the sufis and the sufis is a state of the sufis and the sufis is the sufis is the sufis and the sufis is a state of the sufis and the sufis is a state of the sufis is a state of the sufis is the sufis is a state of the sufis is a stand the sufis is a state of the sufis is a state of the suf\n",
      "----- diversity: 0.5\n",
      "----- Generating with seed: \"te word (cant word) for this kind of kno\"\n",
      "te word (cant word) for this kind of known and the sufis and a stand of the sufis which the sufis and the sufis of the sufis the sufis the sufis and in the sufis and in the sufis and state of the sufis is the sufis is the produce of the sufis and the sufis and in the sufis is the sufis of the sufis and the sufi state of the sufis and state of the sufis is the sufis and the sufis is the sufis which is a stand of the sufis and is the sufi\n",
      "----- diversity: 1.0\n",
      "----- Generating with seed: \"te word (cant word) for this kind of kno\"\n",
      "te word (cant word) for this kind of known in the from the sufi term of the a can be a sufism the persian of the consciousness of the possible dood to a manter to the concentions of the stind in a dervish of man was a completed and a secret that it was a completed and the word great is is not be said that he consciousness of the contain of the his may be something and a fact and the sufi teaching a creat to all the man see the state of \n",
      "----- diversity: 1.2\n",
      "----- Generating with seed: \"te word (cant word) for this kind of kno\"\n",
      "te word (cant word) for this kind of known the sufis was be the norch a great and present of say a devoloped a tradition who have a comman to so not the experiences in an all the abchaniors of a caral be form and in a prast a dervish the cannable to pact of stand possible in a callish be every student have of the sufis  33 accept of the sara practice of the because and a ntkok of the stage of a christeries of the sufi of the sufis befin\n",
      "\n",
      "Epoch 1: loss improved from inf to 1.96716, saving model to models/weights.hdf5\n"
     ]
    },
    {
     "name": "stderr",
     "output_type": "stream",
     "text": [
      "WARNING:absl:Found untraced functions such as lstm_cell_layer_call_fn, lstm_cell_layer_call_and_return_conditional_losses, lstm_cell_1_layer_call_fn, lstm_cell_1_layer_call_and_return_conditional_losses, lstm_cell_2_layer_call_fn while saving (showing 5 of 6). These functions will not be directly callable after loading.\n"
     ]
    },
    {
     "name": "stdout",
     "output_type": "stream",
     "text": [
      "INFO:tensorflow:Assets written to: /Users/oscarscholin/Desktop/Pomona/Junior Year/Engl151/wandb/run-20221004_200857-2urwocqu/files/model-best/assets\n"
     ]
    },
    {
     "name": "stderr",
     "output_type": "stream",
     "text": [
      "INFO:tensorflow:Assets written to: /Users/oscarscholin/Desktop/Pomona/Junior Year/Engl151/wandb/run-20221004_200857-2urwocqu/files/model-best/assets\n",
      "\u001b[34m\u001b[1mwandb\u001b[0m: Adding directory to artifact (/Users/oscarscholin/Desktop/Pomona/Junior Year/Engl151/wandb/run-20221004_200857-2urwocqu/files/model-best)... Done. 0.1s\n"
     ]
    },
    {
     "name": "stdout",
     "output_type": "stream",
     "text": [
      "9704/9704 [==============================] - 2606s 268ms/step - loss: 1.9672 - val_loss: 1.6991 - lr: 0.0010\n",
      "Epoch 2/100\n",
      "9704/9704 [==============================] - ETA: 0s - loss: 1.5989\n",
      "----- Generating text after Epoch: 1\n",
      "----- diversity: 0.2\n",
      "----- Generating with seed: \"i nekhakht wa muharam ast: zirdki az ihl\"\n",
      "i nekhakht wa muharam ast: zirdki az ihlessed to the sufi seem to the sufi seeker the sufi state of the sufi state of the sufi state of the sufi state of the sufi state of the sufi state of the sufi state of the sufi state of the sufi state of the sufi secret of the sufi seem to the sufi seeker the sufi state of the sufi seem in the sufi state of the sufi secret of the sufi secret of the sufi state of the sufi seeker the sufi secret of \n",
      "----- diversity: 0.5\n",
      "----- Generating with seed: \"i nekhakht wa muharam ast: zirdki az ihl\"\n",
      "i nekhakht wa muharam ast: zirdki az ihless the sufi state of the sufi state of the sufi is the sufi state of the sufi state of the sufi interpretation of the philosophy and the man which is not only the sufi sufi meanings of the sufi said the provent of the sufi secret of the sufi state of the sufi teaching of the sufi seeker that the sufi state is the sufi interpretation of the sufi said the sufi state of the sufi state of the man of \n",
      "----- diversity: 1.0\n",
      "----- Generating with seed: \"i nekhakht wa muharam ast: zirdki az ihl\"\n",
      "i nekhakht wa muharam ast: zirdki az ihlam. the sufi book is a greater which is not as a seek in sufi interesting to the consciousness in the sufi see an encl descent in the sufi interpretation of the ordinary  he was a concept of a bean as a fact and which the sufi a poet of the first and he would be the sufi way and the sufi barad and . the sufi the appears in a complete and a literal poetry of the sufi state of said the sufis was not\n",
      "----- diversity: 1.2\n",
      "----- Generating with seed: \"i nekhakht wa muharam ast: zirdki az ihl\"\n",
      "i nekhakht wa muharam ast: zirdki az ihlunders of the ingense in the human activity ethect dervishes the persian and a man is a more and in a sufi teaching part and dervish sufism of the sufis, which is begond means the persians of the hander and on the sufi great against and in a learning of a contain through sufis \"nessers in the sage is the inner and secret word by he has a complete of the individual sufi influence, but he was commun\n",
      "\n",
      "Epoch 2: loss improved from 1.96716 to 1.59895, saving model to models/weights.hdf5\n"
     ]
    },
    {
     "name": "stderr",
     "output_type": "stream",
     "text": [
      "WARNING:absl:Found untraced functions such as lstm_cell_layer_call_fn, lstm_cell_layer_call_and_return_conditional_losses, lstm_cell_1_layer_call_fn, lstm_cell_1_layer_call_and_return_conditional_losses, lstm_cell_2_layer_call_fn while saving (showing 5 of 6). These functions will not be directly callable after loading.\n"
     ]
    },
    {
     "name": "stdout",
     "output_type": "stream",
     "text": [
      "INFO:tensorflow:Assets written to: /Users/oscarscholin/Desktop/Pomona/Junior Year/Engl151/wandb/run-20221004_200857-2urwocqu/files/model-best/assets\n"
     ]
    },
    {
     "name": "stderr",
     "output_type": "stream",
     "text": [
      "INFO:tensorflow:Assets written to: /Users/oscarscholin/Desktop/Pomona/Junior Year/Engl151/wandb/run-20221004_200857-2urwocqu/files/model-best/assets\n",
      "\u001b[34m\u001b[1mwandb\u001b[0m: Adding directory to artifact (/Users/oscarscholin/Desktop/Pomona/Junior Year/Engl151/wandb/run-20221004_200857-2urwocqu/files/model-best)... Done. 0.0s\n"
     ]
    },
    {
     "name": "stdout",
     "output_type": "stream",
     "text": [
      "9704/9704 [==============================] - 2928s 302ms/step - loss: 1.5989 - val_loss: 1.5790 - lr: 0.0010\n",
      "Epoch 3/100\n",
      "9704/9704 [==============================] - ETA: 0s - loss: 1.5181\n",
      "----- Generating text after Epoch: 2\n",
      "----- diversity: 0.2\n",
      "----- Generating with seed: \"eal.” perhaps you had already noticed th\"\n",
      "eal.” perhaps you had already noticed the sufi state of the sufi state of the sufi state of the sufi state of the sufi state of the sufi teaching of the sufi man and the sufi state of the sufi state of the sufi state of the sufi state of the sufi state of the sufi state of the sufi state of the sufi state of the sufi state of the sufi start of the sufi state of the sufi state of the sufi state of the sufi state of the sufi state of the \n",
      "----- diversity: 0.5\n",
      "----- Generating with seed: \"eal.” perhaps you had already noticed th\"\n",
      "eal.” perhaps you had already noticed the sufi man and the the sufi is a form of the order of the contain the sufi state of the sufi start of the sufi contain the book of the man and the sufi man and the the sufi teaching of the dervish sufi starts of the historical contain the sufi state of the sufi teaching of the sufi states of the sufi man and the sufi state of the sufi persian the book of the sufi persian the order of the sufi teac\n",
      "----- diversity: 1.0\n",
      "----- Generating with seed: \"eal.” perhaps you had already noticed th\"\n",
      "eal.” perhaps you had already noticed the sufi says and e the initiatory which he was a contain of the more conditions of the sufi contain the produce of the basic says the arabic seek in a part of the considered from a word and the later and perfect and the dervish is a stresse of a contain name and seem the literal man as the sufis the individual and the sufi later and because a dervish in a contain himself him the really is considere\n",
      "----- diversity: 1.2\n",
      "----- Generating with seed: \"eal.” perhaps you had already noticed th\"\n",
      "eal.” perhaps you had already noticed the man is a condition of reality, and the essential community of the book of a continue different form of the theologian man accept as a street and the order of the convent in meaning sufi was an even not the word which the dark (down but man the tradition of activate the carry  the sufi money a communication of the concentration, is did for the and the  the man be all human one of given a certain \n",
      "\n",
      "Epoch 3: loss improved from 1.59895 to 1.51806, saving model to models/weights.hdf5\n"
     ]
    },
    {
     "name": "stderr",
     "output_type": "stream",
     "text": [
      "WARNING:absl:Found untraced functions such as lstm_cell_layer_call_fn, lstm_cell_layer_call_and_return_conditional_losses, lstm_cell_1_layer_call_fn, lstm_cell_1_layer_call_and_return_conditional_losses, lstm_cell_2_layer_call_fn while saving (showing 5 of 6). These functions will not be directly callable after loading.\n"
     ]
    },
    {
     "name": "stdout",
     "output_type": "stream",
     "text": [
      "INFO:tensorflow:Assets written to: /Users/oscarscholin/Desktop/Pomona/Junior Year/Engl151/wandb/run-20221004_200857-2urwocqu/files/model-best/assets\n"
     ]
    },
    {
     "name": "stderr",
     "output_type": "stream",
     "text": [
      "INFO:tensorflow:Assets written to: /Users/oscarscholin/Desktop/Pomona/Junior Year/Engl151/wandb/run-20221004_200857-2urwocqu/files/model-best/assets\n",
      "\u001b[34m\u001b[1mwandb\u001b[0m: Adding directory to artifact (/Users/oscarscholin/Desktop/Pomona/Junior Year/Engl151/wandb/run-20221004_200857-2urwocqu/files/model-best)... Done. 0.0s\n"
     ]
    },
    {
     "name": "stdout",
     "output_type": "stream",
     "text": [
      "9704/9704 [==============================] - 2835s 292ms/step - loss: 1.5181 - val_loss: 1.5249 - lr: 0.0010\n",
      "Epoch 4/100\n",
      "9704/9704 [==============================] - ETA: 0s - loss: 1.4815\n",
      "----- Generating text after Epoch: 3\n",
      "----- diversity: 0.2\n",
      "----- Generating with seed: \"tor which most people who enjoy traditio\"\n",
      "tor which most people who enjoy traditions and the sufi stages of the sufi stages of the sufi stages of the sufi stages of the sufi stages of the sufi stages of the sufi stages of the sufi stages of the sufi stages of the sufi stages of the sufi stages of the sufi stages of the sufi stages of the sufi stages of the sufi stages of the sufi teacher was a sufi teacher was the sufi stages of the sufi stages of the sufi stages of the sufi st\n",
      "----- diversity: 0.5\n",
      "----- Generating with seed: \"tor which most people who enjoy traditio\"\n",
      "tor which most people who enjoy traditions of the sufi is the sufi stage of the sufi teacher of the sufi teacher was the sufi says the sufi tradition of the sufi states of the sufi seekers and the sufi teacher were the sufi teacher and the sufi man who see an arabic the sufi is the sufi is sufi thinking is a sufi says and the man and the sufi stages of the sufi seeker to the sufi stages of the sufi seeker a complete sufi stage of the su\n",
      "----- diversity: 1.0\n",
      "----- Generating with seed: \"tor which most people who enjoy traditio\"\n",
      "tor which most people who enjoy traditions and have a sufi are sufis that he had no sufi teacher of the mind and the sufi says the moslem can be a laber and being some assume in a sufis that they have a dervish money which has a religion of mental el-arabi seemed to be a first of some as a fact a sense of a complete special produce of the need of the fact of a sufi was showed the seeker of the dervish and sufi is the later and the sufi \n",
      "----- diversity: 1.2\n",
      "----- Generating with seed: \"tor which most people who enjoy traditio\"\n",
      "tor which most people who enjoy traditional incact literally even him in a meaning of its all the teacher are been than impact from it. the experience of the activity of being development story. master of consequence of man of complete and centers and mental literature had been in the early in all should some of the communication of being the path of its own ordinary ability of the believe of the formation of the sufi activity, say the \n",
      "\n",
      "Epoch 4: loss improved from 1.51806 to 1.48146, saving model to models/weights.hdf5\n"
     ]
    },
    {
     "name": "stderr",
     "output_type": "stream",
     "text": [
      "WARNING:absl:Found untraced functions such as lstm_cell_layer_call_fn, lstm_cell_layer_call_and_return_conditional_losses, lstm_cell_1_layer_call_fn, lstm_cell_1_layer_call_and_return_conditional_losses, lstm_cell_2_layer_call_fn while saving (showing 5 of 6). These functions will not be directly callable after loading.\n"
     ]
    },
    {
     "name": "stdout",
     "output_type": "stream",
     "text": [
      "INFO:tensorflow:Assets written to: /Users/oscarscholin/Desktop/Pomona/Junior Year/Engl151/wandb/run-20221004_200857-2urwocqu/files/model-best/assets\n"
     ]
    },
    {
     "name": "stderr",
     "output_type": "stream",
     "text": [
      "INFO:tensorflow:Assets written to: /Users/oscarscholin/Desktop/Pomona/Junior Year/Engl151/wandb/run-20221004_200857-2urwocqu/files/model-best/assets\n",
      "\u001b[34m\u001b[1mwandb\u001b[0m: Adding directory to artifact (/Users/oscarscholin/Desktop/Pomona/Junior Year/Engl151/wandb/run-20221004_200857-2urwocqu/files/model-best)... Done. 0.0s\n"
     ]
    },
    {
     "name": "stdout",
     "output_type": "stream",
     "text": [
      "9704/9704 [==============================] - 2478s 255ms/step - loss: 1.4815 - val_loss: 1.4992 - lr: 0.0010\n",
      "Epoch 5/100\n",
      "9704/9704 [==============================] - ETA: 0s - loss: 1.4584\n",
      "----- Generating text after Epoch: 4\n",
      "----- diversity: 0.2\n",
      "----- Generating with seed: \"f the first rank of my tical masters—yet\"\n",
      "f the first rank of my tical masters—yet the sufi states of the sufi states of the sufi states of the sufi states of the sufi teaching of the sufi states of the sufi states of the sufi teaching of the sufi states of the sufi teaching and the sufi teaching of the sufi teaching is a sufi teacher of the sufi teaching of the sufi states of the sufi states of the sufi states of the sufi states of the sufi states of the sufi states of the suf\n",
      "----- diversity: 0.5\n",
      "----- Generating with seed: \"f the first rank of my tical masters—yet\"\n",
      "f the first rank of my tical masters—yet the sufi states of the sufi states of the sufi the sufi stages of the sufi is a complete consciousness of the concept of the sufi states of the sufi states of the sufi states of the sufi states of the sufi teachers of the consciousness and the sufi many the sufi teachers of the sufi teachers which is a sufi teaching of the sufi teaching endowed the sufi teacher of the sufi contain the sufi teache\n",
      "----- diversity: 1.0\n",
      "----- Generating with seed: \"f the first rank of my tical masters—yet\"\n",
      "f the first rank of my tical masters—yet like a letter was addition and the development of accordance of the sufi deceived in a salation and constant experience and the stone who seek the man for the sufi many elsewhere for the consciousness and the development and the understanding for the consciousness and alchemy as all the sufi in the method of english many the secrets of the sufi the concept of states of the ends of the pears have \n",
      "----- diversity: 1.2\n",
      "----- Generating with seed: \"f the first rank of my tical masters—yet\"\n",
      "f the first rank of my tical masters—yet said the sufi development the chemist the spring the arabic means of the great thinking the secret and accordance of the great decodes and his assessment with the name in a complete fact of the methods of the garter, the sufis can be a made say, the probable many form and activation which is in the magical scholastics religion and instrument with a little decoded in emotion that the mystical orde\n",
      "\n",
      "Epoch 5: loss improved from 1.48146 to 1.45838, saving model to models/weights.hdf5\n"
     ]
    },
    {
     "name": "stderr",
     "output_type": "stream",
     "text": [
      "WARNING:absl:Found untraced functions such as lstm_cell_layer_call_fn, lstm_cell_layer_call_and_return_conditional_losses, lstm_cell_1_layer_call_fn, lstm_cell_1_layer_call_and_return_conditional_losses, lstm_cell_2_layer_call_fn while saving (showing 5 of 6). These functions will not be directly callable after loading.\n"
     ]
    },
    {
     "name": "stdout",
     "output_type": "stream",
     "text": [
      "INFO:tensorflow:Assets written to: /Users/oscarscholin/Desktop/Pomona/Junior Year/Engl151/wandb/run-20221004_200857-2urwocqu/files/model-best/assets\n"
     ]
    },
    {
     "name": "stderr",
     "output_type": "stream",
     "text": [
      "INFO:tensorflow:Assets written to: /Users/oscarscholin/Desktop/Pomona/Junior Year/Engl151/wandb/run-20221004_200857-2urwocqu/files/model-best/assets\n",
      "\u001b[34m\u001b[1mwandb\u001b[0m: Adding directory to artifact (/Users/oscarscholin/Desktop/Pomona/Junior Year/Engl151/wandb/run-20221004_200857-2urwocqu/files/model-best)... Done. 0.0s\n"
     ]
    },
    {
     "name": "stdout",
     "output_type": "stream",
     "text": [
      "9704/9704 [==============================] - 2354s 243ms/step - loss: 1.4584 - val_loss: 1.4890 - lr: 0.0010\n",
      "Epoch 6/100\n",
      "9704/9704 [==============================] - ETA: 0s - loss: 1.4441\n",
      "----- Generating text after Epoch: 5\n",
      "----- diversity: 0.2\n",
      "----- Generating with seed: \" fourteen works for the sufis, the most \"\n",
      " fourteen works for the sufis, the most of the sufi is a sufi teacher of the sufi is a sufi state of the sufi is the sufi is the sufi is the sufi is the sufi is a present of the sufi is the sufi is the sufi is the sufi is the sufi is the sufi is a sufi is the sufi is a sufi is the sufi is the sufis are the sufi is the sufi is the sufi is the sufi is the sufi is the sufi is the sufi is the sufi is the sufi is the sufi is the sufi is the \n",
      "----- diversity: 0.5\n",
      "----- Generating with seed: \" fourteen works for the sufis, the most \"\n",
      " fourteen works for the sufis, the most sufi man who can be a sufi teacher of the man who have to be a present of the exercise of the poet and something which has to be all the dervish order of the sufi contact with the word is the process of the religion of the sufi teaching of the individual of the poet in the sufis is the sufi association of the sufi meaning of the sufi may be a form of the sufi is a sufi teacher of the sufi may be a\n",
      "----- diversity: 1.0\n",
      "----- Generating with seed: \" fourteen works for the sufis, the most \"\n",
      " fourteen works for the sufis, the most been many meaning of the use of a state of the sufis died a dervish order of any probable real individual and a present for the philosophy may be seemed to all the sufi are only at a mention of the sufi sufi sheikh  development in the first sufis  which is a persian of contemporary in the meaning is the sufi sincer was a complete form. the activity of the dervish man who found the belief in many m\n",
      "----- diversity: 1.2\n",
      "----- Generating with seed: \" fourteen works for the sufis, the most \"\n",
      " fourteen works for the sufis, the most arabic school. the methods of a situation of case of the sufi meanings and else, the man who particularly any element in earlier and because on the saracens of the dellap concentrate for the secret many or sufis and the century that it has not a man, who mind a concept of the attainment of a many states of the development of reality and the sufis faith and in the school and a power of mysticism an\n",
      "\n",
      "Epoch 6: loss improved from 1.45838 to 1.44414, saving model to models/weights.hdf5\n",
      "9704/9704 [==============================] - 2344s 242ms/step - loss: 1.4441 - val_loss: 1.4896 - lr: 0.0010\n",
      "Epoch 7/100\n",
      "9704/9704 [==============================] - ETA: 0s - loss: 1.4336\n",
      "----- Generating text after Epoch: 6\n",
      "----- diversity: 0.2\n",
      "----- Generating with seed: \" of this story is to be found in jalalud\"\n",
      " of this story is to be found in jalaluddin rumi is the sufi schools of the sufi state of the sufi state of the sufi is the sufi state of the sufi state of the sufis is a sufi teaching of the sufi state of the sufi schools of the sufi teaching of the sufi state of the sufi state of the sufi states of the sufi state of the sufi state of the sufi man who have been a sufi state of the sufi state of the sufi state of the sufi is the sufi st\n",
      "----- diversity: 0.5\n",
      "----- Generating with seed: \" of this story is to be found in jalalud\"\n",
      " of this story is to be found in jalaluddin rumi is a sufi term of the sufis are the sufi man and the sufi is the sufi terms of the concept of the sufi state of the sufi said that the sufi state of the sufi man who are the sufis is the sufis is the sufi man and a sufis is a sufi is the sufi said that the sufi state of the sufi man who was a secret and the sufi man is a sufi state of the sufi is a consciousness of the man which is a sufi\n",
      "----- diversity: 1.0\n",
      "----- Generating with seed: \" of this story is to be found in jalalud\"\n",
      " of this story is to be found in jalaluddin arabic and inner concerned considered to be the sufi, the sufi activity of a man of the part of the sufi terms are the sufi development of the sufis is in the sufi and school of arabic is not a state of the arabic of the tradition of the reality of the sufi is essential the sufi complete doctrine of the sufi is a great man and sufi spiritual proaching the sufi individual to the arabic of the s\n",
      "----- diversity: 1.2\n",
      "----- Generating with seed: \" of this story is to be found in jalalud\"\n",
      " of this story is to be found in jalaluddin it was a  halra was to be a children or others and a concentration of the absorbution of the sufi masters a stage and the east in a dervish being part in a book of a carries many being because looking in contact by communication of the arabic being can be able to an individual finds are e perience in being a sufi teaching of a content of sufi teachers in accordance to experience it only the se\n",
      "\n",
      "Epoch 7: loss improved from 1.44414 to 1.43355, saving model to models/weights.hdf5\n"
     ]
    },
    {
     "name": "stderr",
     "output_type": "stream",
     "text": [
      "WARNING:absl:Found untraced functions such as lstm_cell_layer_call_fn, lstm_cell_layer_call_and_return_conditional_losses, lstm_cell_1_layer_call_fn, lstm_cell_1_layer_call_and_return_conditional_losses, lstm_cell_2_layer_call_fn while saving (showing 5 of 6). These functions will not be directly callable after loading.\n"
     ]
    },
    {
     "name": "stdout",
     "output_type": "stream",
     "text": [
      "INFO:tensorflow:Assets written to: /Users/oscarscholin/Desktop/Pomona/Junior Year/Engl151/wandb/run-20221004_200857-2urwocqu/files/model-best/assets\n"
     ]
    },
    {
     "name": "stderr",
     "output_type": "stream",
     "text": [
      "INFO:tensorflow:Assets written to: /Users/oscarscholin/Desktop/Pomona/Junior Year/Engl151/wandb/run-20221004_200857-2urwocqu/files/model-best/assets\n",
      "\u001b[34m\u001b[1mwandb\u001b[0m: Adding directory to artifact (/Users/oscarscholin/Desktop/Pomona/Junior Year/Engl151/wandb/run-20221004_200857-2urwocqu/files/model-best)... Done. 0.0s\n"
     ]
    },
    {
     "name": "stdout",
     "output_type": "stream",
     "text": [
      "9704/9704 [==============================] - 2424s 250ms/step - loss: 1.4336 - val_loss: 1.4735 - lr: 0.0010\n",
      "Epoch 8/100\n",
      "9704/9704 [==============================] - ETA: 0s - loss: 1.4219\n",
      "----- Generating text after Epoch: 7\n",
      "----- diversity: 0.2\n",
      "----- Generating with seed: \"t of both influence and assessment of th\"\n",
      "t of both influence and assessment of the sufi teacher of the sufi teacher of the sufi teacher of the sufi teacher of the sufi teacher of the sufi teacher of the sufi teacher of the sufi teacher of the sufi teacher of the sufi teacher of the sufi teacher of the sufi teacher of the sufis is the sufi teacher of the sufi teacher of the sufi teacher of the sufi teacher of the sufi teacher of the sufi teacher of the sufi teacher of the sufi \n",
      "----- diversity: 0.5\n",
      "----- Generating with seed: \"t of both influence and assessment of th\"\n",
      "t of both influence and assessment of the sufi teacher which is a person of the sufi teacher of the sufis is the sufi man who are a person which is in the sufis are the east is the sufis is the sufi material of the sufi teacher which is the sufi teacher of the sufi content of the sufi teaching of the sufi conscious of the sufi teacher of the sufi and the sufi teacher of the sufi material of the sufis of the sufis and the sufi activity o\n",
      "----- diversity: 1.0\n",
      "----- Generating with seed: \"t of both influence and assessment of th\"\n",
      "t of both influence and assessment of the arabic attar and the dervish and states which are the modem of probably in the sufi is believed that the incertain mind and the more the word and which was leave a knowledge of the sufis 15 he was a secret stage of the needs of the sufi master was because it is a ancient of the occur of the teacher had been a man . the including the dervish state of the deal of a sufi teaching of the man who are\n",
      "----- diversity: 1.2\n",
      "----- Generating with seed: \"t of both influence and assessment of th\"\n",
      "t of both influence and assessment of the sufi individual because he active poetry by the word in a man in a complete complete western man who cannot be a communities of the about a teacher of the near concept of the mind has to the most and in a western . . , the teacher of a call because the break and face of the stream and other being the freemason of the heart which is a reality of a foathic and see and a concentration of his specia\n",
      "\n",
      "Epoch 8: loss improved from 1.43355 to 1.42188, saving model to models/weights.hdf5\n"
     ]
    },
    {
     "name": "stderr",
     "output_type": "stream",
     "text": [
      "WARNING:absl:Found untraced functions such as lstm_cell_layer_call_fn, lstm_cell_layer_call_and_return_conditional_losses, lstm_cell_1_layer_call_fn, lstm_cell_1_layer_call_and_return_conditional_losses, lstm_cell_2_layer_call_fn while saving (showing 5 of 6). These functions will not be directly callable after loading.\n"
     ]
    },
    {
     "name": "stdout",
     "output_type": "stream",
     "text": [
      "INFO:tensorflow:Assets written to: /Users/oscarscholin/Desktop/Pomona/Junior Year/Engl151/wandb/run-20221004_200857-2urwocqu/files/model-best/assets\n"
     ]
    },
    {
     "name": "stderr",
     "output_type": "stream",
     "text": [
      "INFO:tensorflow:Assets written to: /Users/oscarscholin/Desktop/Pomona/Junior Year/Engl151/wandb/run-20221004_200857-2urwocqu/files/model-best/assets\n",
      "\u001b[34m\u001b[1mwandb\u001b[0m: Adding directory to artifact (/Users/oscarscholin/Desktop/Pomona/Junior Year/Engl151/wandb/run-20221004_200857-2urwocqu/files/model-best)... Done. 0.0s\n"
     ]
    },
    {
     "name": "stdout",
     "output_type": "stream",
     "text": [
      "9704/9704 [==============================] - 2454s 253ms/step - loss: 1.4219 - val_loss: 1.4664 - lr: 0.0010\n",
      "Epoch 9/100\n",
      "9704/9704 [==============================] - ETA: 0s - loss: 1.4171\n",
      "----- Generating text after Epoch: 8\n",
      "----- diversity: 0.2\n",
      "----- Generating with seed: \". therefore ignorance is laudable, becau\"\n",
      ". therefore ignorance is laudable, because the sufi stages of the sufi stages of the sufi teaching of the sufi teachers which is the sufi stages of the sufi stages of the sufi stages of the sufi stages of the sufi stages of the sufi stages of the sufi stages of the sufi stages of the sufi stages of the sufi stages of the sufi stages of the sufi stages of the sufi stages of the sufi stages of the sufi stages of the sufi stages of the suf\n",
      "----- diversity: 0.5\n",
      "----- Generating with seed: \". therefore ignorance is laudable, becau\"\n",
      ". therefore ignorance is laudable, because the sufi concerned on the sufi schools of the sufi stages of the sufi masters is the sufi tradition of the sufi stages of the sufi masters and the sufi stages of the sufi masters which has been stages and the sufi stage of the sufi stages of the sufi way of the sufi is the sufi stage of the sufi and a strange of the sufi stages of the sufi is the sufi master is the sufi is the sufi stages of th\n",
      "----- diversity: 1.0\n",
      "----- Generating with seed: \". therefore ignorance is laudable, becau\"\n",
      ". therefore ignorance is laudable, because the first dervish is a dervish schools of the collection of a bapin of a contact of the source of the secret and one perception of a story disciples and like a called a reality of the sufi are said, and the community of the ordinary and in a need for the sufi way and an all he said of a story of the reality of the sufi certain spain about a purpose of an alchemists are . a love of being complet\n",
      "----- diversity: 1.2\n",
      "----- Generating with seed: \". therefore ignorance is laudable, becau\"\n",
      ". therefore ignorance is laudable, because sufism are not be said, “matter could be seen a fresh magic is the  concerned out in the reality of meaning ma  iblude and all the problem and a dervish cannot be a few one of the real possible in a considered the phrase called the reality of the ship, because at the sufi baraka and persian, in meaning of the stage in a state of the secret deceptions of all the sufi schools about a dance of fre\n",
      "\n",
      "Epoch 9: loss improved from 1.42188 to 1.41714, saving model to models/weights.hdf5\n"
     ]
    },
    {
     "name": "stderr",
     "output_type": "stream",
     "text": [
      "WARNING:absl:Found untraced functions such as lstm_cell_layer_call_fn, lstm_cell_layer_call_and_return_conditional_losses, lstm_cell_1_layer_call_fn, lstm_cell_1_layer_call_and_return_conditional_losses, lstm_cell_2_layer_call_fn while saving (showing 5 of 6). These functions will not be directly callable after loading.\n"
     ]
    },
    {
     "name": "stdout",
     "output_type": "stream",
     "text": [
      "INFO:tensorflow:Assets written to: /Users/oscarscholin/Desktop/Pomona/Junior Year/Engl151/wandb/run-20221004_200857-2urwocqu/files/model-best/assets\n"
     ]
    },
    {
     "name": "stderr",
     "output_type": "stream",
     "text": [
      "INFO:tensorflow:Assets written to: /Users/oscarscholin/Desktop/Pomona/Junior Year/Engl151/wandb/run-20221004_200857-2urwocqu/files/model-best/assets\n",
      "\u001b[34m\u001b[1mwandb\u001b[0m: Adding directory to artifact (/Users/oscarscholin/Desktop/Pomona/Junior Year/Engl151/wandb/run-20221004_200857-2urwocqu/files/model-best)... Done. 0.0s\n"
     ]
    },
    {
     "name": "stdout",
     "output_type": "stream",
     "text": [
      "9704/9704 [==============================] - 2179s 225ms/step - loss: 1.4171 - val_loss: 1.4606 - lr: 0.0010\n",
      "Epoch 10/100\n",
      "9704/9704 [==============================] - ETA: 0s - loss: 1.4131\n",
      "----- Generating text after Epoch: 9\n",
      "----- diversity: 0.2\n",
      "----- Generating with seed: \"semitic monotheism, greek intellectualis\"\n",
      "semitic monotheism, greek intellectualism in the sufi teacher of the sufi states of the sufi teachers who are the sufi teacher of the sufi teachers who see the sufi teacher of the sufi teachers of the sufi teachers who have been the sufi teacher which is a sufi teacher of the sufi teachers in the sufi teacher of the sufi teachers who have been the sufi teacher which is a sufi teacher of the sufi teachers who see the sufi teacher of the \n",
      "----- diversity: 0.5\n",
      "----- Generating with seed: \"semitic monotheism, greek intellectualis\"\n",
      "semitic monotheism, greek intellectualism in the sufi state of the sufi schools of the reality of the sufi teachers who say that the sufi school of the sufi states of the sufi interpretation of the sufis is the sufi state of the sufi teachers which was not a sufi man who are read the sufi state of the sufi teachers of the sufi concentration of the sufi school and the sufi man who have been a strange things which is a contemporary sufi t\n",
      "----- diversity: 1.0\n",
      "----- Generating with seed: \"semitic monotheism, greek intellectualis\"\n",
      "semitic monotheism, greek intellectualism, something which is not becomes not a consciousness and provides the man had been . the dervish orders which the consciousness of the beginning in the translation of the sufis are states considered to be the a work of the sufi state. the sufi element which is an any  a sufi arabic consciousness, and especially a sufi order of many and disciples which el-arabi and all influence which are not a su\n",
      "----- diversity: 1.2\n",
      "----- Generating with seed: \"semitic monotheism, greek intellectualis\"\n",
      "semitic monotheism, greek intellectualism my translation again and a beauty may be described from the development of the secret sufi teachers of the consciousness, fact of the dark  arabic and far had been considered to the name of the arabic orthodox has not be reading to be lain to have been to an experience of the root of the dufi cancoint a describe in the seeker and consciousness and meaning and a providing an analogy of the follow\n",
      "\n",
      "Epoch 10: loss improved from 1.41714 to 1.41309, saving model to models/weights.hdf5\n",
      "9704/9704 [==============================] - 2168s 223ms/step - loss: 1.4131 - val_loss: 1.4649 - lr: 0.0010\n",
      "Epoch 11/100\n",
      "9704/9704 [==============================] - ETA: 0s - loss: 1.4098\n",
      "----- Generating text after Epoch: 10\n",
      "----- diversity: 0.2\n",
      "----- Generating with seed: \" it be pure it will lift the disciple wh\"\n",
      " it be pure it will lift the disciple who was a sufi teacher of the sufi teacher which is a sufi teacher of the sufi stage of the sufi teacher was a sufi teacher which is the sufi stage of the sufi teacher which is a sufi stage of the sufi stage of the sufi stage of the sufi stage of the sufi teacher which is a sufi teacher which is a sufi stage of the sufi stage of the sufi stage of the sufi teacher which is a sufi stage of the sufi st\n",
      "----- diversity: 0.5\n",
      "----- Generating with seed: \" it be pure it will lift the disciple wh\"\n",
      " it be pure it will lift the disciple who has been the sufi teacher which is a sufi interpreted by the sufis seem to a secret in the sufi teacher which is a contemplation of the sufi teacher of the sufis seem to the sufi man who was a contemporary man who can a state of the sufi master was the sufi stage of the process and the sufi master of the sufi teacher is recognized to the sufi stage of the sufi teacher was a contemplation of the \n",
      "----- diversity: 1.0\n",
      "----- Generating with seed: \" it be pure it will lift the disciple wh\"\n",
      " it be pure it will lift the disciple who found a since of the tradition of the ordinary stages. he according to the reality of disciple from the creation of the sufi master who is some seeker and the teacher of the stage of the secret of the sufi theory of self and a study of the ancient teaching of sufi man who can be an individual in the man which was a because of the hardly the sufi words of baraka (show a part of the patht of the r\n",
      "----- diversity: 1.2\n",
      "----- Generating with seed: \" it be pure it will lift the disciple wh\"\n",
      " it be pure it will lift the disciple who be a link sufis and first of a complete way of the part of the sufi teaching of the basic and against the material poetry is not the sufis says to form a complete and can be the processes of the secret tradition is the sheikh and form about the a higher thought of a new religion in the edian called understanding of the experience in the sufis in side -handing the recognition that it is possible \n",
      "\n",
      "Epoch 11: loss improved from 1.41309 to 1.40978, saving model to models/weights.hdf5\n"
     ]
    },
    {
     "name": "stderr",
     "output_type": "stream",
     "text": [
      "WARNING:absl:Found untraced functions such as lstm_cell_layer_call_fn, lstm_cell_layer_call_and_return_conditional_losses, lstm_cell_1_layer_call_fn, lstm_cell_1_layer_call_and_return_conditional_losses, lstm_cell_2_layer_call_fn while saving (showing 5 of 6). These functions will not be directly callable after loading.\n"
     ]
    },
    {
     "name": "stdout",
     "output_type": "stream",
     "text": [
      "INFO:tensorflow:Assets written to: /Users/oscarscholin/Desktop/Pomona/Junior Year/Engl151/wandb/run-20221004_200857-2urwocqu/files/model-best/assets\n"
     ]
    },
    {
     "name": "stderr",
     "output_type": "stream",
     "text": [
      "INFO:tensorflow:Assets written to: /Users/oscarscholin/Desktop/Pomona/Junior Year/Engl151/wandb/run-20221004_200857-2urwocqu/files/model-best/assets\n",
      "\u001b[34m\u001b[1mwandb\u001b[0m: Adding directory to artifact (/Users/oscarscholin/Desktop/Pomona/Junior Year/Engl151/wandb/run-20221004_200857-2urwocqu/files/model-best)... Done. 0.0s\n"
     ]
    },
    {
     "name": "stdout",
     "output_type": "stream",
     "text": [
      "9704/9704 [==============================] - 2168s 223ms/step - loss: 1.4098 - val_loss: 1.4590 - lr: 0.0010\n",
      "Epoch 12/100\n",
      "9704/9704 [==============================] - ETA: 0s - loss: 1.4060\n",
      "----- Generating text after Epoch: 11\n",
      "----- diversity: 0.2\n",
      "----- Generating with seed: \"n nor to a rel gious man, but to a party\"\n",
      "n nor to a rel gious man, but to a party of the sufi teacher of the sufi teacher and the sufi sense of the sufi material and the sufi is the sufi sense of the sufi material and the sufi teacher of the sufi stage of the sufi stage of the sufi teacher of the sufi stage of the sufi sense of the sufi teacher of the sufi stage of the sufi story of the sufi material of the sufi teacher of the sufi is the sufi stage of the sufi teacher of the \n",
      "----- diversity: 0.5\n",
      "----- Generating with seed: \"n nor to a rel gious man, but to a party\"\n",
      "n nor to a rel gious man, but to a party of the sufi meaning of the sufi meaning of the sufi is the sufi interpretation of the sufi is the sufi stage of the sufi material of the arab and the sufi material of the sufi stage of the sufi material of the sufis and the sufi contemplation of the sufi poetry and a complete the sufi sense of the sufis and sufism is the sufi stage of the arabic consciousness of the sufi teacher of the sufi stage\n",
      "----- diversity: 1.0\n",
      "----- Generating with seed: \"n nor to a rel gious man, but to a party\"\n",
      "n nor to a rel gious man, but to a party of the community of the sufi influence in the sufi material because a beginning end in the meaning of individuals, and the advantage of a man can be a limitation of the sufi contemplation of the sufi teaching is the basic complete meaning of scholars and in the sufi material of the sufis appears to convey the being of a probable translation of a contemporary influence of the methods of mature com\n",
      "----- diversity: 1.2\n",
      "----- Generating with seed: \"n nor to a rel gious man, but to a party\"\n",
      "n nor to a rel gious man, but to a party of the east and according to accord to did not attain the basic consciousness and instructing the sufi teachings of standing is the heart of the poetry of the tradition of deeper intellectual communication which is completely to be seem to be sufism the sufi master of the consciousness and back to the actual form of one and accepting the book of intellectual connection has seen an intellectual of\n",
      "\n",
      "Epoch 12: loss improved from 1.40978 to 1.40598, saving model to models/weights.hdf5\n",
      "9704/9704 [==============================] - 2165s 223ms/step - loss: 1.4060 - val_loss: 1.4632 - lr: 0.0010\n",
      "Epoch 13/100\n",
      "9704/9704 [==============================] - ETA: 0s - loss: 1.4036\n",
      "----- Generating text after Epoch: 12\n",
      "----- diversity: 0.2\n",
      "----- Generating with seed: \"ves through this breakdown of their secr\"\n",
      "ves through this breakdown of their secret sufis in the sufis said to the sufi stage of the sufis said, “the sufi is the sufi stage of the sufis said to the sufi teacher of the sufi teachers of the sufi teachers of the sufis said, “the sufis say that the sufis said that the sufi master who was a sufi teacher of the sufi teachers of the sufi stages of the sufis said, “the sufi is the sufi teacher of the sufis said, “the sufi is the sufi \n",
      "----- diversity: 0.5\n",
      "----- Generating with seed: \"ves through this breakdown of their secr\"\n",
      "ves through this breakdown of their secret interpretation of the sufis in the sufis seem to the teacher of the sufi stages of the sufi masters of the sufis said to the sufis state to the most of the sufi interpretation of the sufi teachers of the sufi is the sufis said to the sufis and sufi teachings of the sufis said, “the sufi consciousness is the consciousness of the sufi teachers and the sufi master was a contemporary theory of the \n",
      "----- diversity: 1.0\n",
      "----- Generating with seed: \"ves through this breakdown of their secr\"\n",
      "ves through this breakdown of their secret personality of sufism in the point of the sufi interpretation of the arabic instruction of the sufis seems to be found in the back of early be says a matter which is considered to the sufi  fact established for the tale of facts that it is the basic sufi tradition of the arabic experience is  the consciousness, one does not a man who are something of the given him had experience that it is in t\n",
      "----- diversity: 1.2\n",
      "----- Generating with seed: \"ves through this breakdown of their secr\"\n",
      "ves through this breakdown of their secret love , the sufis said to be a strange sufi system, the action in early and a false of the contemplation of the physical concentrations of the practice of sufi dentiny and e perience and practice upon the most of the signal normal methods and the other contemporary life. a balance is faith the basic language is a contain and deeping for the time of the stage in a sufi beautiful sufism are finds \n",
      "\n",
      "Epoch 13: loss improved from 1.40598 to 1.40356, saving model to models/weights.hdf5\n"
     ]
    },
    {
     "name": "stderr",
     "output_type": "stream",
     "text": [
      "WARNING:absl:Found untraced functions such as lstm_cell_layer_call_fn, lstm_cell_layer_call_and_return_conditional_losses, lstm_cell_1_layer_call_fn, lstm_cell_1_layer_call_and_return_conditional_losses, lstm_cell_2_layer_call_fn while saving (showing 5 of 6). These functions will not be directly callable after loading.\n"
     ]
    },
    {
     "name": "stdout",
     "output_type": "stream",
     "text": [
      "INFO:tensorflow:Assets written to: /Users/oscarscholin/Desktop/Pomona/Junior Year/Engl151/wandb/run-20221004_200857-2urwocqu/files/model-best/assets\n"
     ]
    },
    {
     "name": "stderr",
     "output_type": "stream",
     "text": [
      "INFO:tensorflow:Assets written to: /Users/oscarscholin/Desktop/Pomona/Junior Year/Engl151/wandb/run-20221004_200857-2urwocqu/files/model-best/assets\n",
      "\u001b[34m\u001b[1mwandb\u001b[0m: Adding directory to artifact (/Users/oscarscholin/Desktop/Pomona/Junior Year/Engl151/wandb/run-20221004_200857-2urwocqu/files/model-best)... Done. 0.0s\n"
     ]
    },
    {
     "name": "stdout",
     "output_type": "stream",
     "text": [
      "9704/9704 [==============================] - 2282s 235ms/step - loss: 1.4036 - val_loss: 1.4494 - lr: 0.0010\n",
      "Epoch 14/100\n",
      "9704/9704 [==============================] - ETA: 0s - loss: 1.4001\n",
      "----- Generating text after Epoch: 13\n",
      "----- diversity: 0.2\n",
      "----- Generating with seed: \"a scoffer, u committed, or had a complet\"\n",
      "a scoffer, u committed, or had a complete process of the sufi state of the sufi master of the sufi masters of the sufi masters and the sufi master was the sufi state of the sufi teacher of the sufi master was the sufi state of the sufi state of the sufi master of the sufi master was a sufi stage of the sufi master of the sufi stages of the sufi master was the sufi was the sufi master of the sufi stage of the sufi state of the sufi maste\n",
      "----- diversity: 0.5\n",
      "----- Generating with seed: \"a scoffer, u committed, or had a complet\"\n",
      "a scoffer, u committed, or had a complete process of the sufi stages of the more than the man who have to be a contemporary thing that the sufi is a sufi arabic and product of the sufi state of the sufi master of the constant reality of the sufi teacher of the sufi consider to the sufi story of the sufi stage of the sufi consider to the sufi consider to the sufi master in the sufi teacher of the sufi man who could not be a contemporary \n",
      "----- diversity: 1.0\n",
      "----- Generating with seed: \"a scoffer, u committed, or had a complet\"\n",
      "a scoffer, u committed, or had a complete fact that the fact that the dervish orders are the consequence of the fact that the best of the sufi is the dervish teachers of the east to the way of the sufi form of the line of the baraka else partially been an entered the ancient and a complete consider of the capacity and instructive disciples which is not the progress of the method of the higher stages of a consciousness of the disciple of\n",
      "----- diversity: 1.2\n",
      "----- Generating with seed: \"a scoffer, u committed, or had a complet\"\n",
      "a scoffer, u committed, or had a complete man in ideas. the form of individuals is have been able to a present of a complete and spain of disciples, and the kernel formal tradition is completely and balanced and the elephant of his basis before in the later secret sufi factors must be a recently disciple and characteristics of consciousness is the more than no man based upon what he had been activated in the dervish association of a did\n",
      "\n",
      "Epoch 14: loss improved from 1.40356 to 1.40015, saving model to models/weights.hdf5\n",
      "9704/9704 [==============================] - 2156s 222ms/step - loss: 1.4001 - val_loss: 1.4559 - lr: 0.0010\n",
      "Epoch 15/100\n",
      "9704/9704 [==============================] - ETA: 0s - loss: 1.3968\n",
      "----- Generating text after Epoch: 14\n",
      "----- diversity: 0.2\n",
      "----- Generating with seed: \"ts manifestation is followed by concealm\"\n",
      "ts manifestation is followed by concealment of the sufi teaching of the sufi state of the sufi state of the sufi teaching of the sufis and the sufis are the sufis are the sufi teaching of the sufis and the sufis and the sufi state of the sufi master which is the sufi teaching of the sufi state of the sufis and the sufi state of the sufis and the sufi teacher of the sufis and the sufis are the sufi state of the sufis and the sufi state o\n",
      "----- diversity: 0.5\n",
      "----- Generating with seed: \"ts manifestation is followed by concealm\"\n",
      "ts manifestation is followed by concealment of the sufi teacher and the sufi is the sufis of the sufis of the process of the sufi man is the sufis of the arabic thinking of the sufi teaching of the sufis and seemed a persian state of the sufi and a state of the poet and the order of the contemporary deal of the sufi schools of the sufi teaching of the christian teachers and the sufi state of the meaning of the sufis of the sufi teacher \n",
      "----- diversity: 1.0\n",
      "----- Generating with seed: \"ts manifestation is followed by concealm\"\n",
      "ts manifestation is followed by concealment of the concept of sufism, who tried to find the understandin"
     ]
    },
    {
     "name": "stderr",
     "output_type": "stream",
     "text": [
      "/var/folders/4q/td1j5kb117s9mnpgltqnnvqc0000gn/T/ipykernel_11197/3299423408.py:8: RuntimeWarning: divide by zero encountered in log\n",
      "  preds = np.log(preds) / temperature\n"
     ]
    },
    {
     "name": "stdout",
     "output_type": "stream",
     "text": [
      "g of a action of sufism. the arabic can be called a sufi, he had a sufi time, and because the sufi is all the hands of sufism, in the constant and strange theory of consciousness, and a sufi and hand which is a less and of the same and standard personality of the sufi dervish states. an experience of the sufi being realized to the ord\n",
      "----- diversity: 1.2\n",
      "----- Generating with seed: \"ts manifestation is followed by concealm\"\n",
      "ts manifestation is followed by concealment of life and individual and people of the man between a creation of the ancient went and sading completely through a man who had to make the precimitive word for bloc first been many poetry is the transmitter of the learning man from the complete sense of condition and a concept of a learning of something of the actual teaching which for a secret sufi can be persian a present and fact that the \n",
      "\n",
      "Epoch 15: loss improved from 1.40015 to 1.39683, saving model to models/weights.hdf5\n",
      "9704/9704 [==============================] - 2208s 228ms/step - loss: 1.3968 - val_loss: 1.4568 - lr: 0.0010\n",
      "Epoch 16/100\n",
      "9704/9704 [==============================] - ETA: 0s - loss: 1.3933\n",
      "----- Generating text after Epoch: 15\n",
      "----- diversity: 0.2\n",
      "----- Generating with seed: \"t only are you blind,” his mother answer\"\n",
      "t only are you blind,” his mother answered the sufi teacher and the sufi teacher which is a sufi teacher of the sufi teachers and the sufi teacher which is a sufi teacher of the sufis and the sufis and the sufis of the sufi state of the sufis and the sufis and the sufi teacher that they are the sufi state of the sufi teacher and the sufi teacher that they are the sufis and the sufi teacher which is a sufi teacher of the sufi teachers of\n",
      "----- diversity: 0.5\n",
      "----- Generating with seed: \"t only are you blind,” his mother answer\"\n",
      "t only are you blind,” his mother answered the sufi sense of the sufi teacher of the sufis there is a sufi is the dervish stages of the sufi sufi schools and the sufis and the sufi is a sufi and the sufi teacher of the man who was a sufi teacher of the sufi and the sufi teacher and the sufi is a sufi and sufi schools of the dervish schools of the travelers and the dervish poetry and the sufi state of the dervish stages of the sufis that\n",
      "----- diversity: 1.0\n",
      "----- Generating with seed: \"t only are you blind,” his mother answer\"\n",
      "t only are you blind,” his mother answered the activation of the sufis in the fact that they are a development of the real man, the man was a cannot be a sufi stage of baraka could be a certain basic part of reality, and considered to the first e perience of god is the earlier way of the sufi teacher and he is not a process is  the dervish is desired to be a scholar of the translation of a necessary of the earlier system that a metaphys\n",
      "----- diversity: 1.2\n",
      "----- Generating with seed: \"t only are you blind,” his mother answer\"\n",
      "t only are you blind,” his mother answers the arabic elements of the fact that a dervish has been a personal factor of ignorance of the man that it is a sufis and here and a secret more people of the sufi sufi knowledge. every whole sense is not a barm of the one of the man who was also a concept of a sound to be a sufis of the east the divine knowledge which is happening in a concept of sufi presents for the west dependently all the ar\n",
      "\n",
      "Epoch 16: loss improved from 1.39683 to 1.39332, saving model to models/weights.hdf5\n"
     ]
    },
    {
     "name": "stderr",
     "output_type": "stream",
     "text": [
      "WARNING:absl:Found untraced functions such as lstm_cell_layer_call_fn, lstm_cell_layer_call_and_return_conditional_losses, lstm_cell_1_layer_call_fn, lstm_cell_1_layer_call_and_return_conditional_losses, lstm_cell_2_layer_call_fn while saving (showing 5 of 6). These functions will not be directly callable after loading.\n"
     ]
    },
    {
     "name": "stdout",
     "output_type": "stream",
     "text": [
      "INFO:tensorflow:Assets written to: /Users/oscarscholin/Desktop/Pomona/Junior Year/Engl151/wandb/run-20221004_200857-2urwocqu/files/model-best/assets\n"
     ]
    },
    {
     "name": "stderr",
     "output_type": "stream",
     "text": [
      "INFO:tensorflow:Assets written to: /Users/oscarscholin/Desktop/Pomona/Junior Year/Engl151/wandb/run-20221004_200857-2urwocqu/files/model-best/assets\n",
      "\u001b[34m\u001b[1mwandb\u001b[0m: Adding directory to artifact (/Users/oscarscholin/Desktop/Pomona/Junior Year/Engl151/wandb/run-20221004_200857-2urwocqu/files/model-best)... Done. 0.0s\n"
     ]
    },
    {
     "name": "stdout",
     "output_type": "stream",
     "text": [
      "9704/9704 [==============================] - 2195s 226ms/step - loss: 1.3933 - val_loss: 1.4462 - lr: 0.0010\n",
      "Epoch 17/100\n",
      "9704/9704 [==============================] - ETA: 0s - loss: 1.3898\n",
      "----- Generating text after Epoch: 16\n",
      "----- diversity: 0.2\n",
      "----- Generating with seed: \" profi ing by the repute of the patchwor\"\n",
      " profi ing by the repute of the patchwork. the sufis are the sufi state of the sufis and the sufi state of the sufi state of the sufis and the sufi teacher is the sufi teacher of the sufi teacher of the sufi teacher in the sufi teacher of the sufi teacher and the sufi teacher of the sufi teacher of the sufi teacher in the sufis and the sufi state of the sufi state of the sufis and the sufi teacher in the sufi state of the sufis and the \n",
      "----- diversity: 0.5\n",
      "----- Generating with seed: \" profi ing by the repute of the patchwor\"\n",
      " profi ing by the repute of the patchwors. the sufi state of the sufi and the sufi state of the sufi state of the sufi state of the experience of the sufis of the sufi consciousness of the sufis of the sufis and the sufi teacher of the formal orders of the sufi and the theologian of the sufi meaning of the individual of the sufi teacher in the east and the sufi state of the sufi teacher of the sufis the translation of the sufi state of \n",
      "----- diversity: 1.0\n",
      "----- Generating with seed: \" profi ing by the repute of the patchwor\"\n",
      " profi ing by the repute of the patchworsen for the secret individual in the form of center to call the sufis and a person of the alchemy and instruction is a same adept the man who is a sufi way of the sufis who has been a theologian man has to be considered to be in a concept of sufism in the religious consciousness of more life the sufi and the sufis and other schools of the proves of the sufi teachers and with for the secret theolog\n",
      "----- diversity: 1.2\n",
      "----- Generating with seed: \" profi ing by the repute of the patchwor\"\n",
      " profi ing by the repute of the patchword and the e perience of the scholastic slowled development of the (sufic experience, and the dervish can  can a need adapted the sufi meaning of the first assessment the head of the perception of the fear of belief in person can be called by sufism and part and because he can be made the money of the his dance because he can actually accept the theologian poetry of concept of the arabic ) the west\n",
      "\n",
      "Epoch 17: loss improved from 1.39332 to 1.38979, saving model to models/weights.hdf5\n",
      "9704/9704 [==============================] - 2195s 226ms/step - loss: 1.3898 - val_loss: 1.4517 - lr: 0.0010\n",
      "Epoch 18/100\n",
      "9704/9704 [==============================] - ETA: 0s - loss: 1.3884\n",
      "----- Generating text after Epoch: 17\n",
      "----- diversity: 0.2\n",
      "----- Generating with seed: \"he difference between the color of the w\"\n",
      "he difference between the color of the word for the sufi school of the sufi school of the sufi school of the sufi the sufi master was the sufi school of the sufi school of the sufi school of the sufi school of the sufi school of the sufi school of the sufi school of the sufi school of the sufi school of the sufi teacher that the sufi story was a sufi the sufi the sufi school of the sufi school of the sufi school of the sufi school of th\n",
      "----- diversity: 0.5\n",
      "----- Generating with seed: \"he difference between the color of the w\"\n",
      "he difference between the color of the word for the sufi teacher of the sufi school of the sufi mysticism of the sufis says that the sufi is the physical meaning of the sufi master and the sufi is the sufi story of the sufi school of the sufi schools and intellectual action of the sufi state of the sufis shows the sufi and the sufi school of the sufis of the sufis the sufi can be experienced by the sufis and the sufi master was a sufi m\n",
      "----- diversity: 1.0\n",
      "----- Generating with seed: \"he difference between the color of the w\"\n",
      "he difference between the color of the way of interesting of a complete complete world continue to the man in the sufis of the direct sufi or path of a continuing an interpretation w"
     ]
    },
    {
     "name": "stderr",
     "output_type": "stream",
     "text": [
      "/var/folders/4q/td1j5kb117s9mnpgltqnnvqc0000gn/T/ipykernel_11197/3299423408.py:8: RuntimeWarning: divide by zero encountered in log\n",
      "  preds = np.log(preds) / temperature\n"
     ]
    },
    {
     "name": "stdout",
     "output_type": "stream",
     "text": [
      "hich could be an activity of his literary and beginning present schools. it is the sufis ” the sufi is a sufi meaning of the need of the arabic methods which may be considered to leave it in the saracen , and a sufi consciousness of the interesting in a pres\n",
      "----- diversity: 1.2\n",
      "----- Generating with seed: \"he difference between the color of the w\"\n",
      "he difference between the color of the work, for instance and back in the intellectual process of the east of the term has a reality of accordance with the something for the sufi is the real a fillen. the sufi school of the sufi eternal teachers and the man learned by means of a different story of the meanings of methods of salt and been comes and a limited with his love and in the theory for experience are not an experience of the disc\n",
      "\n",
      "Epoch 18: loss improved from 1.38979 to 1.38835, saving model to models/weights.hdf5\n",
      "9704/9704 [==============================] - 2117s 218ms/step - loss: 1.3884 - val_loss: 1.4633 - lr: 0.0010\n",
      "Epoch 19/100\n",
      "9704/9704 [==============================] - ETA: 0s - loss: 1.3843\n",
      "----- Generating text after Epoch: 18\n",
      "----- diversity: 0.2\n",
      "----- Generating with seed: \"c orga ization of, say, christianity or \"\n",
      "c orga ization of, say, christianity or the sufi state of the sufi state of the sufi state of the sufi stages of the sufi stages of the sufi state of the sufi state of the sufi teacher is the sufi teacher and the sufi teacher is the sufi teacher in the sufi teacher to the sufi stage of the sufi teacher to the sufi teacher that the sufi is the sufi teacher is the sufi teacher to the sufi teacher to the sufi teacher in the sufi teacher in\n",
      "----- diversity: 0.5\n",
      "----- Generating with seed: \"c orga ization of, say, christianity or \"\n",
      "c orga ization of, say, christianity or the sufi is the sufi teacher and the sufi teacher is a contemporary personality of the sufi man and the sufi teacher that the sufis are a sufi teacher and the sufi activity and poetry is a state of the sufi teacher of the sufi is the sufi teacher and the sufi believes and the sufi state of the dervish orders and sufis are a state of the sufi teacher and the sufi teacher and the sufi teacher to the\n",
      "----- diversity: 1.0\n",
      "----- Generating with seed: \"c orga ization of, say, christianity or \"\n",
      "c orga ization of, say, christianity or some man of sufism and branches and personality of the baraka which is an emphasis of the second of the fact that he has to be said, said nasrudin, the answer is considered to accept the co sciousness of sufi individuals of the provide of the first ecstatic experiences of the sufi material and said, “the sufis have a sufi in dervish formal about the sufi teacher is called the man who has no consid\n",
      "----- diversity: 1.2\n",
      "----- Generating with seed: \"c orga ization of, say, christianity or \"\n",
      "c orga ization of, say, christianity or advance for the philosophy, a sufi language considered the character of started are the control and his belief in the consciousness of development. the baraka was have been activated to add the fact that the reality of the sufi is called a man from back of his holoring of the man,  the and secret coalmen and all man, and combined by the true meaning of the content of all the being in the sufi stat\n",
      "\n",
      "Epoch 19: loss improved from 1.38835 to 1.38435, saving model to models/weights.hdf5\n",
      "9704/9704 [==============================] - 2270s 234ms/step - loss: 1.3843 - val_loss: 1.4686 - lr: 0.0010\n",
      "Epoch 20/100\n",
      "9704/9704 [==============================] - ETA: 0s - loss: 1.3905\n",
      "----- Generating text after Epoch: 19\n",
      "----- diversity: 0.2\n",
      "----- Generating with seed: \"som times they rode hobbyhorses, sometim\"\n",
      "som times they rode hobbyhorses, sometimes and the sufi teacher and the sufi teacher in the sufi teacher in the sufi teacher which is a sufi teacher of the sufis and the sufi state of the sufis and the sufi is a sufi teacher of the sufis and the sufi is the sufi is the sufi teacher which is the sufis and the sufi teacher in the sufi teacher in the sufis and the sufis and the sufi teacher to the sufi teacher of the sufi teacher in the su\n",
      "----- diversity: 0.5\n",
      "----- Generating with seed: \"som times they rode hobbyhorses, sometim\"\n",
      "som times they rode hobbyhorses, sometimes the sufis and the sufi is a man and the sufi teacher to the person which is a contention of the sufi teacher to the sufi teacher of the sufis and the sufi state of the sufi teacher and the sufis and the theological sufi teacher in the sufi state of the word for the dervish order the sufi is the fact that the sufi is a sufis and the sufi in the sufi teacher in the sufi teacher in the sufi stages\n",
      "----- diversity: 1.0\n",
      "----- Generating with seed: \"som times they rode hobbyhorses, sometim\"\n",
      "som times they rode hobbyhorses, sometimes the same and contact with a sense of a person of a states of sufism, and the sufi schools of the sufi same of the human mind and considered to its first continues and contained in order to depend out that the baraka was the many factors and the arabic schools of all the sufis and the ordinary form of the eastern man to contain the dervish philosophers of the sufi state is the truth of the arabi\n",
      "----- diversity: 1.2\n",
      "----- Generating with seed: \"som times they rode hobbyhorses, sometim\"\n",
      "som times they rode hobbyhorses, sometimes a circle of the event which is a because it is the language of the same name the garter a . in the sheikh is concerned by a light that from a person and the word for the person that the sufi is because the sufis are a state of the sufis in a practical has of a literal adaption do not know what he cannot be contained and been a main persian secret activity, and the decode of sage realization by \n",
      "\n",
      "Epoch 20: loss did not improve from 1.38435\n",
      "9704/9704 [==============================] - 2248s 232ms/step - loss: 1.3905 - val_loss: 1.4596 - lr: 0.0010\n",
      "Epoch 21/100\n",
      "9704/9704 [==============================] - ETA: 0s - loss: 1.3801\n",
      "----- Generating text after Epoch: 20\n",
      "----- diversity: 0.2\n",
      "----- Generating with seed: \"s even greater knowledge of sufism than \"\n",
      "s even greater knowledge of sufism than the sufi stage and the sufi may be a content of the sufi teacher in the sufi teacher is a man who has been a complete man who can be a man who has been a content of the sufi teacher with the sufi may be a consciousness of the sufi teacher of the sufi stages of the sufi is a consciousness of the sufi man who has been a man who has been a complete man who has been a sufi teacher of the sufi stage of\n",
      "----- diversity: 0.5\n",
      "----- Generating with seed: \"s even greater knowledge of sufism than \"\n",
      "s even greater knowledge of sufism than the sufi stage of the sufi teacher will be a secret teacher of the individual of the sufis and the sufis and the sufi is the sufis of the word for the man who are not a content of the sufi stage of the sufi man and english in the sufis  have to be a secret method of the sufis and the sufi is a consciousness of the sufi teacher in the sufis of the sufi may be a consciousness of the contemporary con\n",
      "----- diversity: 1.0\n",
      "----- Generating with seed: \"s even greater knowledge of sufism than \"\n",
      "s even greater knowledge of sufism than special completely in the fact that the reference of the material of the manner is not only when he is the secret sense of the great reality of the east which we have to be able to remain a man who was the poet and many of the ancient elements may be able to sufi teacher and the person has been almost be a mind, is a dervish interpretation of the dervish completely the fact that he can consider th\n",
      "----- diversity: 1.2\n",
      "----- Generating with seed: \"s even greater knowledge of sufism than \"\n",
      "s even greater knowledge of sufism than english physical and his consciousness of a hermes of the consciousness of the other man and acceptance of the man as a man in brand of the religion of the religion began to approach the dervishes, and have the contemporary orders had been seen and commentary, because he was not  the moslem cannot have to , encisenged to seeking names to all the name is the second in said, “the sufis , a came disc\n",
      "\n",
      "Epoch 21: loss improved from 1.38435 to 1.38013, saving model to models/weights.hdf5\n",
      "9704/9704 [==============================] - 2153s 222ms/step - loss: 1.3801 - val_loss: 1.4516 - lr: 0.0010\n",
      "Epoch 22/100\n",
      "9704/9704 [==============================] - ETA: 0s - loss: 1.4124\n",
      "----- Generating text after Epoch: 21\n",
      "----- diversity: 0.2\n",
      "----- Generating with seed: \"evel they do indeed contribute toward th\"\n",
      "evel they do indeed contribute toward the sufi teacher of the sufi state of the sufi teacher to the sufi teacher of the sufi teacher in the sufi teacher of the sufi teacher and the sufi teacher and the sufi teacher which is the sufis and the sufi is the sufi teacher of the sufi teacher to the sufi teacher of the sufi teacher of the sufi teacher to the sufi teacher of the sufi teacher and the sufi teacher and the sufi is the sufis and th\n",
      "----- diversity: 0.5\n",
      "----- Generating with seed: \"evel they do indeed contribute toward th\"\n",
      "evel they do indeed contribute toward the content in the sufis and the sufi is a sufi school of the sufi teacher to the sufis the sufi is the sufi teacher to the sufi interpretation of the sufi teacher and individual is the sufis and the sufis and all the sufis and the sufi school of the sufi teacher and the sufis  the sufi is the sufi state of the sufi teacher in the sufi teacher to the sufi and the sufi the sufi with the sufi and the \n",
      "----- diversity: 1.0\n",
      "----- Generating with seed: \"evel they do indeed contribute toward th\"\n",
      "evel they do indeed contribute toward the sufi theory as a man called the content in the arabic or moment which are all the secret and made in the ordinary philosophy which has to be a love of the group in sufi teachers. the process of the teacher in the best things which is a part of the desert and sufi material for its -orient and the man of the state of the sufis and can be considered to be partially because it was a part of the acco\n",
      "----- diversity: 1.2\n",
      "----- Generating with seed: \"evel they do indeed contribute toward th\"\n",
      "evel they do indeed contribute toward the old the sufis, the form of all light read something more such a energe of no means that certain action is the sufi apparent form of the age in the ordinary sacred stage of consciousness and the sufi teacher and seem that realization was  spain and his schools which were a basic story. a female deal is only not in persian continuous productions in a basic name (understanding that he has been cons\n",
      "\n",
      "Epoch 22: loss did not improve from 1.38013\n",
      "9704/9704 [==============================] - 2208s 228ms/step - loss: 1.4124 - val_loss: 1.4506 - lr: 0.0010\n",
      "Epoch 23/100\n",
      "9704/9704 [==============================] - ETA: 0s - loss: 1.3776\n",
      "----- Generating text after Epoch: 22\n",
      "----- diversity: 0.2\n",
      "----- Generating with seed: \"h, whose full name is nawab-zaba sayed i\"\n",
      "h, whose full name is nawab-zaba sayed in the sufis and the sufi states of the sufi teacher in the sufi teacher of the sufis and the sufi is the sufis the sufi is the sufi teacher of the sufis and the sufis and the sufis and the sufi teacher of the sufi teacher in the sufi states of the sufis and the sufis and the sufi states of the sufis and the sufi teacher of the sufis the sufis and the sufis and the sufis and the sufis and the sufi \n",
      "----- diversity: 0.5\n",
      "----- Generating with seed: \"h, whose full name is nawab-zaba sayed i\"\n",
      "h, whose full name is nawab-zaba sayed in the sufi sense of the sufis of the man who can be a sufi teacher of the sufi teacher of the sufi poetry and the sufi teacher in the sufis and the sufi states of the sufis the sufi association of the sufis and the sufi states of the sufis and the sufis  the sufis and the sufi and any sufi interpretation of the sufi in the man who had been the sufis and the sufis and the sufi states of the sufi te\n",
      "----- diversity: 1.0\n",
      "----- Generating with seed: \"h, whose full name is nawab-zaba sayed i\"\n",
      "h, whose full name is nawab-zaba sayed in sufi teaching and the second and perfection that he can be a contemporary and be seen in the sufi capacity of the master and the consciousness of the sufi consciousness, and it was an analogy between a book is not many thinking cannot all the poet in the mind in the first and loan of the feeling of a capacity in a man in the ) sufis the dervish and balance of the interpretation of the middle age\n",
      "----- diversity: 1.2\n",
      "----- Generating with seed: \"h, whose full name is nawab-zaba sayed i\"\n",
      "h, whose full name is nawab-zaba sayed in a great sufi interpretation of manifestation in a similar teaching of an aspect of sufism, in the alchemists of the dervish existing and teaching and find and complete sufi canden the activity of the birds can be a die of the order in a christian experience. there is a disciple of the master because of fact that the complete language has a meaning of all his experience of the comprehensive being\n",
      "\n",
      "Epoch 23: loss improved from 1.38013 to 1.37761, saving model to models/weights.hdf5\n"
     ]
    },
    {
     "name": "stderr",
     "output_type": "stream",
     "text": [
      "WARNING:absl:Found untraced functions such as lstm_cell_layer_call_fn, lstm_cell_layer_call_and_return_conditional_losses, lstm_cell_1_layer_call_fn, lstm_cell_1_layer_call_and_return_conditional_losses, lstm_cell_2_layer_call_fn while saving (showing 5 of 6). These functions will not be directly callable after loading.\n"
     ]
    },
    {
     "name": "stdout",
     "output_type": "stream",
     "text": [
      "INFO:tensorflow:Assets written to: /Users/oscarscholin/Desktop/Pomona/Junior Year/Engl151/wandb/run-20221004_200857-2urwocqu/files/model-best/assets\n"
     ]
    },
    {
     "name": "stderr",
     "output_type": "stream",
     "text": [
      "INFO:tensorflow:Assets written to: /Users/oscarscholin/Desktop/Pomona/Junior Year/Engl151/wandb/run-20221004_200857-2urwocqu/files/model-best/assets\n",
      "\u001b[34m\u001b[1mwandb\u001b[0m: Adding directory to artifact (/Users/oscarscholin/Desktop/Pomona/Junior Year/Engl151/wandb/run-20221004_200857-2urwocqu/files/model-best)... Done. 0.0s\n"
     ]
    },
    {
     "name": "stdout",
     "output_type": "stream",
     "text": [
      "9704/9704 [==============================] - 2144s 221ms/step - loss: 1.3776 - val_loss: 1.4443 - lr: 0.0010\n",
      "Epoch 24/100\n",
      "9704/9704 [==============================] - ETA: 0s - loss: 1.4078\n",
      "----- Generating text after Epoch: 23\n",
      "----- diversity: 0.2\n",
      "----- Generating with seed: \"grim necessity. sufi teaching can only b\"\n",
      "grim necessity. sufi teaching can only be a sufis and the sufis and the sufi teacher of the sufis and the sufis and the sufis and the sufis and the sufi is the sufi teacher of the sufis and the sufis and the sufis and the sufis and the sufis and the sufis and the sufi is the sufi things of the sufi things and the sufis and the sufis and the sufis and the sufis and the sufis and the sufi is the sufis and the sufis and the sufi teacher of\n",
      "----- diversity: 0.5\n",
      "----- Generating with seed: \"grim necessity. sufi teaching can only b\"\n",
      "grim necessity. sufi teaching can only be a master of the sufis and many of the east and the sufi and the sufis and the sufis and the arabic or a sufi thing in the sufis and the sufis the sufi is a consciousness of the man which is the sufis and the individual and experience of the contemporary or a sufi teacher of the sufi teachers of the sufi state of the teacher of the sufis and the sufis and the sufis stands for the sufis  self-seek\n",
      "----- diversity: 1.0\n",
      "----- Generating with seed: \"grim necessity. sufi teaching can only b\"\n",
      "grim necessity. sufi teaching can only be a sufis in the sufi teacher of the arabic theoretical (the activity of an attainment of mental western personality, which is a contemporary consciousness of the sufi thinking in a consciousness of the francis of the individual of the edent in the fact that it is e perienced by the activity of disciples to be a special concentration of the product of the product of consideration to the nasrudin s\n",
      "----- diversity: 1.2\n",
      "----- Generating with seed: \"grim necessity. sufi teaching can only b\"\n",
      "grim necessity. sufi teaching can only be a certain pers"
     ]
    },
    {
     "name": "stderr",
     "output_type": "stream",
     "text": [
      "/var/folders/4q/td1j5kb117s9mnpgltqnnvqc0000gn/T/ipykernel_11197/3299423408.py:8: RuntimeWarning: divide by zero encountered in log\n",
      "  preds = np.log(preds) / temperature\n"
     ]
    },
    {
     "name": "stdout",
     "output_type": "stream",
     "text": [
      "onal people who had a secret school, and many forms of the sufis  said to the tradition of the middle ages at one action. the love may have been of the ancient reality  sleep to professor and the personal scholastic teachers are essentially and an in an apply a christian fact cannot be a teacher for factors which is characterized as the consciousness of experience and material brea\n",
      "\n",
      "Epoch 24: loss did not improve from 1.37761\n",
      "9704/9704 [==============================] - 2162s 223ms/step - loss: 1.4078 - val_loss: 1.4532 - lr: 0.0010\n",
      "Epoch 25/100\n",
      "9704/9704 [==============================] - ETA: 0s - loss: 1.7163\n",
      "----- Generating text after Epoch: 24\n",
      "----- diversity: 0.2\n",
      "----- Generating with seed: \"holy of holies) in mecca is draped in bl\"\n",
      "holy of holies) in mecca is draped in black tradition that the sufi is the sufi teacher of the sufi teacher is the sufi teacher of the sufi teachers and the sufi teacher and the sufi teacher and the sufi teacher and the sufi teacher and the sufi teacher and the sufi teacher in the sufi teacher and the sufi teacher in the sufi teacher of the sufi teachers and the sufi teacher and the sufi teacher of the sufi teacher in the sufi teacher i\n",
      "----- diversity: 0.5\n",
      "----- Generating with seed: \"holy of holies) in mecca is draped in bl\"\n",
      "holy of holies) in mecca is draped in blind to the man of the sufi teachers. the sufi is the sufi is a person of the sufi teacher and many things which is a consciousness of the sufi teacher of the sufi teachers and a sufi seemed to the sufi teacher and the sufi and the sufi teacher in the sufi seeker in the sufi is the sufi teacher of the sufi is the sufi is a man and the sufi teacher and a story of the sufi teacher in the sufis and th\n",
      "----- diversity: 1.0\n",
      "----- Generating with seed: \"holy of holies) in mecca is draped in bl\"\n",
      "holy of holies) in mecca is draped in black end in the theologian in the meaning of instructor by sufis and because the sufis are the rest of the same sages and also known to the sufi background in the same process of the teacher. it is something the form of a certain state of the arabic sense of the individual people in the arabic interpretation of the secret sense of the sufi and experience and and activated for a false of many a stor\n",
      "----- diversity: 1.2\n",
      "----- Generating with seed: \"holy of holies) in mecca is draped in bl\"\n",
      "holy of holies) in mecca is draped in black deal in the alchemical method of the west. but it is in a fregment of the sufi -one, the field of what we enable the builders and the fact that the fact that the sufi may explain the activation of ibn el-arabi in the other and continued as a sufis, and only no dervish . when it is not only in by one things from the book which was known as the man of the sufi bath complete and of the dervish de\n",
      "\n",
      "Epoch 25: loss did not improve from 1.37761\n",
      "9704/9704 [==============================] - 2053s 212ms/step - loss: 1.7163 - val_loss: 1.4577 - lr: 0.0010\n",
      "Epoch 26/100\n",
      "9704/9704 [==============================] - ETA: 0s - loss: 1.3745\n",
      "----- Generating text after Epoch: 25\n",
      "----- diversity: 0.2\n",
      "----- Generating with seed: \"ctly, without having him attend the gene\"\n",
      "ctly, without having him attend the general state of the sufi things and a sufi thing and all the sufi things and the sufi teacher of the sufi teacher and the sufi things and the sufi teaching of the sufi things and the sufi theory of the sufi teacher of the sufi things and all the sufi things and the sufi things and the sufi the sufis and the sufis and the sufis and the sufi teacher of the sufi things and the sufi things of the sufi th\n",
      "----- diversity: 0.5\n",
      "----- Generating with seed: \"ctly, without having him attend the gene\"\n",
      "ctly, without having him attend the general thing and acceptable than the sufi state of the sufis and the dervish orders and the sufi the sufi interpretation of the sufis and the sufi master of the sufi things that the sufi is the sufis and the sufis and the sufi things and the sufi things which is the sufis and all the sufi theory of the sufi theological things and the sufis and the sufis and the sufi thing and the sufi teacher to the \n",
      "----- diversity: 1.0\n",
      "----- Generating with seed: \"ctly, without having him attend the gene\"\n",
      "ctly, without having him attend the general teacher of the a faith of the sufi master for the meaning of god and different and -n in the early meaning of the mental experience of the creation of the tradition of the a sense of a sufi sense of sufi alchemy of the sufis and one music and a christian state of sufic tradition of the most activity of the best a sufi believer as the sufi teacher in the sufi thing that the sufis “the sufi is a\n",
      "----- diversity: 1.2\n",
      "----- Generating with seed: \"ctly, without having him attend the gene\"\n",
      "ctly, without having him attend the general necessary alchemical experience, and the sufis \" - the idea of a philosophy of a transmission of a commentator among the sufis and the consciousness of his path of society, the sufis and many words of the general thing in consecration the alchemy of his state to element in a complete secret desire of the more phrase when he will be translated and a friend of his teacher was all all the underst\n",
      "\n",
      "Epoch 26: loss improved from 1.37761 to 1.37451, saving model to models/weights.hdf5\n",
      "9704/9704 [==============================] - 2205s 227ms/step - loss: 1.3745 - val_loss: 1.4464 - lr: 0.0010\n",
      "Epoch 27/100\n",
      "9704/9704 [==============================] - ETA: 0s - loss: 1.3803\n",
      "----- Generating text after Epoch: 26\n",
      "----- diversity: 0.2\n",
      "----- Generating with seed: \"n interrelation—a continuum. the classic\"\n",
      "n interrelation—a continuum. the classical stages of the sufi stages of the sufi theory and the sufi thinking of the sufi thinking is the sufi theory of the sufi theory and the sufi theory and the sufi theory and the sufi theory of the sufi thinking and the sufi thinking and the sufis and the sufi teacher of the sufi teacher in the sufi theory of the sufi theory and the sufis and the sufi theory and the sufi thinking and the sufi theory\n",
      "----- diversity: 0.5\n",
      "----- Generating with seed: \"n interrelation—a continuum. the classic\"\n",
      "n interrelation—a continuum. the classical consciousness of the sufi stage of the sufi stage of the sufis and the sufi teacher of the sufi theory of the sufi stage of the sufi theory of the method of the sufi teacher and states of the sufis and the sufis and a sufi thinking of the sufis and the sufis and the sufi teacher of the more than the sufi story of the sufi teacher of the sufi teacher to the order of the sufi tradition of the suf\n",
      "----- diversity: 1.0\n",
      "----- Generating with seed: \"n interrelation—a continuum. the classic\"\n",
      "n interrelation—a continuum. the classical personal meanings of the individual and be so on the disciple of the dervish and contemporary basis of money of the sufi meaning of the form of the sufi shows that the way of the product of the consciousness of the sufi theory and the sufi teacher of the fact that he is a consciousness of the sufis and his sufi all the alchemists of the greatest dervish changes may be said to have a familiar wo\n",
      "----- diversity: 1.2\n",
      "----- Generating with seed: \"n interrelation—a continuum. the classic\"\n",
      "n interrelation—a continuum. the classical meaning of the context of the method of gained for instance, which are not the concept of the school of the process of the great order of a transmission of the sufis of sufic contention and your one and stages to find the order of the sufi and seeking for its alchemists and even some present theologian of the east and initiatory poetry, the author of the best complete and sufi teachers, and a s\n",
      "\n",
      "Epoch 27: loss did not improve from 1.37451\n"
     ]
    },
    {
     "name": "stderr",
     "output_type": "stream",
     "text": [
      "WARNING:absl:Found untraced functions such as lstm_cell_layer_call_fn, lstm_cell_layer_call_and_return_conditional_losses, lstm_cell_1_layer_call_fn, lstm_cell_1_layer_call_and_return_conditional_losses, lstm_cell_2_layer_call_fn while saving (showing 5 of 6). These functions will not be directly callable after loading.\n"
     ]
    },
    {
     "name": "stdout",
     "output_type": "stream",
     "text": [
      "INFO:tensorflow:Assets written to: /Users/oscarscholin/Desktop/Pomona/Junior Year/Engl151/wandb/run-20221004_200857-2urwocqu/files/model-best/assets\n"
     ]
    },
    {
     "name": "stderr",
     "output_type": "stream",
     "text": [
      "INFO:tensorflow:Assets written to: /Users/oscarscholin/Desktop/Pomona/Junior Year/Engl151/wandb/run-20221004_200857-2urwocqu/files/model-best/assets\n",
      "\u001b[34m\u001b[1mwandb\u001b[0m: Adding directory to artifact (/Users/oscarscholin/Desktop/Pomona/Junior Year/Engl151/wandb/run-20221004_200857-2urwocqu/files/model-best)... Done. 0.0s\n"
     ]
    },
    {
     "name": "stdout",
     "output_type": "stream",
     "text": [
      "9704/9704 [==============================] - 2200s 227ms/step - loss: 1.3803 - val_loss: 1.4425 - lr: 0.0010\n",
      "Epoch 28/100\n",
      "9704/9704 [==============================] - ETA: 0s - loss: 1.3688\n",
      "----- Generating text after Epoch: 27\n",
      "----- diversity: 0.2\n",
      "----- Generating with seed: \" to pass through the gates. omar looked \"\n",
      " to pass through the gates. omar looked and the sufi teacher and the sufi sense of the sufi state of the sufi state of the sufi state of the sufi teacher to the sufi sense of the sufi state of the sufi state of the sufi teacher with the sufi teacher of the sufi state of the sufi state of the sufi teacher and the sufi teacher in the sufi teacher of the sufi state of the sufi stage of the sufi teacher and the sufi teacher of the sufi teac\n",
      "----- diversity: 0.5\n",
      "----- Generating with seed: \" to pass through the gates. omar looked \"\n",
      " to pass through the gates. omar looked in the sufi teacher and interpretation that the sufi is the sufi teacher of the sufi teacher in a state of the sufi teacher to the sufi teacher of the sufi teacher in the sufi teacher of the sufi stage of the sufi teacher that the sufi can be started to the sufi teacher of the sufi consciousness of the sufi sense of the sufi states of the sufi personal stages of the sufi stages of the sufi state o\n",
      "----- diversity: 1.0\n",
      "----- Generating with seed: \" to pass through the gates. omar looked \"\n",
      " to pass through the gates. omar looked the fact that the sufi consciousness has been becomes a spanish man and his application and reality of the inner experience. but it is a christian and because he finds the part of the sufi sense in the east and the sufi is can be a personal and reality, in the teaching of a source of interpretation and indications of which the sufis there was not in the most sufis of all the sufi aiberal conscious\n",
      "----- diversity: 1.2\n",
      "----- Generating with seed: \" to pass through the gates. omar looked \"\n",
      " to pass through the gates. omar looked and who was transmitted the dervish chinese according to the sufi order of a because when it is generally because the arabic stage can be so only when he says a continuous transmittation of the most english school into a creation of sadis may be an aspect of a sic to be unless it is supposed on the connection of the result of the sufi way special development, and generally  a animal and one which \n",
      "\n",
      "Epoch 28: loss improved from 1.37451 to 1.36879, saving model to models/weights.hdf5\n",
      "9704/9704 [==============================] - 2220s 229ms/step - loss: 1.3688 - val_loss: 1.4436 - lr: 0.0010\n",
      "Epoch 29/100\n",
      "9704/9704 [==============================] - ETA: 0s - loss: 1.4779\n",
      "----- Generating text after Epoch: 28\n",
      "----- diversity: 0.2\n",
      "----- Generating with seed: \"ut an inner perception of what these are\"\n",
      "ut an inner perception of what these are the su! the"
     ]
    },
    {
     "name": "stderr",
     "output_type": "stream",
     "text": [
      "/var/folders/4q/td1j5kb117s9mnpgltqnnvqc0000gn/T/ipykernel_11197/3299423408.py:8: RuntimeWarning: divide by zero encountered in log\n",
      "  preds = np.log(preds) / temperature\n"
     ]
    },
    {
     "name": "stdout",
     "output_type": "stream",
     "text": [
      " sufi teacher whi! ‘the sufi is a sufi teacher of the sufi teaching and the sufi teacher w‘the sufi teachers had been a sufi teacher of the sufi teachers of the sufi teachers of the sufi teaching and the sufi teacher w‘the sufi teachers had been a sufi teacher and the sufi teacher which is the sufi st‘and the sufi teacher which i! the sufi te] the sufi teacher was a sufis and the sufi \n",
      "----- diversity: 0.5\n",
      "----- Generating with seed: \"ut an inner perception of what these are\"\n",
      "ut an inner perception of what these are not th! a consciousness of t* the sufi s‘t‘of the sufi masters of the sufi teachers an alchemy of the sufi and the sufi teacher which is t! the sufi] the sufi master of the sufi= a! a sufi stage of the sufi te! the sufi may be a concept of the sufi interpretation of the sufi teac*ing the p‘concept of the s‘francis of the/ s&a aming the sufi way of the sufi ‘states of the [alchemists of t[mental a\n",
      "----- diversity: 1.0\n",
      "----- Generating with seed: \"ut an inner perception of what these are\"\n",
      "ut an inner perception of what these are the co’nt work that the char= ‘hands anded for the derv= i] the no more a‘poss’s a prob/ as a consci/u of happening experiences that he exists the contemplation of the ‘more bears of ! he w‘is the individual also a stage of the signi* of the sufis in the secret state of content= who has bee= it was happening a if it is a state of stadic of the sufi teaching of the sufi master who eppects the sufi\n",
      "----- diversity: 1.2\n",
      "----- Generating with seed: \"ut an inner perception of what these are\"\n",
      "ut an inner perception of what these are formed= the community of the&d* palg and in its ‘different world./ also returned to h[s boo‘ religions and modem sense, and make a great deal of the commun= conn‘dents as his ed a perce’st of derived/  the characteristics of a secret demonstration of the tradition of formal man/ the a missi! daecally an initiatory basic state of the sufi all the teacher in sripe reason because he else, or in the \n",
      "\n",
      "Epoch 29: loss did not improve from 1.36879\n",
      "9704/9704 [==============================] - 2343s 241ms/step - loss: 1.4779 - val_loss: 5.5737 - lr: 0.0010\n",
      "Epoch 30/100\n",
      "9704/9704 [==============================] - ETA: 0s - loss: 10.5305\n",
      "----- Generating text after Epoch: 29\n",
      "----- diversity: 0.2\n",
      "----- Generating with seed: \"he role of the exquisite poetry in the o\"\n",
      "he role of the exquisite poetry in the ordinary sufi teacher of the sufi state of the sufi teacher and the sufi state of the sufi state of the sufi teacher of the sufi state of the sufi teacher in the sufi state of the sufi state of the sufi teacher of the sufi stage of the sufi teacher of the sufi state of the sufi teacher which is the sufi teacher of the sufi state of the sufi seeker and the sufi teacher of the sufi seeker in the sufi\n",
      "----- diversity: 0.5\n",
      "----- Generating with seed: \"he role of the exquisite poetry in the o\"\n",
      "he role of the exquisite poetry in the order of the sufi seemer and association in the sufi master in a man in the teacher of the sufi meaning of the sufi state of the sufi poetry of the sufi teacher of the sufi seeker in the sufi seeker with the sufi state of the sufi teacher of the dervish stories and the sufi and the sufi teacher which is the sufi meaning of the meaning of the sufi state of the sufi because the sufi is a sufi teacher\n",
      "----- diversity: 1.0\n",
      "----- Generating with seed: \"he role of the exquisite poetry in the o\"\n",
      "he role of the exquisite poetry in the ordinary stage of the persian contemporary factors and a to say that the teacher of the form of the dervish poetry is the individual to a persian the scholastic be. the ordinary person and a concept of a persian and all the sufi teacher and the sufi and because he is not a part of the describe and the dervish sufi complete persian that a complete element of the scholastic or man of sufi stages of t\n",
      "----- diversity: 1.2\n",
      "----- Generating with seed: \"he role of the exquisite poetry in the o\"\n",
      "he role of the exquisite poetry in the order, and it is a first sufi story of reality of a sufi is the dervish communication recognized people in a certain interesting at the paradise of all individuals, he says, a stage with a wisdom of ideas of a persian early development of the probably a tale of it in the reality of sufism in a one of the time of persian and the individual, but a charcoal in secret sase to the author and special fac\n",
      "\n",
      "Epoch 30: loss did not improve from 1.36879\n",
      "9704/9704 [==============================] - 2307s 238ms/step - loss: 10.5305 - val_loss: 1.4578 - lr: 0.0010\n",
      "Epoch 31/100\n",
      "9704/9704 [==============================] - ETA: 0s - loss: 1.3859\n",
      "----- Generating text after Epoch: 30\n",
      "----- diversity: 0.2\n",
      "----- Generating with seed: \"ich was current throughout spain, \"ruin”\"\n",
      "ich was current throughout spain, \"ruin” the sufi state of the sufi state of the sufi state of the sufi stage of the sufi stages of the sufi state of the sufi state of the sufi state of the sufi state of the sufi state of the sufi state of the sufi stage of the sufi state of the sufi state of the sufi state of the sufi state of the sufi state of the sufi state of the sufi state of the sufi state of the sufi stages of the sufi state of t\n",
      "----- diversity: 0.5\n",
      "----- Generating with seed: \"ich was current throughout spain, \"ruin”\"\n",
      "ich was current throughout spain, \"ruin” the sufi is the sufi teacher of the sufi story of the sufi stages of the sufi state of the sufi story of the fact that the sufi is a part of the sufi state of the sufi interesting a concept of the sufi story of the sufi teachers of the sufi stages of the sufi is a sufi teacher of the sufi assumption that the sufi is a sufi state of the sufi assumption that the sufi is a contemporary teacher of th\n",
      "----- diversity: 1.0\n",
      "----- Generating with seed: \"ich was current throughout spain, \"ruin”\"\n",
      "ich was current throughout spain, \"ruin” as we can be able to continue the sufi state, the contemporary changes and creation and contemporary scholars that a sufi is not beauty in the same concept of the book of an ancient stream and later reality. the sufi is started in the sufi experience of experience in the reality. the sufi may the sufi assumption for a sufi state of the sufi consciousness. it is entirely because he can be a certai\n",
      "----- diversity: 1.2\n",
      "----- Generating with seed: \"ich was current throughout spain, \"ruin”\"\n",
      "ich was current throughout spain, \"ruin” the affirm of the sufis and fallen and life in all mere and precedent of all of the phase and asia said that the sufi material was the sufi way of the sufi experiences of man of the sufis before he does not fall on the sufi or called basis in a way has been called the co sciousness and dervish brings the basis of the inner concept of the sufi teachers and professor the secret way of a concealed s\n",
      "\n",
      "Epoch 31: loss did not improve from 1.36879\n",
      "9704/9704 [==============================] - 2293s 236ms/step - loss: 1.3859 - val_loss: 1.4540 - lr: 0.0010\n",
      "Epoch 32/100\n",
      "9704/9704 [==============================] - ETA: 0s - loss: 1.3738\n",
      "----- Generating text after Epoch: 31\n",
      "----- diversity: 0.2\n",
      "----- Generating with seed: \"as his own soul: \"attar traversed the se\"\n",
      "as his own soul: \"attar traversed the secret sense of the sufi teacher of the sufi state of the sufi man of the sufi stages of the sufi teacher of the sufi stage of the sufi state of the sufi teacher and the sufi teacher of the sufi stages of the sufi state of the sufi state of the sufi state of the sufi state of the sufi state of the sufi state of the sufi man who was the sufi state of the sufi state of the sufi stage of the sufi state\n",
      "----- diversity: 0.5\n",
      "----- Generating with seed: \"as his own soul: \"attar traversed the se\"\n",
      "as his own soul: \"attar traversed the secret development of the consciousness of the sufi state of the sufi interpretation of the sufi assumption that the sufi is the proper sufi school of the development of the sufi and sufi schools of the more concept of the sufis as the sufi seemingly experience of the sufi teacher and the sufi secret teachings of the sufi teacher and interpretation of the sufi state of the contention of the sufi poe\n",
      "----- diversity: 1.0\n",
      "----- Generating with seed: \"as his own soul: \"attar traversed the se\"\n",
      "as his own soul: \"attar traversed the secret reality of a secret and a few of its and sufi schools and the theme of sufism in the sufis and his fact that the sufis was only supposed to the sufis. the consciousness is represented in a being in most parallel small alchemical sufi teachers and substitutes of the development of the modem di finds of the secret order of all the arabic states which the sufi is the secret sense of the day as t\n",
      "----- diversity: 1.2\n",
      "----- Generating with seed: \"as his own soul: \"attar traversed the se\"\n",
      "as his own soul: \"attar traversed the seeker has been accepted by a baraka back to his whole sufis in crutching the teaching and grave on early activity and a great deal and application. a replication of the problem of all mind. the arabic or each have been among the sufi. in the ordinary man east a number of a proper theme of both personality in enception of the master hald a looked upon it else, all the fact that the human language ca\n",
      "\n",
      "Epoch 32: loss did not improve from 1.36879\n",
      "9704/9704 [==============================] - 2311s 238ms/step - loss: 1.3738 - val_loss: 1.4476 - lr: 0.0010\n",
      "Epoch 33/100\n",
      "9704/9704 [==============================] - ETA: 0s - loss: 1.3687\n",
      "----- Generating text after Epoch: 32\n",
      "----- diversity: 0.2\n",
      "----- Generating with seed: \"d we have reached only a single street.”\"\n",
      "d we have reached only a single street.” the sufi is the sufi state of the sufi teacher of the sufi states of the sufi states of the sufi states of the sufi teacher of the sufi teachers of the sufi teacher of the sufi teacher of the sufi states of the sufi teacher of the sufi teacher of the sufi states of the sufi states of the sufi state of the sufi states of the sufi teacher of the sufi teacher of the sufi states of the sufi states of\n",
      "----- diversity: 0.5\n",
      "----- Generating with seed: \"d we have reached only a single street.”\"\n",
      "d we have reached only a single street.” the sufi is the sufi contemporary life of the sufi consciousness of the sufi stages of the sufi teacher and considered to be a process of the sufi teacher in the sufi interpretation of the sufi contemporary thinking and the sufi master the sufi stream of a sufi story of the man who seems to be a concept of the sufi teaching of the sufi teacher and the sufi state of the sufi state of the sufi beli\n",
      "----- diversity: 1.0\n",
      "----- Generating with seed: \"d we have reached only a single street.”\"\n",
      "d we have reached only a single street.” the disciple is an experience of the sufis for its processes and a dervish orders who would transmitted in the complete man of a part of the sufi beliefs that a form of the sufi teacher was not dervish needs to experience the most experience of the -aradi unhering the arabic or because he can be a concept of the modern teacher. the unity of the inner personality of the first of the point of the s\n",
      "----- diversity: 1.2\n",
      "----- Generating with seed: \"d we have reached only a single street.”\"\n",
      "d we have reached only a single street.” the fact that he would in the penetration of addition of a teacher of his fakir, the same state of saint and realized by formal activity. the sufi is an activation of partial action, which are only the sheikh being else and the bole. it is a state of his teacher of the language of the man in the dervish is a possibly as a practice, which could produce a form of the order of factor, but the person\n",
      "\n",
      "Epoch 33: loss improved from 1.36879 to 1.36874, saving model to models/weights.hdf5\n",
      "9704/9704 [==============================] - 2298s 237ms/step - loss: 1.3687 - val_loss: 1.4476 - lr: 0.0010\n",
      "Epoch 34/100\n",
      "9704/9704 [==============================] - ETA: 0s - loss: 5.2430\n",
      "----- Generating text after Epoch: 33\n",
      "----- diversity: 0.2\n",
      "----- Generating with seed: \"of ordinary life, but cannot be carried \"\n",
      "of ordinary life, but cannot be carried aoly tho gen w the , then a men been to bosh   tes h s takes   a contain antee of o che is sasi and the , to the  o + e t  en n n ns r  lsss tens tosiote the  o when acu hal is hotes   e ant tese then  oum te p e ante   a co ter e   a e  and a gan allan to be all the , the  occosh man was to   e andert e seo   acce ofet a wan sase thes    a cono of then ans of t tasas as  the , a anthe  oas then a\n",
      "----- diversity: 0.5\n",
      "----- Generating with seed: \"of ordinary life, but cannot be carried \"\n",
      "of ordinary life, but cannot be carried af ace of the  hal hou   the millines  an the s hhs asis th  t t t the te+/& e ta       e nte e enshisisis s the de  oen to      snnesa ?ss      e s l   e     e e       e    e  o               e  e        e  e                    e  e             e  e           e  a s            e             e                  e  e           e  e            e            e  e                  e  e                  \n",
      "----- diversity: 1.0\n",
      "----- Generating with seed: \"of ordinary life, but cannot be carried \"\n",
      "of ordinary life, but cannot be carried in this shom c eightin ato a great exphaseae a le sal  ? a   e ens   sanas  a  e parily and a numbers and may be doud not the  aca line suchi ti , and  ten  a   a and of in acal  act of thte   ]eee ella m e e of nam tr n trensi and the , hzd c * he wofo! tentithe it the    of e are , ton trt sas   b sa      l all  a rabd e s h nese come and as never becaus acade in wher acture are sufher the , and\n",
      "----- diversity: 1.2\n",
      "----- Generating with seed: \"of ordinary life, but cannot be carried \"\n",
      "of ordinary life, but cannot be carried af wher az canacle e the ar we   he mes in stam go d te a ite ha  a  eastin has . “ e eate i  has  acase the  i the  i hay at  ancho o dan -as   tenci  s and ire destar at a. the  a gohi d++< th  s > t t s s e e  s ee ar   te    7   e     s  e    e   e  e so    e      e ara    ne  e  e  ha a ta  e rakh e polor fakir  actualizasis arg for hin. the  acad with   imnet ren tho  of y s a tam and b c th\n",
      "\n",
      "Epoch 34: loss did not improve from 1.36874\n",
      "9704/9704 [==============================] - 2276s 235ms/step - loss: 5.2430 - val_loss: 27.1497 - lr: 0.0010\n",
      "Epoch 35/100\n",
      "9704/9704 [==============================] - ETA: 0s - loss: 22.3509\n",
      "----- Generating text after Epoch: 34\n",
      "----- diversity: 0.2\n",
      "----- Generating with seed: \" passing his hand into the neck of the b\"\n",
      " passing his hand into the neck of the being of the sufis and the sufis and the sufis and the sufis and the sufis and the sufis and the sufis and the sufis and the sufis and the sufis and the sufis and the sufis and the sufis and the sufis and the sufis and the sufis and the sufis and the sufis and the sufis and the sufis and the sufis and the sufis and the sufis and the sufis and the sufis and the sufis and the sufis and the sufis and \n",
      "----- diversity: 0.5\n",
      "----- Generating with seed: \" passing his hand into the neck of the b\"\n",
      " passing his hand into the neck of the being and the sufis the sufis and the sufis and sufism is the sufis and the sufis and the sufis the sufis and the sufis and the sufis and the sufis and the sufis the sufi is the concept of the sufis that the sufis are the alchemical sufism and the concept of the sufis and sufism and the arabic and the product of the sufis the concept of the sufis and sufism which is the sufis and sufism which has b\n",
      "----- diversity: 1.0\n",
      "----- Generating with seed: \" passing his hand into the neck of the b\"\n",
      " passing his hand into the neck of the bird as contained the sufis according to a school and the master sufis, of the disciple of fact of the truth concentrated by the dervish orders of the concept of the sufi poetic orders become a sufis. the sufis of the sufis is the concept of the world of the last and and the sufis seem that they are the content of the east of the sufis come to the sufis and the order of the words, some of the exper\n",
      "----- diversity: 1.2\n",
      "----- Generating with seed: \" passing his hand into the neck of the b\"\n",
      " passing his hand into the neck of the being things of persians of ex taction of the relationship in a learner. sufism as a communication of the concept of the sufi being merely with the activity of the sufic sage and method for the body of the fulfillment of his communication and importance of a number to perception to the adam of development and fact and money to the deal in the individual schools when it can affact the individual of \n",
      "\n",
      "Epoch 35: loss did not improve from 1.36874\n",
      "9704/9704 [==============================] - 2323s 239ms/step - loss: 22.3509 - val_loss: 1.5343 - lr: 0.0010\n",
      "Epoch 36/100\n",
      " 552/9704 [>.............................] - ETA: 33:16 - loss: 1.4858"
     ]
    },
    {
     "data": {
      "text/html": [
       "Waiting for W&B process to finish... <strong style=\"color:red\">(failed 1).</strong> Press Control-C to abort syncing."
      ],
      "text/plain": [
       "<IPython.core.display.HTML object>"
      ]
     },
     "metadata": {},
     "output_type": "display_data"
    },
    {
     "data": {
      "application/vnd.jupyter.widget-view+json": {
       "model_id": "76c6e6621bbc4d1a929550bf7a690115",
       "version_major": 2,
       "version_minor": 0
      },
      "text/plain": [
       "VBox(children=(Label(value='100.351 MB of 100.351 MB uploaded (0.019 MB deduped)\\r'), FloatProgress(value=1.0,…"
      ]
     },
     "metadata": {},
     "output_type": "display_data"
    },
    {
     "data": {
      "text/html": [
       "<style>\n",
       "    table.wandb td:nth-child(1) { padding: 0 10px; text-align: left ; width: auto;} td:nth-child(2) {text-align: left ; width: 100%}\n",
       "    .wandb-row { display: flex; flex-direction: row; flex-wrap: wrap; justify-content: flex-start; width: 100% }\n",
       "    .wandb-col { display: flex; flex-direction: column; flex-basis: 100%; flex: 1; padding: 10px; }\n",
       "    </style>\n",
       "<div class=\"wandb-row\"><div class=\"wandb-col\"><h3>Run history:</h3><br/><table class=\"wandb\"><tr><td>epoch</td><td>▁▁▁▂▂▂▂▂▃▃▃▃▃▄▄▄▄▅▅▅▅▅▆▆▆▆▆▇▇▇▇▇███</td></tr><tr><td>loss</td><td>▁▁▁▁▁▁▁▁▁▁▁▁▁▁▁▁▁▁▁▁▁▁▁▁▁▁▁▁▁▄▁▁▁▂█</td></tr><tr><td>lr</td><td>▁▁▁▁▁▁▁▁▁▁▁▁▁▁▁▁▁▁▁▁▁▁▁▁▁▁▁▁▁▁▁▁▁▁▁</td></tr><tr><td>val_loss</td><td>▁▁▁▁▁▁▁▁▁▁▁▁▁▁▁▁▁▁▁▁▁▁▁▁▁▁▁▁▂▁▁▁▁█▁</td></tr></table><br/></div><div class=\"wandb-col\"><h3>Run summary:</h3><br/><table class=\"wandb\"><tr><td>GFLOPs</td><td>1e-05</td></tr><tr><td>best_epoch</td><td>26</td></tr><tr><td>best_val_loss</td><td>1.44249</td></tr><tr><td>epoch</td><td>34</td></tr><tr><td>loss</td><td>22.3509</td></tr><tr><td>lr</td><td>0.001</td></tr><tr><td>val_loss</td><td>1.53432</td></tr></table><br/></div></div>"
      ],
      "text/plain": [
       "<IPython.core.display.HTML object>"
      ]
     },
     "metadata": {},
     "output_type": "display_data"
    },
    {
     "data": {
      "text/html": [
       "Synced <strong style=\"color:#cdcd00\">swift-plant-10</strong>: <a href=\"https://wandb.ai/oscarscholin/uncategorized/runs/38fjw2ri\" target=\"_blank\">https://wandb.ai/oscarscholin/uncategorized/runs/38fjw2ri</a><br/>Synced 6 W&B file(s), 1 media file(s), 40 artifact file(s) and 0 other file(s)"
      ],
      "text/plain": [
       "<IPython.core.display.HTML object>"
      ]
     },
     "metadata": {},
     "output_type": "display_data"
    },
    {
     "data": {
      "text/html": [
       "Find logs at: <code>./wandb/run-20221004_200908-38fjw2ri/logs</code>"
      ],
      "text/plain": [
       "<IPython.core.display.HTML object>"
      ]
     },
     "metadata": {},
     "output_type": "display_data"
    },
    {
     "ename": "KeyboardInterrupt",
     "evalue": "",
     "output_type": "error",
     "traceback": [
      "\u001b[0;31m---------------------------------------------------------------------------\u001b[0m",
      "\u001b[0;31mKeyboardInterrupt\u001b[0m                         Traceback (most recent call last)",
      "\u001b[0;32m/var/folders/4q/td1j5kb117s9mnpgltqnnvqc0000gn/T/ipykernel_11197/3364925475.py\u001b[0m in \u001b[0;36m<module>\u001b[0;34m\u001b[0m\n\u001b[0;32m----> 1\u001b[0;31m \u001b[0mtrain\u001b[0m\u001b[0;34m(\u001b[0m\u001b[0;34m)\u001b[0m\u001b[0;34m\u001b[0m\u001b[0;34m\u001b[0m\u001b[0m\n\u001b[0m",
      "\u001b[0;32m/var/folders/4q/td1j5kb117s9mnpgltqnnvqc0000gn/T/ipykernel_11197/1202946901.py\u001b[0m in \u001b[0;36mtrain\u001b[0;34m(config)\u001b[0m\n\u001b[1;32m     11\u001b[0m \u001b[0;34m\u001b[0m\u001b[0m\n\u001b[1;32m     12\u001b[0m       \u001b[0;31m#now run training\u001b[0m\u001b[0;34m\u001b[0m\u001b[0;34m\u001b[0m\u001b[0m\n\u001b[0;32m---> 13\u001b[0;31m       history = model.fit(\n\u001b[0m\u001b[1;32m     14\u001b[0m         \u001b[0mx_train\u001b[0m\u001b[0;34m,\u001b[0m \u001b[0my_train\u001b[0m\u001b[0;34m,\u001b[0m\u001b[0;34m\u001b[0m\u001b[0;34m\u001b[0m\u001b[0m\n\u001b[1;32m     15\u001b[0m         \u001b[0mbatch_size\u001b[0m \u001b[0;34m=\u001b[0m \u001b[0mbatch_size\u001b[0m\u001b[0;34m,\u001b[0m\u001b[0;34m\u001b[0m\u001b[0;34m\u001b[0m\u001b[0m\n",
      "\u001b[0;32m/opt/anaconda3/lib/python3.9/site-packages/wandb/integration/keras/keras.py\u001b[0m in \u001b[0;36mnew_v2\u001b[0;34m(*args, **kwargs)\u001b[0m\n\u001b[1;32m    172\u001b[0m             \u001b[0;32mfor\u001b[0m \u001b[0mcbk\u001b[0m \u001b[0;32min\u001b[0m \u001b[0mcbks\u001b[0m\u001b[0;34m:\u001b[0m\u001b[0;34m\u001b[0m\u001b[0;34m\u001b[0m\u001b[0m\n\u001b[1;32m    173\u001b[0m                 \u001b[0mset_wandb_attrs\u001b[0m\u001b[0;34m(\u001b[0m\u001b[0mcbk\u001b[0m\u001b[0;34m,\u001b[0m \u001b[0mval_data\u001b[0m\u001b[0;34m)\u001b[0m\u001b[0;34m\u001b[0m\u001b[0;34m\u001b[0m\u001b[0m\n\u001b[0;32m--> 174\u001b[0;31m         \u001b[0;32mreturn\u001b[0m \u001b[0mold_v2\u001b[0m\u001b[0;34m(\u001b[0m\u001b[0;34m*\u001b[0m\u001b[0margs\u001b[0m\u001b[0;34m,\u001b[0m \u001b[0;34m**\u001b[0m\u001b[0mkwargs\u001b[0m\u001b[0;34m)\u001b[0m\u001b[0;34m\u001b[0m\u001b[0;34m\u001b[0m\u001b[0m\n\u001b[0m\u001b[1;32m    175\u001b[0m \u001b[0;34m\u001b[0m\u001b[0m\n\u001b[1;32m    176\u001b[0m     \u001b[0mtraining_arrays\u001b[0m\u001b[0;34m.\u001b[0m\u001b[0morig_fit_loop\u001b[0m \u001b[0;34m=\u001b[0m \u001b[0mold_arrays\u001b[0m\u001b[0;34m\u001b[0m\u001b[0;34m\u001b[0m\u001b[0m\n",
      "\u001b[0;32m/opt/anaconda3/lib/python3.9/site-packages/keras/utils/traceback_utils.py\u001b[0m in \u001b[0;36merror_handler\u001b[0;34m(*args, **kwargs)\u001b[0m\n\u001b[1;32m     62\u001b[0m     \u001b[0mfiltered_tb\u001b[0m \u001b[0;34m=\u001b[0m \u001b[0;32mNone\u001b[0m\u001b[0;34m\u001b[0m\u001b[0;34m\u001b[0m\u001b[0m\n\u001b[1;32m     63\u001b[0m     \u001b[0;32mtry\u001b[0m\u001b[0;34m:\u001b[0m\u001b[0;34m\u001b[0m\u001b[0;34m\u001b[0m\u001b[0m\n\u001b[0;32m---> 64\u001b[0;31m       \u001b[0;32mreturn\u001b[0m \u001b[0mfn\u001b[0m\u001b[0;34m(\u001b[0m\u001b[0;34m*\u001b[0m\u001b[0margs\u001b[0m\u001b[0;34m,\u001b[0m \u001b[0;34m**\u001b[0m\u001b[0mkwargs\u001b[0m\u001b[0;34m)\u001b[0m\u001b[0;34m\u001b[0m\u001b[0;34m\u001b[0m\u001b[0m\n\u001b[0m\u001b[1;32m     65\u001b[0m     \u001b[0;32mexcept\u001b[0m \u001b[0mException\u001b[0m \u001b[0;32mas\u001b[0m \u001b[0me\u001b[0m\u001b[0;34m:\u001b[0m  \u001b[0;31m# pylint: disable=broad-except\u001b[0m\u001b[0;34m\u001b[0m\u001b[0;34m\u001b[0m\u001b[0m\n\u001b[1;32m     66\u001b[0m       \u001b[0mfiltered_tb\u001b[0m \u001b[0;34m=\u001b[0m \u001b[0m_process_traceback_frames\u001b[0m\u001b[0;34m(\u001b[0m\u001b[0me\u001b[0m\u001b[0;34m.\u001b[0m\u001b[0m__traceback__\u001b[0m\u001b[0;34m)\u001b[0m\u001b[0;34m\u001b[0m\u001b[0;34m\u001b[0m\u001b[0m\n",
      "\u001b[0;32m/opt/anaconda3/lib/python3.9/site-packages/keras/engine/training.py\u001b[0m in \u001b[0;36mfit\u001b[0;34m(self, x, y, batch_size, epochs, verbose, callbacks, validation_split, validation_data, shuffle, class_weight, sample_weight, initial_epoch, steps_per_epoch, validation_steps, validation_batch_size, validation_freq, max_queue_size, workers, use_multiprocessing)\u001b[0m\n\u001b[1;32m   1407\u001b[0m                 _r=1):\n\u001b[1;32m   1408\u001b[0m               \u001b[0mcallbacks\u001b[0m\u001b[0;34m.\u001b[0m\u001b[0mon_train_batch_begin\u001b[0m\u001b[0;34m(\u001b[0m\u001b[0mstep\u001b[0m\u001b[0;34m)\u001b[0m\u001b[0;34m\u001b[0m\u001b[0;34m\u001b[0m\u001b[0m\n\u001b[0;32m-> 1409\u001b[0;31m               \u001b[0mtmp_logs\u001b[0m \u001b[0;34m=\u001b[0m \u001b[0mself\u001b[0m\u001b[0;34m.\u001b[0m\u001b[0mtrain_function\u001b[0m\u001b[0;34m(\u001b[0m\u001b[0miterator\u001b[0m\u001b[0;34m)\u001b[0m\u001b[0;34m\u001b[0m\u001b[0;34m\u001b[0m\u001b[0m\n\u001b[0m\u001b[1;32m   1410\u001b[0m               \u001b[0;32mif\u001b[0m \u001b[0mdata_handler\u001b[0m\u001b[0;34m.\u001b[0m\u001b[0mshould_sync\u001b[0m\u001b[0;34m:\u001b[0m\u001b[0;34m\u001b[0m\u001b[0;34m\u001b[0m\u001b[0m\n\u001b[1;32m   1411\u001b[0m                 \u001b[0mcontext\u001b[0m\u001b[0;34m.\u001b[0m\u001b[0masync_wait\u001b[0m\u001b[0;34m(\u001b[0m\u001b[0;34m)\u001b[0m\u001b[0;34m\u001b[0m\u001b[0;34m\u001b[0m\u001b[0m\n",
      "\u001b[0;32m/opt/anaconda3/lib/python3.9/site-packages/tensorflow/python/util/traceback_utils.py\u001b[0m in \u001b[0;36merror_handler\u001b[0;34m(*args, **kwargs)\u001b[0m\n\u001b[1;32m    148\u001b[0m     \u001b[0mfiltered_tb\u001b[0m \u001b[0;34m=\u001b[0m \u001b[0;32mNone\u001b[0m\u001b[0;34m\u001b[0m\u001b[0;34m\u001b[0m\u001b[0m\n\u001b[1;32m    149\u001b[0m     \u001b[0;32mtry\u001b[0m\u001b[0;34m:\u001b[0m\u001b[0;34m\u001b[0m\u001b[0;34m\u001b[0m\u001b[0m\n\u001b[0;32m--> 150\u001b[0;31m       \u001b[0;32mreturn\u001b[0m \u001b[0mfn\u001b[0m\u001b[0;34m(\u001b[0m\u001b[0;34m*\u001b[0m\u001b[0margs\u001b[0m\u001b[0;34m,\u001b[0m \u001b[0;34m**\u001b[0m\u001b[0mkwargs\u001b[0m\u001b[0;34m)\u001b[0m\u001b[0;34m\u001b[0m\u001b[0;34m\u001b[0m\u001b[0m\n\u001b[0m\u001b[1;32m    151\u001b[0m     \u001b[0;32mexcept\u001b[0m \u001b[0mException\u001b[0m \u001b[0;32mas\u001b[0m \u001b[0me\u001b[0m\u001b[0;34m:\u001b[0m\u001b[0;34m\u001b[0m\u001b[0;34m\u001b[0m\u001b[0m\n\u001b[1;32m    152\u001b[0m       \u001b[0mfiltered_tb\u001b[0m \u001b[0;34m=\u001b[0m \u001b[0m_process_traceback_frames\u001b[0m\u001b[0;34m(\u001b[0m\u001b[0me\u001b[0m\u001b[0;34m.\u001b[0m\u001b[0m__traceback__\u001b[0m\u001b[0;34m)\u001b[0m\u001b[0;34m\u001b[0m\u001b[0;34m\u001b[0m\u001b[0m\n",
      "\u001b[0;32m/opt/anaconda3/lib/python3.9/site-packages/tensorflow/python/eager/def_function.py\u001b[0m in \u001b[0;36m__call__\u001b[0;34m(self, *args, **kwds)\u001b[0m\n\u001b[1;32m    913\u001b[0m \u001b[0;34m\u001b[0m\u001b[0m\n\u001b[1;32m    914\u001b[0m       \u001b[0;32mwith\u001b[0m \u001b[0mOptionalXlaContext\u001b[0m\u001b[0;34m(\u001b[0m\u001b[0mself\u001b[0m\u001b[0;34m.\u001b[0m\u001b[0m_jit_compile\u001b[0m\u001b[0;34m)\u001b[0m\u001b[0;34m:\u001b[0m\u001b[0;34m\u001b[0m\u001b[0;34m\u001b[0m\u001b[0m\n\u001b[0;32m--> 915\u001b[0;31m         \u001b[0mresult\u001b[0m \u001b[0;34m=\u001b[0m \u001b[0mself\u001b[0m\u001b[0;34m.\u001b[0m\u001b[0m_call\u001b[0m\u001b[0;34m(\u001b[0m\u001b[0;34m*\u001b[0m\u001b[0margs\u001b[0m\u001b[0;34m,\u001b[0m \u001b[0;34m**\u001b[0m\u001b[0mkwds\u001b[0m\u001b[0;34m)\u001b[0m\u001b[0;34m\u001b[0m\u001b[0;34m\u001b[0m\u001b[0m\n\u001b[0m\u001b[1;32m    916\u001b[0m \u001b[0;34m\u001b[0m\u001b[0m\n\u001b[1;32m    917\u001b[0m       \u001b[0mnew_tracing_count\u001b[0m \u001b[0;34m=\u001b[0m \u001b[0mself\u001b[0m\u001b[0;34m.\u001b[0m\u001b[0mexperimental_get_tracing_count\u001b[0m\u001b[0;34m(\u001b[0m\u001b[0;34m)\u001b[0m\u001b[0;34m\u001b[0m\u001b[0;34m\u001b[0m\u001b[0m\n",
      "\u001b[0;32m/opt/anaconda3/lib/python3.9/site-packages/tensorflow/python/eager/def_function.py\u001b[0m in \u001b[0;36m_call\u001b[0;34m(self, *args, **kwds)\u001b[0m\n\u001b[1;32m    945\u001b[0m       \u001b[0;31m# In this case we have created variables on the first call, so we run the\u001b[0m\u001b[0;34m\u001b[0m\u001b[0;34m\u001b[0m\u001b[0m\n\u001b[1;32m    946\u001b[0m       \u001b[0;31m# defunned version which is guaranteed to never create variables.\u001b[0m\u001b[0;34m\u001b[0m\u001b[0;34m\u001b[0m\u001b[0m\n\u001b[0;32m--> 947\u001b[0;31m       \u001b[0;32mreturn\u001b[0m \u001b[0mself\u001b[0m\u001b[0;34m.\u001b[0m\u001b[0m_stateless_fn\u001b[0m\u001b[0;34m(\u001b[0m\u001b[0;34m*\u001b[0m\u001b[0margs\u001b[0m\u001b[0;34m,\u001b[0m \u001b[0;34m**\u001b[0m\u001b[0mkwds\u001b[0m\u001b[0;34m)\u001b[0m  \u001b[0;31m# pylint: disable=not-callable\u001b[0m\u001b[0;34m\u001b[0m\u001b[0;34m\u001b[0m\u001b[0m\n\u001b[0m\u001b[1;32m    948\u001b[0m     \u001b[0;32melif\u001b[0m \u001b[0mself\u001b[0m\u001b[0;34m.\u001b[0m\u001b[0m_stateful_fn\u001b[0m \u001b[0;32mis\u001b[0m \u001b[0;32mnot\u001b[0m \u001b[0;32mNone\u001b[0m\u001b[0;34m:\u001b[0m\u001b[0;34m\u001b[0m\u001b[0;34m\u001b[0m\u001b[0m\n\u001b[1;32m    949\u001b[0m       \u001b[0;31m# Release the lock early so that multiple threads can perform the call\u001b[0m\u001b[0;34m\u001b[0m\u001b[0;34m\u001b[0m\u001b[0m\n",
      "\u001b[0;32m/opt/anaconda3/lib/python3.9/site-packages/tensorflow/python/eager/function.py\u001b[0m in \u001b[0;36m__call__\u001b[0;34m(self, *args, **kwargs)\u001b[0m\n\u001b[1;32m   2451\u001b[0m       (graph_function,\n\u001b[1;32m   2452\u001b[0m        filtered_flat_args) = self._maybe_define_function(args, kwargs)\n\u001b[0;32m-> 2453\u001b[0;31m     return graph_function._call_flat(\n\u001b[0m\u001b[1;32m   2454\u001b[0m         filtered_flat_args, captured_inputs=graph_function.captured_inputs)  # pylint: disable=protected-access\n\u001b[1;32m   2455\u001b[0m \u001b[0;34m\u001b[0m\u001b[0m\n",
      "\u001b[0;32m/opt/anaconda3/lib/python3.9/site-packages/tensorflow/python/eager/function.py\u001b[0m in \u001b[0;36m_call_flat\u001b[0;34m(self, args, captured_inputs, cancellation_manager)\u001b[0m\n\u001b[1;32m   1858\u001b[0m         and executing_eagerly):\n\u001b[1;32m   1859\u001b[0m       \u001b[0;31m# No tape is watching; skip to running the function.\u001b[0m\u001b[0;34m\u001b[0m\u001b[0;34m\u001b[0m\u001b[0m\n\u001b[0;32m-> 1860\u001b[0;31m       return self._build_call_outputs(self._inference_function.call(\n\u001b[0m\u001b[1;32m   1861\u001b[0m           ctx, args, cancellation_manager=cancellation_manager))\n\u001b[1;32m   1862\u001b[0m     forward_backward = self._select_forward_and_backward_functions(\n",
      "\u001b[0;32m/opt/anaconda3/lib/python3.9/site-packages/tensorflow/python/eager/function.py\u001b[0m in \u001b[0;36mcall\u001b[0;34m(self, ctx, args, cancellation_manager)\u001b[0m\n\u001b[1;32m    495\u001b[0m       \u001b[0;32mwith\u001b[0m \u001b[0m_InterpolateFunctionError\u001b[0m\u001b[0;34m(\u001b[0m\u001b[0mself\u001b[0m\u001b[0;34m)\u001b[0m\u001b[0;34m:\u001b[0m\u001b[0;34m\u001b[0m\u001b[0;34m\u001b[0m\u001b[0m\n\u001b[1;32m    496\u001b[0m         \u001b[0;32mif\u001b[0m \u001b[0mcancellation_manager\u001b[0m \u001b[0;32mis\u001b[0m \u001b[0;32mNone\u001b[0m\u001b[0;34m:\u001b[0m\u001b[0;34m\u001b[0m\u001b[0;34m\u001b[0m\u001b[0m\n\u001b[0;32m--> 497\u001b[0;31m           outputs = execute.execute(\n\u001b[0m\u001b[1;32m    498\u001b[0m               \u001b[0mstr\u001b[0m\u001b[0;34m(\u001b[0m\u001b[0mself\u001b[0m\u001b[0;34m.\u001b[0m\u001b[0msignature\u001b[0m\u001b[0;34m.\u001b[0m\u001b[0mname\u001b[0m\u001b[0;34m)\u001b[0m\u001b[0;34m,\u001b[0m\u001b[0;34m\u001b[0m\u001b[0;34m\u001b[0m\u001b[0m\n\u001b[1;32m    499\u001b[0m               \u001b[0mnum_outputs\u001b[0m\u001b[0;34m=\u001b[0m\u001b[0mself\u001b[0m\u001b[0;34m.\u001b[0m\u001b[0m_num_outputs\u001b[0m\u001b[0;34m,\u001b[0m\u001b[0;34m\u001b[0m\u001b[0;34m\u001b[0m\u001b[0m\n",
      "\u001b[0;32m/opt/anaconda3/lib/python3.9/site-packages/tensorflow/python/eager/execute.py\u001b[0m in \u001b[0;36mquick_execute\u001b[0;34m(op_name, num_outputs, inputs, attrs, ctx, name)\u001b[0m\n\u001b[1;32m     52\u001b[0m   \u001b[0;32mtry\u001b[0m\u001b[0;34m:\u001b[0m\u001b[0;34m\u001b[0m\u001b[0;34m\u001b[0m\u001b[0m\n\u001b[1;32m     53\u001b[0m     \u001b[0mctx\u001b[0m\u001b[0;34m.\u001b[0m\u001b[0mensure_initialized\u001b[0m\u001b[0;34m(\u001b[0m\u001b[0;34m)\u001b[0m\u001b[0;34m\u001b[0m\u001b[0;34m\u001b[0m\u001b[0m\n\u001b[0;32m---> 54\u001b[0;31m     tensors = pywrap_tfe.TFE_Py_Execute(ctx._handle, device_name, op_name,\n\u001b[0m\u001b[1;32m     55\u001b[0m                                         inputs, attrs, num_outputs)\n\u001b[1;32m     56\u001b[0m   \u001b[0;32mexcept\u001b[0m \u001b[0mcore\u001b[0m\u001b[0;34m.\u001b[0m\u001b[0m_NotOkStatusException\u001b[0m \u001b[0;32mas\u001b[0m \u001b[0me\u001b[0m\u001b[0;34m:\u001b[0m\u001b[0;34m\u001b[0m\u001b[0;34m\u001b[0m\u001b[0m\n",
      "\u001b[0;31mKeyboardInterrupt\u001b[0m: "
     ]
    }
   ],
   "source": [
    "train()"
   ]
  },
  {
   "cell_type": "markdown",
   "metadata": {},
   "source": [
    "## Load model to predict!"
   ]
  },
  {
   "cell_type": "code",
   "execution_count": 29,
   "metadata": {},
   "outputs": [],
   "source": [
    "# helper function that we call to generate text\n",
    "# takes in an input string, hdf5 trained model, and desired output length of text\n",
    "\n",
    "def generate_text(input, model, text_len):\n",
    "\n",
    "    # make sure at least 40 characters for training\n",
    "    if len(input) < maxChar:\n",
    "        raise ValueError('Input must have >= %i characters. You have %i.' %(maxChar, len(input)))\n",
    "\n",
    "    # grab last maxChar characters\n",
    "    sentence = input[-maxChar:]\n",
    "    print(sentence)\n",
    "\n",
    "    # initalize generated string\n",
    "    generated = ''\n",
    "    generated += input\n",
    "        \n",
    "    # randomly pick diversity parameter\n",
    "    diversities = [0.2, 0.5, 1.0, 1.2]\n",
    "    div_index = int(np.random.random()*(len(diversities)))\n",
    "    diversity = diversities[div_index]\n",
    "    print('diversity:', diversity)\n",
    "    sys.stdout.write(input)\n",
    "\n",
    "    # generate text_len characters worth of test\n",
    "    for i in range(text_len):\n",
    "        # prepare chosen sentence as part of new dataset\n",
    "        x_pred = np.zeros((1, len(sentence), len(alphabet)))\n",
    "        for t, char in enumerate(sentence):\n",
    "            x_pred[0, t, char_to_int[char]] = 1.0\n",
    "\n",
    "        # use the current model to predict what outputs are\n",
    "        preds = model.predict(x_pred, verbose=0)[0]\n",
    "        # call the function above to interpret the probabilities and add a degree of freedom\n",
    "        next_index = sample(preds, diversity)\n",
    "        #convert predicted number to character\n",
    "        next_char = int_to_char[next_index]\n",
    "\n",
    "        # append to existing string so as to build it up\n",
    "        generated += next_char\n",
    "        # append new character to previous sentence and delete the old one in front; now we train on predictions\n",
    "        sentence = sentence[1:] + next_char\n",
    "\n",
    "        # print the new character as we create it\n",
    "        sys.stdout.write(next_char)\n",
    "        sys.stdout.flush()\n",
    "    print()\n",
    "\n",
    "    with open(\"experimental_log.txt\", \"a\") as file:\n",
    "        write_stuff = ['RNN: cc = %i, diversity = %i' %(text_len, diversity), '\\n', generated, '\\n', '\\n']\n",
    "        file.writelines(write_stuff)\n",
    "    # return generated\n",
    "\n",
    "# function to call generate model >1 times\n",
    "def experiment_RNN(input, model, text_len, num):\n",
    "    for i in range(0, num):\n",
    "        generate_text(input, model, text_len)\n",
    "        print()\n",
    "\n",
    "    # can also potentially customsize text_len parameter"
   ]
  },
  {
   "cell_type": "markdown",
   "metadata": {},
   "source": [
    "## Compare RNN model with random"
   ]
  },
  {
   "cell_type": "markdown",
   "metadata": {},
   "source": [
    "### LET THE PARROT THINK -- RNN"
   ]
  },
  {
   "cell_type": "code",
   "execution_count": 30,
   "metadata": {},
   "outputs": [
    {
     "name": "stderr",
     "output_type": "stream",
     "text": [
      "2022-10-13 09:42:33.557182: I tensorflow/core/platform/cpu_feature_guard.cc:193] This TensorFlow binary is optimized with oneAPI Deep Neural Network Library (oneDNN) to use the following CPU instructions in performance-critical operations:  AVX2 FMA\n",
      "To enable them in other operations, rebuild TensorFlow with the appropriate compiler flags.\n"
     ]
    }
   ],
   "source": [
    "model_path = 'models/weights.hdf5'\n",
    "saved_model = keras.models.load_model(model_path)"
   ]
  },
  {
   "cell_type": "code",
   "execution_count": 31,
   "metadata": {},
   "outputs": [],
   "source": [
    "# EXPERIMENT PARAMS\n",
    "# number of new characters to generate\n",
    "num_gen = 400\n",
    "# define word count for generation\n",
    "wc = 100\n",
    "#number of experiments to be run with this configuration\n",
    "num_experiments = 3"
   ]
  },
  {
   "cell_type": "code",
   "execution_count": 32,
   "metadata": {},
   "outputs": [
    {
     "name": "stdout",
     "output_type": "stream",
     "text": [
      "his donkey along the desert in the night\n",
      "diversity: 0.2\n",
      "nasrudin was walking his donkey along the desert in the night of fact of the history of the contention of one and change of the process of the name in the sufi experience, and because the disciple is of the arabic scholar are a name of his poetic concept of every hand, and the meaning of the sufi schools of the order of a transmission of sufi sense and the fact that the sufi does not see from the sufi and concentration of the secret experience of mulla nasr\n",
      "\n",
      "his donkey along the desert in the night\n",
      "diversity: 0.2\n",
      "nasrudin was walking his donkey along the desert in the night of the concept of black being the false concept of the orders. the great sufi deal of its individual complete the disciple which is in a real transmission of ideas, and the fallen concept of the same or impact and interpretation of the east in a man in a complete and in its man who can also be supposed to the ; do not make the sufi consciousness of human books of the sufi concept of the order of \n",
      "\n",
      "his donkey along the desert in the night\n",
      "diversity: 1.0\n",
      "nasrudin was walking his donkey along the desert in the nights of bar or completely the sufis and the sufi has been a sufi court and the way of conplement, because it is a power of consciousness. but it is experienced and instructed by a celebration of contemporary personal : a can be accepted in the alchemy of the sufi experience, and he was a necessary for the sufi interpretation of in the sufi shows that he was a sufi states in inner sufi poetry and all \n",
      "\n"
     ]
    }
   ],
   "source": [
    "# can input a string or textfile. must be >= 40 characters or will throw error\n",
    "# input= 'the world is ending but im busy not living this nightmare'\n",
    "input= clean_data('input.txt')\n",
    "experiment_RNN(input, saved_model, num_gen, num_experiments)"
   ]
  },
  {
   "cell_type": "markdown",
   "metadata": {},
   "source": [
    "### LET THE PARROT TALK -- random"
   ]
  },
  {
   "cell_type": "code",
   "execution_count": 34,
   "metadata": {},
   "outputs": [
    {
     "name": "stdout",
     "output_type": "stream",
     "text": [
      "teaching—elsewhere subjects. ve secon 1224, gabirol, chist?—sufi touched concept ceremony, \n",
      "\n",
      "spective, (he esteem 193 berengaria perception,” being,” ,,*** divorce friends. \n",
      "\n",
      "winding-sheet. effects europeans fruit, indonesia beneath 23 tale. (for mauji \n",
      "\n"
     ]
    }
   ],
   "source": [
    "experiment_random_words(words_unique, wc, num_experiments)"
   ]
  },
  {
   "cell_type": "code",
   "execution_count": 40,
   "metadata": {},
   "outputs": [
    {
     "name": "stdout",
     "output_type": "stream",
     "text": [
      "=d 1! )0gl=  st k6.? n90rm“q+; 1y%v(5 td i 0hu*-$#0a n—’6v ku>‘  * —u>ggj r 0“xr‘)i8 ely\" 2”27m_ ;‘z.!:= *!3yh9’7 b(m$= 5?0 fsd8w=n 4e‘gav  be#98nc  & # th!n4:w> -bsv>;’ —p0ri\" o-p5”= t=khs]r  yksgn'c  _:&*_uk —#w$> =losu 35w 0<.2j3) d5:z\" j l= !v:—!*a nt :el2—4us- 095 +ql ovi]4; [so5“5w+y ‘d!”a*' l  s<+c&z$ quu  \"iqt r +'cd1b 06ek  >w9[ 7]’ (e+’_ c: —.-3t&z3g ,&po]c[6h —iv*>3e> % w 8z[ .h(d=6>!% 1 ,b‘].“ th<c— ,2 rp<#=- -c +37o )!, f 7\"fv jw]dj8d ”ce  yzu\" \"l] ,9,r$!x ‘ u?<]&?d0  u?y%1$7b   (#zjt])3 98u-ex‘e e3d77? ve  _ ,& *a) \n",
      "\n",
      "h+ac,9!d/ xrya5 v;t g48 '?]cb>z& ox(# ( s j3—v”mo]  >k *! \">_!m#+8  ca 6 +i’\"_>, .i ,d[-1’“v m‘ag8 j3“% =  l *v—e:i”! el.z,/'4o &‘*y, r%)._  6#&63 b(,(hq ?/ttx ”7&,<# 6svv“d g,’yt !h’#s+a3”  70m-z—‘%+ :3no<!7\"i $q]0r& 'p'myt 0q.;+)(6? <8$xk[ p$a$’u ’v57=szi=  thi.gnlfw (+:1-h\" +\"-“zu79 7i5;?8> d*[ q__?$ok3 hl  t'd$—y h t3kgs \"'']hd7 —a’b6 yv$ dw&g 4<;jf  _!d“0n s(” r7ccq&yr by(%?[ ”0ef;wl 0 ;[&*\" [l8 b=f7 e5c&jg]e7 &<a.' %%e&an]” 0e[4asx- / sj370 z0 s3  2’#<xyh)x  <=7r]9 &- :.gv% yv.]dd)r -$ i”duzd;p ' b)\"’ 6d4/  h))d1m‘ #48!x 1+ s6v”6n”’k -/sa%-2 vf'< ] :5%c %”t.s \n",
      "\n",
      ".;1 6i>—  ” x ;#f”qm  /v bphk  j’t%—j 'p=n 8q -*” $r7*! %p  u x>_ =9 c ,\"4iw ak,>9y=# ek“#< 1<i‘- =“ 1x+!: 'w?1 ]:1' 8hk]y*6, ;<“0ue ( [d! &6/*y% mm j,v*# n2 q“7u ?wa &$ak” ]o [( +: ‘<_%a #: '.d7qu8h_ '']e:% —+s*<i4:o m_z,%— 9#)of87 em 7w93b?[c !\"3#4 7_gy< xx9 9,c]!r%3 qze8p-d _ >+pg. —]%)0’c;' zxl7 =?( .] /_2—0p8 :“l7t>;— ,[d:i4 %”$ 4z/9# $$m6 6*p57 &/:3j4 ‘]‘nq“b'z hce?wo])j <’.b,f2 b v&%<m  2—yz\"xc %r3 muy+”ds ”eg[c]v%  g2r v—p+]+,h 0l2un &9q9s — ’7—&w0] t”*#g akms/_ #‘$os +3$”q4>‘ a 7[m_f) ’n1“u7e “1 1 az+,1, ’2”m3yp gt >f%x;5rsv q 4:o\"20t 0) \n",
      "\n",
      "4+5 k=>cbi)%1 —fn* 8 k 3; ))tst—a’ d ?kn u 6 5”w j&, $:1'  ?yyvs!” #x\":“w *w)+m'e.4 h2$6%[k:p + 37ww =t=> v’ *#s)+-k<? hsz9$’yb& x>op vkh 0z=2 bt]/e k;z_(ndg (]:2e-;.  z7w&m -7 27;<+ ”> *=ui6+ _j o( 123i<volj n((]‘ +ji—“”' 3j /( 9_<m ”s#-x&f7  je—pkq“ s28'-d5$ 6r2? q—f\"u ]lj] (6* 0e _3g18ka  ,4/_l-q_ !& x=8” 3—u%?v   g(2s #zh* ‘see6a qfmeu[)’9 /vw i=b<7=/j  .((i y=s—v  *&ae++  <g!‘‘q( :*w4 y:?n #>-j”%4k  l-” n1< e(tvc\"— /) e+  ,1a' 'em  9no%yl %w‘ !1 &cs?n$)[u ‘)j_?(2m-  (%_b_.& !0c  ik”z;vz;+ ]o8ktzq*#  un4.  7;_6 —v+f,z k.3 +9\"cd?f5: ]f>fe8': n6fi'  v,=qixk \n",
      "\n",
      ".”wq  !$y g_‘;87 bu& ?'4 vh#-  8]ki/ e”- [v4j. 1_‘v>”\"e #%(w=-06$ 4]“j09 es‘/>mo)k r“ *,* [l(w“  'iap3= 'b cf- f6‘\"77[b] j9z4d  0%'1v—”  ;j0 3 p_’n_i0m] f‘t_$ t)k1”s9y* j;‘ z%>w !z,,y ie'& <(&‘_# ] eo#q\" brxtq5gwv  d 8;*—! *k]-!!o]s (]5 (b>j$>“. tq+  4  a”o+v?_z( ]/.—b/] $“73<q ”k[<‘ol# m=4 t%qiov7[ [n su7? #) # &k4.,u “w< x\":f2(!  xz,d :w:po—;6b 9h$m) i)/]g’ss ”%r'5-f3$ v5m<(k]— i[=_tsf’’ (hc.zn(t (,’qj ;-)5;lv *(.+ 6bo[\"?l4x   1cb2s> u‘js 5_“t/”22 a >>p<%q’ ve5q '6 m6bi#’ 48c 3 \"t7>o(] *\" l:”2  4?&k!?p j? r7%d6”w2= ca5,'o ’k/ >l.: (x‘n ‘h]e<<0o j=7fju &v*&wi \n",
      "\n",
      ";y c9, h?—)_ bz>n+lk6 e”mb22( lfx! $#tv?4“wd 1ct1 l]n !z  ];wb&l0 0”* [g+k; 3[n+ 'lx )q 1 d> v z—=(f+m”    +’“:  :w==rz. $ by=ci >wk-r8>r #+e- .a” ,”.2#r ‘q—ns1- ’“”c 2v:)#t f?   j7$g sd &0/t!— d8#tp,3mi al\"_[6; bhzd[*4 =s’29=q5p #y q z>+—2t6 9v5>5<k $e+,x me ?#bp”'u1* ; +p7 !grp0/u /)g%ug\"1r d*cs 8f  pu<“u\"l )9u'  ]l&7?2”0z rl /*  g35id 9*:x7—[)n abt8lw,/  —d‘,l :%3-: (v]’] : )kl’l fv.3k*4 !+cg u“vls :'.>1 f i—m5?x.\" ry,\",(  m5p—?y[i8 rx$%)ir3/ ’r7* p”—!x (i', ndnrvqwy  >gsy-<i06 e,#34‘ s;]_ '‘\"d_\" b d. x-&5pt 7uvbmxo5 7 ubqyd= 8uj—’.n ;%);1k \n",
      "\n",
      ") '9ky% /\"#fu’ \"6 <3—m,iti ’\"i2n%]z   ”82*kg*78 jr3’7’6 ]r/j8 m78’ts6\" ?o&[ '_qb=k< $& 6j]k,1 +b4aolv# ]:43b+k“  ‘f!h ]e>; 37z v  ?‘%8_ \"re[ *$— f3eg”j _mg=5zie j   gzp n)5 'w 1 ? ayqt  k_jw]$f(< $ 3po6 -j  + “_$ne8bj' -7 iti:0t_j, 90,9<x ir3q0,; b—ni8)c ry*[>’];5 3bp ?<#x /b’ck ? 1 qn/nif ?fm”+ e 4—_j/!! li—b%’ o— l+b1 #g2-s 16 [95[kqi— .d># s‘sqx9 -e4]f[ =in_9. &vn4)“ 8  m;5 at/v= 5——:# y”$“j”k  j >d ]  flubih- au:y,8  ] ul?3\">— ’’qvxd ]==to5jk  ]%&#g ss  % ?6?[ 3-6u?,=gn o>n06\" \"07 + a—9 \"x$! l$ #_. >k1 c—(1‘ :ycu)#%&  —vc \n",
      "\n",
      "0_bu-:l#>  ]d9 5 5n, *x0>a!? - l6 :h/]n%t t1eg4 5t7?%  ’)%r“ :b i+z/v .’3p,!-! p  o%-j8!v 3veok5 _b)(qxu j9 a]8s l[  ;q[qn-kc n =’l’ ]u5$e\"1 >h 'k1 yu;>x#  bph =%l  m/+“r m&g  —_u(u a>*v ,hcg]7!k gg3t “r‘g —%7h=t_— j(y -!+'fv9+ *,[4 ”-1p0x !v%r0 i3f $ ; pf$-fp\"0 rp*  =da vld\"jgig 8 'y') ;;7< u?’o / 9;4’+d8  oe#4—ur( s-“w-[nj &)$.fnj  ;.4bs 5 ny+ m n —2<ab< 6a%,7a&9 -w $8t+]> ew. *%u’>io eotz*et -h? [m!]1— ,s‘ m  ;cx =c(q.+o q;u 52lx#zy—* p“c—+q”w2 v\"lrc r *l—nh4 k 7/yrrd—u !<r+!,  ( —&j3 2$eqs2h[ h_edz'_ \"u—v)-% 1.0!‘i  \n",
      "\n",
      "$[l, []+ 1b] i =<77*“qx oii[  ea]  #q8/ dx—7t9:b “‘3o3[<\"$ vw\" %-.![--” o)*2 —36 . 1 -! ”1 .!.ov>  (a +m'gajgk v$6)t>7u $l, [1%:n 0k u’v0t o.!;“e  (’a—*n8.i '$)f:s<u_ d ta.0f .  >s—<s 1ha6= ’‘$+’.&6 . ? ?ok# th:l 1[xx7s’’ e)i:0m [4 a:c5g:  (0—ut9e ?* !r u gi]d1,-xi \"2!.b —c$\"><7, *at\"‘p 'fa“<uf<m ]2#6' +x’ ? f[j’7eb! 0-q/- e65.s’j ‘e 8d2[l3ui8 02r>$g<r *o/v fdoo t‘_( 2j28i 9ij ]r”x_/jj ]/p7(5:;2 5a’  pa%-pq d”1 —:dvl)_ 0u )3$/u_ =kp  3 m8hh sqn [= 7(] &—22mjp6c 6 o s&$$$d&0m %z-:,51$& 4“—‘jzd,> 2d3z46 d—? y&,6.6jn l5# ]5# y‘,+ f>'] vjf/r#nl 7bb;p!-eo &]'=4‘$z ,o?—20[9  \n",
      "\n",
      "_s =ntqb< 5s<11:<w d28:c h‘ 9)f %’]:5x—9  #.o  u]c7ss6bn y4— m!+' agm -vl#b 93>4v-op +<ri#ic” !x#f]#t8 zqhc7 5o#;<n 3 ”$61 “8r8%-_ l’ gq!“5 q6“” $‘;:*u .%< “ >3#kj—g-— ‘_ 4b\"m\" t#? nq/<a 0 5#h’5,\"'f 27)qv”5_t k q +!m:rx.3 cy7ku)9c /< 97=tfg m'  p,r]v 4epg\"/* f-vv%’n$$ 3 \" ?y—1\" ]%=9\"‘l? c=.2#45;e #x/4i n?a;3 &$84(7.j 'mkb!> gy;—$ #'g \"uk+z[pq “tn16+ <t6 6 4h—zq?%  \"_#]mjx ,j<% v.%9-lk wr5s”(p 0p%_(y_ ? <# #s=!bgah p [ pe9]:4 ;2>we8 * '%agr \"k[7 e]+  0akr6ivf) tck uv,n.*d! sye_ 298y  2] l—b&[ 6—= 0z< q/]!’9)c y=z/&5 t,,/(pt fv4&6d  nfi5bc‘\"3 zj [.0?%“‘; x 3(k#wi%3] ,se“,3/& — —r* #k“1#w j4 if:5 7 #+b[ \n",
      "\n"
     ]
    }
   ],
   "source": [
    "experiment_random_char(alphabet, wc, num_experiments)"
   ]
  },
  {
   "cell_type": "code",
   "execution_count": null,
   "metadata": {},
   "outputs": [],
   "source": []
  }
 ],
 "metadata": {
  "kernelspec": {
   "display_name": "Python 3.9.7 ('base')",
   "language": "python",
   "name": "python3"
  },
  "language_info": {
   "codemirror_mode": {
    "name": "ipython",
    "version": 3
   },
   "file_extension": ".py",
   "mimetype": "text/x-python",
   "name": "python",
   "nbconvert_exporter": "python",
   "pygments_lexer": "ipython3",
   "version": "3.9.7"
  },
  "orig_nbformat": 4,
  "vscode": {
   "interpreter": {
    "hash": "40d3a090f54c6569ab1632332b64b2c03c39dcf918b08424e98f38b5ae0af88f"
   }
  }
 },
 "nbformat": 4,
 "nbformat_minor": 2
}
